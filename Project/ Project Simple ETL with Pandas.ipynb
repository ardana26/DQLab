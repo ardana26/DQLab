{
 "cells": [
  {
   "cell_type": "markdown",
   "id": "7c32d048",
   "metadata": {},
   "source": [
    "<h1>Transform Data</h1>"
   ]
  },
  {
   "cell_type": "code",
   "execution_count": 25,
   "id": "43039227",
   "metadata": {},
   "outputs": [],
   "source": [
    "import warnings\n",
    "warnings.filterwarnings('ignore')\n",
    "\n",
    "# Extract\n",
    "import pandas as pd\n",
    "df_participant = pd.read_csv('../Dataset/dqthon-participants.csv')"
   ]
  },
  {
   "cell_type": "code",
   "execution_count": 26,
   "id": "f90dfe0c",
   "metadata": {},
   "outputs": [],
   "source": [
    "# Transform Bagian I - Kode Pos\n",
    "# membuat kolom baru lalu memuat informasi yang diambil dari kolom 'addres'\n",
    "\n",
    "# berada di paling akhir dari alamat\n",
    "df_participant['postal_code'] = df_participant['address'].str.extract(r'(\\d+)$')"
   ]
  },
  {
   "cell_type": "code",
   "execution_count": 27,
   "id": "4760098c",
   "metadata": {},
   "outputs": [],
   "source": [
    "# Transform Bagian II - Kota\n",
    "# membuat kolom baru lalu memuat informasi yang diambil dari kolom 'addres'\n",
    "\n",
    "# kota merupakan sekumpulan karakter yang terdapat setelah nomor jalan diikuti dengan \\n (newline character) atau dalam bahasa lainnya yaitu enter.\n",
    "df_participant['city'] = df_participant['address'].str.extract(r'(?<=\\n)(\\w.+)(?=,)')"
   ]
  },
  {
   "cell_type": "code",
   "execution_count": 28,
   "id": "0240bb31",
   "metadata": {},
   "outputs": [],
   "source": [
    "# Transform Bagian III - Github\n",
    "# membuat kolom baru lalu memuat informasi yang diambil dari kolom first_name dan last_name\n",
    "df_participant['github_profile'] = 'https://github.com/' + df_participant['first_name'].str.lower() + df_participant['last_name'].str.lower()"
   ]
  },
  {
   "cell_type": "code",
   "execution_count": 32,
   "id": "a9b81c48",
   "metadata": {},
   "outputs": [],
   "source": [
    "# Transform Bagian IV - Nomor Handphone\n",
    "# melakukan cleansing pada data nomor handphone agar memiliki format yang sama.\n",
    "\n",
    "# Jika awalan nomor HP berupa angka 62 atau +62 yang merupakan kode telepon Indonesia, maka diterjemahkan ke 0.\n",
    "df_participant['cleaned_phone_number'] = df_participant['phone_number'].str.replace(r'^(\\+62|62)', '0')\n",
    "\n",
    "# Tidak ada tanda baca seperti kurung buka, kurung tutup, strip⟶ ()-\n",
    "df_participant['cleaned_phone_number'] = df_participant['cleaned_phone_number'].str.replace(r'[()-]', '')\n",
    "\n",
    "# Tidak ada spasi pada nomor HP\n",
    "df_participant['cleaned_phone_number'] = df_participant['cleaned_phone_number'].str.replace(r'\\s+', '')"
   ]
  },
  {
   "cell_type": "code",
   "execution_count": 38,
   "id": "bb4727e5",
   "metadata": {},
   "outputs": [],
   "source": [
    "# Transform Bagian V - Nama Tim\n",
    "# nama tim merupakan gabungan nilai dari kolom first_name, last_name, country dan institute.\n",
    "\n",
    "def func(col):\n",
    "    # Singkatan dari Nama Depan dan Nama Belakang dengan mengambil huruf pertama\n",
    "    abbrev_name = \"%s%s\"%(col['first_name'][0], col['last_name'][0])\n",
    "    \n",
    "    # mengambik dari kolom 'country'\n",
    "    country = col['country']\n",
    "    \n",
    "    # Singkatan dari value di kolom institute\n",
    "    abbrev_institue = \"%s\"%(''.join(list(map(lambda word: word[0], col['institute'].split()))))\n",
    "    \n",
    "    return \"%s-%s-%s\"%(abbrev_name, country, abbrev_institue)\n",
    "\n",
    "df_participant['team_name'] = df_participant.apply(func, axis=1)"
   ]
  },
  {
   "cell_type": "code",
   "execution_count": 50,
   "id": "014a0555",
   "metadata": {},
   "outputs": [],
   "source": [
    "# Transform Bagian VI - Email\n",
    "\n",
    "def func(col):\n",
    "    first_name_lower = col['first_name'].lower()\n",
    "    last_name_lower = col['last_name'].lower()\n",
    "    institute = ''.join(list(map(lambda word: word[0], col['institute'].lower().split())))\n",
    "    if 'Universitas' in col['institute']:\n",
    "        if len(col['country'].split()) > 1:\n",
    "            country = ''.join(list(map(lambda word: word[0], col['country'].lower().split())))\n",
    "        else:\n",
    "            country = col['country'][:3].lower()\n",
    "        return \"%s%s@%s.ac.%s\"%(first_name_lower, last_name_lower, institute, country)\n",
    "    \n",
    "    return \"%s%s@%s.com\"%(first_name_lower, last_name_lower, institute)\n",
    "\n",
    "df_participant['email'] = df_participant.apply(func, axis=1)"
   ]
  },
  {
   "cell_type": "code",
   "execution_count": 60,
   "id": "22176f6c",
   "metadata": {},
   "outputs": [],
   "source": [
    "# Transform Bagian VII - Tanggal Lahir\n",
    "df_participant['birth_date'] = pd.to_datetime(df_participant['birth_date'], format='%d %b %Y')"
   ]
  },
  {
   "cell_type": "code",
   "execution_count": 62,
   "id": "1758c0c2",
   "metadata": {},
   "outputs": [],
   "source": [
    "# Transform Bagian VII - Tanggal Daftar Kompetisi\n",
    "df_participant['register_at'] = pd.to_datetime(df_participant['register_time'], unit='s')"
   ]
  }
 ],
 "metadata": {
  "kernelspec": {
   "display_name": "Python 3 (ipykernel)",
   "language": "python",
   "name": "python3"
  },
  "language_info": {
   "codemirror_mode": {
    "name": "ipython",
    "version": 3
   },
   "file_extension": ".py",
   "mimetype": "text/x-python",
   "name": "python",
   "nbconvert_exporter": "python",
   "pygments_lexer": "ipython3",
   "version": "3.9.7"
  }
 },
 "nbformat": 4,
 "nbformat_minor": 5
}
