{
 "cells": [
  {
   "cell_type": "code",
   "execution_count": 12,
   "id": "42c34638",
   "metadata": {},
   "outputs": [],
   "source": [
    "# Mengakses API covid19.go.id\n",
    "import requests\n",
    "resp = requests.get('https://data.covid19.go.id/public/api/update.json')"
   ]
  },
  {
   "cell_type": "code",
   "execution_count": 13,
   "id": "a0cc209f",
   "metadata": {},
   "outputs": [
    {
     "name": "stdout",
     "output_type": "stream",
     "text": [
      "<Response [200]>\n"
     ]
    }
   ],
   "source": [
    "print(resp)    \n",
    "# output: 200\n",
    "# Artinya permintaan sukses dipenuhi."
   ]
  },
  {
   "cell_type": "code",
   "execution_count": 14,
   "id": "962b6e48",
   "metadata": {},
   "outputs": [
    {
     "name": "stdout",
     "output_type": "stream",
     "text": [
      "{'Server': 'nginx', 'Date': 'Sun, 30 Jan 2022 14:57:01 GMT', 'Content-Type': 'application/json', 'Transfer-Encoding': 'chunked', 'Connection': 'keep-alive', 'Vary': 'Accept-Encoding, Accept-Encoding', 'Last-Modified': 'Sun, 30 Jan 2022 14:53:46 GMT', 'ETag': 'W/\"61f6a67a-422fa\"', 'X-Content-Type-Options': 'nosniff, nosniff', 'X-XSS-Protection': '1; mode=block, 1; mode=block', 'Strict-Transport-Security': 'max-age=31536000; includeSubDomains; preload', 'Content-Encoding': 'gzip'}\n"
     ]
    }
   ],
   "source": [
    "print(resp.headers) # untuk mengetahui metadata apa saja yang tersimpan"
   ]
  },
  {
   "cell_type": "code",
   "execution_count": 15,
   "id": "748183a6",
   "metadata": {},
   "outputs": [],
   "source": [
    "# Mengekstrak Isi Respon\n",
    "cov_id_raw = resp.json()"
   ]
  },
  {
   "cell_type": "code",
   "execution_count": 16,
   "id": "f8650a49",
   "metadata": {},
   "outputs": [
    {
     "name": "stdout",
     "output_type": "stream",
     "text": [
      "Length of cov_id_raw : 2.\n",
      "Komponen cov_id_raw  : dict_keys(['data', 'update']).\n"
     ]
    }
   ],
   "source": [
    "print('Length of cov_id_raw : %d.'%len(cov_id_raw))\n",
    "print('Komponen cov_id_raw  : %s.'%cov_id_raw.keys())\n",
    "cov_id_update = cov_id_raw['update']"
   ]
  },
  {
   "cell_type": "markdown",
   "id": "01d901eb",
   "metadata": {},
   "source": [
    "**Analisa Data**"
   ]
  },
  {
   "cell_type": "code",
   "execution_count": 17,
   "id": "0e6a16b1",
   "metadata": {},
   "outputs": [
    {
     "name": "stdout",
     "output_type": "stream",
     "text": [
      "Tanggal pembaharuan data penambahan kasus: 2022-01-30\n",
      "Jumlah penambahan kasus sembuh: 3241\n",
      "Jumlah penambahan kasus meninggal: 18\n",
      "Jumlah total kasus positif hingga saat ini: 4343185\n",
      "Jumlah total kasus meninggal hingga saat ini: 144303\n"
     ]
    }
   ],
   "source": [
    "print('Tanggal pembaharuan data penambahan kasus:', cov_id_update['penambahan']['tanggal'])\n",
    "print('Jumlah penambahan kasus sembuh:', cov_id_update['penambahan']['jumlah_sembuh'])\n",
    "print('Jumlah penambahan kasus meninggal:', cov_id_update['penambahan']['jumlah_meninggal'])\n",
    "print('Jumlah total kasus positif hingga saat ini:', cov_id_update['total']['jumlah_positif'])\n",
    "print('Jumlah total kasus meninggal hingga saat ini:', cov_id_update['total']['jumlah_meninggal'])"
   ]
  },
  {
   "cell_type": "markdown",
   "id": "b2e802a4",
   "metadata": {},
   "source": [
    "**Apa Kabar Jawa Barat?**"
   ]
  },
  {
   "cell_type": "code",
   "execution_count": 18,
   "id": "0eb3e931",
   "metadata": {},
   "outputs": [],
   "source": [
    "resp_jabar = requests.get('https://data.covid19.go.id/public/api/prov_detail_JAWA_BARAT.json')\n",
    "cov_jabar_raw = resp_jabar.json()"
   ]
  },
  {
   "cell_type": "code",
   "execution_count": 20,
   "id": "a9b91838",
   "metadata": {},
   "outputs": [
    {
     "name": "stdout",
     "output_type": "stream",
     "text": [
      "Nama-nama elemen utama:\n",
      " dict_keys(['last_date', 'provinsi', 'kasus_total', 'kasus_tanpa_tgl', 'kasus_dengan_tgl', 'meninggal_persen', 'meninggal_tanpa_tgl', 'meninggal_dengan_tgl', 'sembuh_persen', 'sembuh_tanpa_tgl', 'sembuh_dengan_tgl', 'list_perkembangan', 'data'])\n"
     ]
    }
   ],
   "source": [
    "# Memahami Kasus COVID-19 di Jawa Barat\n",
    "print('Nama-nama elemen utama:\\n', cov_jabar_raw.keys())"
   ]
  },
  {
   "cell_type": "code",
   "execution_count": 24,
   "id": "3706e59f",
   "metadata": {},
   "outputs": [
    {
     "name": "stdout",
     "output_type": "stream",
     "text": [
      "Jumlah total kasus COVID-19 di Jawa Barat                 : 722164\n",
      "Persentase kematian akibat COVID-19 di Jawa Barat         : 2.05%\n",
      "Persentase tingkat kesembuhan dari COVID-19 di Jawa Barat : 96.27%\n"
     ]
    }
   ],
   "source": [
    "print('Jumlah total kasus COVID-19 di Jawa Barat                 : %d' %cov_jabar_raw['kasus_total'])\n",
    "print('Persentase kematian akibat COVID-19 di Jawa Barat         : %.2f%%' %cov_jabar_raw['meninggal_persen'])\n",
    "print('Persentase tingkat kesembuhan dari COVID-19 di Jawa Barat : %.2f%%' %cov_jabar_raw['sembuh_persen'])"
   ]
  },
  {
   "cell_type": "markdown",
   "id": "ad4a3232",
   "metadata": {},
   "source": [
    "**Memperoleh Informasi yang Lebih Lengkap**"
   ]
  },
  {
   "cell_type": "code",
   "execution_count": 27,
   "id": "bb8f229e",
   "metadata": {},
   "outputs": [],
   "source": [
    "import numpy as np\n",
    "import pandas as pd\n",
    "\n",
    "cov_jabar = pd.DataFrame(cov_jabar_raw['list_perkembangan'])"
   ]
  },
  {
   "cell_type": "code",
   "execution_count": 28,
   "id": "6614b4c2",
   "metadata": {},
   "outputs": [
    {
     "name": "stdout",
     "output_type": "stream",
     "text": [
      "Info cov_jabar:\n",
      "<class 'pandas.core.frame.DataFrame'>\n",
      "RangeIndex: 698 entries, 0 to 697\n",
      "Data columns (total 9 columns):\n",
      " #   Column                        Non-Null Count  Dtype\n",
      "---  ------                        --------------  -----\n",
      " 0   tanggal                       698 non-null    int64\n",
      " 1   KASUS                         698 non-null    int64\n",
      " 2   MENINGGAL                     698 non-null    int64\n",
      " 3   SEMBUH                        698 non-null    int64\n",
      " 4   DIRAWAT_OR_ISOLASI            698 non-null    int64\n",
      " 5   AKUMULASI_KASUS               698 non-null    int64\n",
      " 6   AKUMULASI_SEMBUH              698 non-null    int64\n",
      " 7   AKUMULASI_MENINGGAL           698 non-null    int64\n",
      " 8   AKUMULASI_DIRAWAT_OR_ISOLASI  698 non-null    int64\n",
      "dtypes: int64(9)\n",
      "memory usage: 49.2 KB\n"
     ]
    }
   ],
   "source": [
    "print('Info cov_jabar:')\n",
    "cov_jabar.info()"
   ]
  },
  {
   "cell_type": "code",
   "execution_count": 29,
   "id": "83277e11",
   "metadata": {},
   "outputs": [
    {
     "name": "stdout",
     "output_type": "stream",
     "text": [
      "Lima data teratas cov_jabar:\n"
     ]
    },
    {
     "data": {
      "text/html": [
       "<div>\n",
       "<style scoped>\n",
       "    .dataframe tbody tr th:only-of-type {\n",
       "        vertical-align: middle;\n",
       "    }\n",
       "\n",
       "    .dataframe tbody tr th {\n",
       "        vertical-align: top;\n",
       "    }\n",
       "\n",
       "    .dataframe thead th {\n",
       "        text-align: right;\n",
       "    }\n",
       "</style>\n",
       "<table border=\"1\" class=\"dataframe\">\n",
       "  <thead>\n",
       "    <tr style=\"text-align: right;\">\n",
       "      <th></th>\n",
       "      <th>tanggal</th>\n",
       "      <th>KASUS</th>\n",
       "      <th>MENINGGAL</th>\n",
       "      <th>SEMBUH</th>\n",
       "      <th>DIRAWAT_OR_ISOLASI</th>\n",
       "      <th>AKUMULASI_KASUS</th>\n",
       "      <th>AKUMULASI_SEMBUH</th>\n",
       "      <th>AKUMULASI_MENINGGAL</th>\n",
       "      <th>AKUMULASI_DIRAWAT_OR_ISOLASI</th>\n",
       "    </tr>\n",
       "  </thead>\n",
       "  <tbody>\n",
       "    <tr>\n",
       "      <th>0</th>\n",
       "      <td>1583193600000</td>\n",
       "      <td>1</td>\n",
       "      <td>1</td>\n",
       "      <td>0</td>\n",
       "      <td>0</td>\n",
       "      <td>1</td>\n",
       "      <td>0</td>\n",
       "      <td>1</td>\n",
       "      <td>0</td>\n",
       "    </tr>\n",
       "    <tr>\n",
       "      <th>1</th>\n",
       "      <td>1583280000000</td>\n",
       "      <td>1</td>\n",
       "      <td>0</td>\n",
       "      <td>0</td>\n",
       "      <td>1</td>\n",
       "      <td>2</td>\n",
       "      <td>0</td>\n",
       "      <td>1</td>\n",
       "      <td>1</td>\n",
       "    </tr>\n",
       "    <tr>\n",
       "      <th>2</th>\n",
       "      <td>1583366400000</td>\n",
       "      <td>1</td>\n",
       "      <td>0</td>\n",
       "      <td>0</td>\n",
       "      <td>1</td>\n",
       "      <td>3</td>\n",
       "      <td>0</td>\n",
       "      <td>1</td>\n",
       "      <td>2</td>\n",
       "    </tr>\n",
       "    <tr>\n",
       "      <th>3</th>\n",
       "      <td>1583452800000</td>\n",
       "      <td>1</td>\n",
       "      <td>0</td>\n",
       "      <td>0</td>\n",
       "      <td>1</td>\n",
       "      <td>4</td>\n",
       "      <td>0</td>\n",
       "      <td>1</td>\n",
       "      <td>3</td>\n",
       "    </tr>\n",
       "    <tr>\n",
       "      <th>4</th>\n",
       "      <td>1583539200000</td>\n",
       "      <td>0</td>\n",
       "      <td>0</td>\n",
       "      <td>0</td>\n",
       "      <td>0</td>\n",
       "      <td>4</td>\n",
       "      <td>0</td>\n",
       "      <td>1</td>\n",
       "      <td>3</td>\n",
       "    </tr>\n",
       "  </tbody>\n",
       "</table>\n",
       "</div>"
      ],
      "text/plain": [
       "         tanggal  KASUS  MENINGGAL  SEMBUH  DIRAWAT_OR_ISOLASI  \\\n",
       "0  1583193600000      1          1       0                   0   \n",
       "1  1583280000000      1          0       0                   1   \n",
       "2  1583366400000      1          0       0                   1   \n",
       "3  1583452800000      1          0       0                   1   \n",
       "4  1583539200000      0          0       0                   0   \n",
       "\n",
       "   AKUMULASI_KASUS  AKUMULASI_SEMBUH  AKUMULASI_MENINGGAL  \\\n",
       "0                1                 0                    1   \n",
       "1                2                 0                    1   \n",
       "2                3                 0                    1   \n",
       "3                4                 0                    1   \n",
       "4                4                 0                    1   \n",
       "\n",
       "   AKUMULASI_DIRAWAT_OR_ISOLASI  \n",
       "0                             0  \n",
       "1                             1  \n",
       "2                             2  \n",
       "3                             3  \n",
       "4                             3  "
      ]
     },
     "execution_count": 29,
     "metadata": {},
     "output_type": "execute_result"
    }
   ],
   "source": [
    "print('Lima data teratas cov_jabar:')\n",
    "cov_jabar.head()"
   ]
  },
  {
   "cell_type": "markdown",
   "id": "227f0468",
   "metadata": {},
   "source": [
    "**Membersihkan data**<br>\n",
    "Setelah mengekstrak dan mengamati cov_jabar, Anda menemukan beberapa kejanggalan pada data tersebut. Diantaranya adalah kejanggalan data pada kolom tanggal dan format penulisan kolom yang tidak konsisten"
   ]
  },
  {
   "cell_type": "code",
   "execution_count": 30,
   "id": "0a7dc71f",
   "metadata": {},
   "outputs": [],
   "source": [
    "cov_jabar_tidy = (cov_jabar.drop(columns=[\n",
    "    item for item in cov_jabar.columns\n",
    "    if item.startswith('AKUMULASI') or item.startswith('DIRAWAT')])\n",
    "                  .rename(columns=str.lower)\n",
    "                  .rename(columns={'kasus': 'kasus_baru'})\n",
    "    )"
   ]
  },
  {
   "cell_type": "code",
   "execution_count": 33,
   "id": "ce49b8c5",
   "metadata": {},
   "outputs": [],
   "source": [
    "cov_jabar_tidy['tanggal'] = pd.to_datetime(cov_jabar_tidy['tanggal']*1e6, unit='ns')"
   ]
  },
  {
   "cell_type": "code",
   "execution_count": 34,
   "id": "1d566d5b",
   "metadata": {},
   "outputs": [
    {
     "name": "stdout",
     "output_type": "stream",
     "text": [
      "Lima data teratas cov_jabar_tidy: \n"
     ]
    },
    {
     "data": {
      "text/html": [
       "<div>\n",
       "<style scoped>\n",
       "    .dataframe tbody tr th:only-of-type {\n",
       "        vertical-align: middle;\n",
       "    }\n",
       "\n",
       "    .dataframe tbody tr th {\n",
       "        vertical-align: top;\n",
       "    }\n",
       "\n",
       "    .dataframe thead th {\n",
       "        text-align: right;\n",
       "    }\n",
       "</style>\n",
       "<table border=\"1\" class=\"dataframe\">\n",
       "  <thead>\n",
       "    <tr style=\"text-align: right;\">\n",
       "      <th></th>\n",
       "      <th>tanggal</th>\n",
       "      <th>kasus_baru</th>\n",
       "      <th>meninggal</th>\n",
       "      <th>sembuh</th>\n",
       "    </tr>\n",
       "  </thead>\n",
       "  <tbody>\n",
       "    <tr>\n",
       "      <th>0</th>\n",
       "      <td>2020-03-03</td>\n",
       "      <td>1</td>\n",
       "      <td>1</td>\n",
       "      <td>0</td>\n",
       "    </tr>\n",
       "    <tr>\n",
       "      <th>1</th>\n",
       "      <td>2020-03-04</td>\n",
       "      <td>1</td>\n",
       "      <td>0</td>\n",
       "      <td>0</td>\n",
       "    </tr>\n",
       "    <tr>\n",
       "      <th>2</th>\n",
       "      <td>2020-03-05</td>\n",
       "      <td>1</td>\n",
       "      <td>0</td>\n",
       "      <td>0</td>\n",
       "    </tr>\n",
       "    <tr>\n",
       "      <th>3</th>\n",
       "      <td>2020-03-06</td>\n",
       "      <td>1</td>\n",
       "      <td>0</td>\n",
       "      <td>0</td>\n",
       "    </tr>\n",
       "    <tr>\n",
       "      <th>4</th>\n",
       "      <td>2020-03-07</td>\n",
       "      <td>0</td>\n",
       "      <td>0</td>\n",
       "      <td>0</td>\n",
       "    </tr>\n",
       "  </tbody>\n",
       "</table>\n",
       "</div>"
      ],
      "text/plain": [
       "     tanggal  kasus_baru  meninggal  sembuh\n",
       "0 2020-03-03           1          1       0\n",
       "1 2020-03-04           1          0       0\n",
       "2 2020-03-05           1          0       0\n",
       "3 2020-03-06           1          0       0\n",
       "4 2020-03-07           0          0       0"
      ]
     },
     "execution_count": 34,
     "metadata": {},
     "output_type": "execute_result"
    }
   ],
   "source": [
    "print('Lima data teratas cov_jabar_tidy: ')\n",
    "cov_jabar_tidy.head()"
   ]
  },
  {
   "cell_type": "code",
   "execution_count": 36,
   "id": "f923c448",
   "metadata": {},
   "outputs": [
    {
     "data": {
      "text/plain": [
       "<Figure size 432x288 with 0 Axes>"
      ]
     },
     "metadata": {},
     "output_type": "display_data"
    },
    {
     "data": {
      "image/png": "[encoded data removed]",
      "text/plain": [
       "<Figure size 720x360 with 1 Axes>"
      ]
     },
     "metadata": {
      "needs_background": "light"
     },
     "output_type": "display_data"
    }
   ],
   "source": [
    "# import library\n",
    "import matplotlib.pyplot as plt\n",
    "\n",
    "plt.clf()\n",
    "fig, ax = plt.subplots(figsize=(10, 5))\n",
    "ax.bar(data=cov_jabar_tidy, x='tanggal', height='kasus_baru')\n",
    "plt.show()"
   ]
  },
  {
   "cell_type": "code",
   "execution_count": 48,
   "id": "8c75595d",
   "metadata": {},
   "outputs": [],
   "source": [
    "import warnings\n",
    "warnings.filterwarnings('ignore')"
   ]
  },
  {
   "cell_type": "markdown",
   "id": "dc776c10",
   "metadata": {},
   "source": [
    "**Grafik untuk Kasus Positif**"
   ]
  },
  {
   "cell_type": "code",
   "execution_count": 49,
   "id": "88ee416c",
   "metadata": {
    "hide_input": true
   },
   "outputs": [
    {
     "data": {
      "text/plain": [
       "<Figure size 432x288 with 0 Axes>"
      ]
     },
     "metadata": {},
     "output_type": "display_data"
    },
    {
     "data": {
      "image/png": "[encoded data removed]",
      "text/plain": [
       "<Figure size 720x360 with 1 Axes>"
      ]
     },
     "metadata": {
      "needs_background": "light"
     },
     "output_type": "display_data"
    }
   ],
   "source": [
    "# memperbaiki grafik dan memberikan informasi biar jelas\n",
    "import matplotlib.dates as mdates\n",
    "\n",
    "plt.clf()\n",
    "fig, ax = plt.subplots(figsize=(10, 5))\n",
    "ax.bar(data=cov_jabar_tidy, x='tanggal', height='kasus_baru', color='salmon')\n",
    "fig.suptitle('Kasus Harian Positif COVID-19 di Jawa Barat', y=1.0, fontsize=16, fontweight='bold', ha='center')\n",
    "ax.set_title('Terjadi pelonjakan kasus di awal bulan juli akibat klaster secapa AD Bandung', fontsize=10)\n",
    "ax.set_xlabel('')\n",
    "ax.set_ylabel('jumlah kasus')\n",
    "ax.text(1, -0.3, 'Sumber data: covid.19.go.id', color='blue', ha='right', transform=ax.transAxes)\n",
    "ax.set_xticklabels(ax.get_xticks(), rotation=90)\n",
    "ax.xaxis.set_major_locator(mdates.MonthLocator())\n",
    "ax.xaxis.set_major_formatter(mdates.DateFormatter('%b %Y'))\n",
    "plt.grid(axis='y')\n",
    "plt.tight_layout()\n",
    "plt.show()"
   ]
  },
  {
   "cell_type": "markdown",
   "id": "9ed8b93c",
   "metadata": {},
   "source": [
    "**Grafik untuk Kasus Sembuh**"
   ]
  },
  {
   "cell_type": "code",
   "execution_count": 50,
   "id": "45aeb08d",
   "metadata": {
    "hide_input": true
   },
   "outputs": [
    {
     "data": {
      "text/plain": [
       "<Figure size 432x288 with 0 Axes>"
      ]
     },
     "metadata": {},
     "output_type": "display_data"
    },
    {
     "data": {
      "image/png": "[encoded data removed]",
      "text/plain": [
       "<Figure size 720x360 with 1 Axes>"
      ]
     },
     "metadata": {
      "needs_background": "light"
     },
     "output_type": "display_data"
    }
   ],
   "source": [
    "plt.clf()\n",
    "fig, ax = plt.subplots(figsize=(10,5))\n",
    "ax.bar(data=cov_jabar_tidy, x='tanggal', height='sembuh', color='olivedrab')\n",
    "ax.set_title('Kasus Harian Sembuh Dari COVID-19 di Jawa Barat',\n",
    "             fontsize=22)\n",
    "ax.set_xlabel('')\n",
    "ax.set_ylabel('Jumlah kasus')\n",
    "ax.text(1, -0.3, 'Sumber data: covid.19.go.id', color='blue',\n",
    "        ha='right', transform=ax.transAxes)\n",
    "ax.set_xticklabels(ax.get_xticks(), rotation=90)\n",
    "\n",
    "ax.xaxis.set_major_locator(mdates.MonthLocator())\n",
    "ax.xaxis.set_major_formatter(mdates.DateFormatter('%b %Y'))\n",
    "\n",
    "plt.grid(axis='y')\n",
    "plt.tight_layout()\n",
    "plt.show()"
   ]
  },
  {
   "cell_type": "markdown",
   "id": "7b4f754a",
   "metadata": {},
   "source": [
    "**Grafik untuk Kasus Meninggal**"
   ]
  },
  {
   "cell_type": "code",
   "execution_count": 51,
   "id": "111b1450",
   "metadata": {
    "hide_input": true
   },
   "outputs": [
    {
     "data": {
      "text/plain": [
       "<Figure size 432x288 with 0 Axes>"
      ]
     },
     "metadata": {},
     "output_type": "display_data"
    },
    {
     "data": {
      "image/png": "[encoded data removed]",
      "text/plain": [
       "<Figure size 720x360 with 1 Axes>"
      ]
     },
     "metadata": {
      "needs_background": "light"
     },
     "output_type": "display_data"
    }
   ],
   "source": [
    "plt.clf()\n",
    "fig, ax = plt.subplots(figsize=(10,5))\n",
    "ax.bar(data=cov_jabar_tidy, x='tanggal', height='meninggal', color='slategrey')\n",
    "ax.set_title('Kasus Harian Meninggal Dari COVID-19 di Jawa Barat',\n",
    "             fontsize=22)\n",
    "ax.set_xlabel('')\n",
    "ax.set_ylabel('Jumlah kasus')\n",
    "ax.text(1, -0.3, 'Sumber data: covid.19.go.id', color='blue',\n",
    "        ha='right', transform=ax.transAxes)\n",
    "ax.set_xticklabels(ax.get_xticks(), rotation=90)\n",
    "ax.xaxis.set_major_locator(mdates.MonthLocator())\n",
    "ax.xaxis.set_major_formatter(mdates.DateFormatter('%b %Y'))\n",
    "plt.grid(axis='y')\n",
    "plt.tight_layout()\n",
    "plt.show()"
   ]
  },
  {
   "cell_type": "markdown",
   "id": "b2cc1d58",
   "metadata": {},
   "source": [
    "**Apakah Pekan ini Lebih Baik?**<br>\n",
    "Setelah mengamati grafik perkembangan kasus Anda menyadari bahwa terjadi fluktuasi pertambahan kasus harian. Dilandasi hal tersebut Anda kemudian ingin mencoba mengamati bagaimana perkembangan kasus dalam rentang waktu pekanan."
   ]
  },
  {
   "cell_type": "code",
   "execution_count": 58,
   "id": "014948e4",
   "metadata": {},
   "outputs": [],
   "source": [
    "cov_jabar_pekanan = (cov_jabar_tidy.set_index('tanggal')['kasus_baru']\n",
    "                     .resample('W')\n",
    "                     .sum()\n",
    "                     .reset_index()\n",
    "                     .rename(columns={'kasus_baru':'jumlah'})\n",
    "                    )\n",
    "\n",
    "cov_jabar_pekanan['tahun'] = cov_jabar_pekanan['tanggal'].apply(lambda x: x.year)\n",
    "cov_jabar_pekanan['pekan_ke'] = cov_jabar_pekanan['tanggal'].apply(lambda x: x.weekofyear)\n",
    "cov_jabar_pekanan = cov_jabar_pekanan[['tahun', 'pekan_ke', 'jumlah']].copy()"
   ]
  },
  {
   "cell_type": "code",
   "execution_count": 59,
   "id": "98add370",
   "metadata": {},
   "outputs": [
    {
     "name": "stdout",
     "output_type": "stream",
     "text": [
      "Info cov_jabar_pekanan:\n",
      "<class 'pandas.core.frame.DataFrame'>\n",
      "RangeIndex: 100 entries, 0 to 99\n",
      "Data columns (total 3 columns):\n",
      " #   Column    Non-Null Count  Dtype\n",
      "---  ------    --------------  -----\n",
      " 0   tahun     100 non-null    int64\n",
      " 1   pekan_ke  100 non-null    int64\n",
      " 2   jumlah    100 non-null    int64\n",
      "dtypes: int64(3)\n",
      "memory usage: 2.5 KB\n"
     ]
    }
   ],
   "source": [
    "print('Info cov_jabar_pekanan:')\n",
    "cov_jabar_pekanan.info()"
   ]
  },
  {
   "cell_type": "code",
   "execution_count": 60,
   "id": "16827de1",
   "metadata": {},
   "outputs": [
    {
     "name": "stdout",
     "output_type": "stream",
     "text": [
      "Lima data teratas:\n"
     ]
    },
    {
     "data": {
      "text/html": [
       "<div>\n",
       "<style scoped>\n",
       "    .dataframe tbody tr th:only-of-type {\n",
       "        vertical-align: middle;\n",
       "    }\n",
       "\n",
       "    .dataframe tbody tr th {\n",
       "        vertical-align: top;\n",
       "    }\n",
       "\n",
       "    .dataframe thead th {\n",
       "        text-align: right;\n",
       "    }\n",
       "</style>\n",
       "<table border=\"1\" class=\"dataframe\">\n",
       "  <thead>\n",
       "    <tr style=\"text-align: right;\">\n",
       "      <th></th>\n",
       "      <th>tahun</th>\n",
       "      <th>pekan_ke</th>\n",
       "      <th>jumlah</th>\n",
       "    </tr>\n",
       "  </thead>\n",
       "  <tbody>\n",
       "    <tr>\n",
       "      <th>0</th>\n",
       "      <td>2020</td>\n",
       "      <td>10</td>\n",
       "      <td>4</td>\n",
       "    </tr>\n",
       "    <tr>\n",
       "      <th>1</th>\n",
       "      <td>2020</td>\n",
       "      <td>11</td>\n",
       "      <td>5</td>\n",
       "    </tr>\n",
       "    <tr>\n",
       "      <th>2</th>\n",
       "      <td>2020</td>\n",
       "      <td>12</td>\n",
       "      <td>44</td>\n",
       "    </tr>\n",
       "    <tr>\n",
       "      <th>3</th>\n",
       "      <td>2020</td>\n",
       "      <td>13</td>\n",
       "      <td>80</td>\n",
       "    </tr>\n",
       "    <tr>\n",
       "      <th>4</th>\n",
       "      <td>2020</td>\n",
       "      <td>14</td>\n",
       "      <td>89</td>\n",
       "    </tr>\n",
       "  </tbody>\n",
       "</table>\n",
       "</div>"
      ],
      "text/plain": [
       "   tahun  pekan_ke  jumlah\n",
       "0   2020        10       4\n",
       "1   2020        11       5\n",
       "2   2020        12      44\n",
       "3   2020        13      80\n",
       "4   2020        14      89"
      ]
     },
     "execution_count": 60,
     "metadata": {},
     "output_type": "execute_result"
    }
   ],
   "source": [
    "print('Lima data teratas:')\n",
    "cov_jabar_pekanan.head()"
   ]
  },
  {
   "cell_type": "markdown",
   "id": "b72ba158",
   "metadata": {},
   "source": [
    "Pertanyaan baru muncul di benak Anda setelah melakukan inspeksi terhadap data cov_jabar_pekanan tersebut: \"Apakah pekan ini lebih baik dari pekan kemarin?\""
   ]
  },
  {
   "cell_type": "code",
   "execution_count": 65,
   "id": "c1775933",
   "metadata": {},
   "outputs": [],
   "source": [
    "cov_jabar_pekanan['jumlah_pekanlalu'] = cov_jabar_pekanan['jumlah'].shift().replace(np.nan, 0).astype(np.int)\n",
    "cov_jabar_pekanan['lebih_baik'] = cov_jabar_pekanan['jumlah'] < cov_jabar_pekanan['jumlah_pekanlalu']"
   ]
  },
  {
   "cell_type": "code",
   "execution_count": 67,
   "id": "f84a3166",
   "metadata": {},
   "outputs": [
    {
     "name": "stdout",
     "output_type": "stream",
     "text": [
      "Sepuluh data teratas:\n"
     ]
    },
    {
     "data": {
      "text/html": [
       "<div>\n",
       "<style scoped>\n",
       "    .dataframe tbody tr th:only-of-type {\n",
       "        vertical-align: middle;\n",
       "    }\n",
       "\n",
       "    .dataframe tbody tr th {\n",
       "        vertical-align: top;\n",
       "    }\n",
       "\n",
       "    .dataframe thead th {\n",
       "        text-align: right;\n",
       "    }\n",
       "</style>\n",
       "<table border=\"1\" class=\"dataframe\">\n",
       "  <thead>\n",
       "    <tr style=\"text-align: right;\">\n",
       "      <th></th>\n",
       "      <th>tahun</th>\n",
       "      <th>pekan_ke</th>\n",
       "      <th>jumlah</th>\n",
       "      <th>jumlah_pekanlalu</th>\n",
       "      <th>lebih_baik</th>\n",
       "    </tr>\n",
       "  </thead>\n",
       "  <tbody>\n",
       "    <tr>\n",
       "      <th>0</th>\n",
       "      <td>2020</td>\n",
       "      <td>10</td>\n",
       "      <td>4</td>\n",
       "      <td>0</td>\n",
       "      <td>False</td>\n",
       "    </tr>\n",
       "    <tr>\n",
       "      <th>1</th>\n",
       "      <td>2020</td>\n",
       "      <td>11</td>\n",
       "      <td>5</td>\n",
       "      <td>4</td>\n",
       "      <td>False</td>\n",
       "    </tr>\n",
       "    <tr>\n",
       "      <th>2</th>\n",
       "      <td>2020</td>\n",
       "      <td>12</td>\n",
       "      <td>44</td>\n",
       "      <td>5</td>\n",
       "      <td>False</td>\n",
       "    </tr>\n",
       "    <tr>\n",
       "      <th>3</th>\n",
       "      <td>2020</td>\n",
       "      <td>13</td>\n",
       "      <td>80</td>\n",
       "      <td>44</td>\n",
       "      <td>False</td>\n",
       "    </tr>\n",
       "    <tr>\n",
       "      <th>4</th>\n",
       "      <td>2020</td>\n",
       "      <td>14</td>\n",
       "      <td>89</td>\n",
       "      <td>80</td>\n",
       "      <td>False</td>\n",
       "    </tr>\n",
       "    <tr>\n",
       "      <th>5</th>\n",
       "      <td>2020</td>\n",
       "      <td>15</td>\n",
       "      <td>176</td>\n",
       "      <td>89</td>\n",
       "      <td>False</td>\n",
       "    </tr>\n",
       "    <tr>\n",
       "      <th>6</th>\n",
       "      <td>2020</td>\n",
       "      <td>16</td>\n",
       "      <td>203</td>\n",
       "      <td>176</td>\n",
       "      <td>False</td>\n",
       "    </tr>\n",
       "    <tr>\n",
       "      <th>7</th>\n",
       "      <td>2020</td>\n",
       "      <td>17</td>\n",
       "      <td>136</td>\n",
       "      <td>203</td>\n",
       "      <td>True</td>\n",
       "    </tr>\n",
       "    <tr>\n",
       "      <th>8</th>\n",
       "      <td>2020</td>\n",
       "      <td>18</td>\n",
       "      <td>100</td>\n",
       "      <td>136</td>\n",
       "      <td>True</td>\n",
       "    </tr>\n",
       "    <tr>\n",
       "      <th>9</th>\n",
       "      <td>2020</td>\n",
       "      <td>19</td>\n",
       "      <td>914</td>\n",
       "      <td>100</td>\n",
       "      <td>False</td>\n",
       "    </tr>\n",
       "  </tbody>\n",
       "</table>\n",
       "</div>"
      ],
      "text/plain": [
       "   tahun  pekan_ke  jumlah  jumlah_pekanlalu  lebih_baik\n",
       "0   2020        10       4                 0       False\n",
       "1   2020        11       5                 4       False\n",
       "2   2020        12      44                 5       False\n",
       "3   2020        13      80                44       False\n",
       "4   2020        14      89                80       False\n",
       "5   2020        15     176                89       False\n",
       "6   2020        16     203               176       False\n",
       "7   2020        17     136               203        True\n",
       "8   2020        18     100               136        True\n",
       "9   2020        19     914               100       False"
      ]
     },
     "execution_count": 67,
     "metadata": {},
     "output_type": "execute_result"
    }
   ],
   "source": [
    "print('Sepuluh data teratas:')\n",
    "cov_jabar_pekanan.head(10)"
   ]
  },
  {
   "cell_type": "code",
   "execution_count": 68,
   "id": "455e32b0",
   "metadata": {},
   "outputs": [
    {
     "data": {
      "text/plain": [
       "<Figure size 432x288 with 0 Axes>"
      ]
     },
     "metadata": {},
     "output_type": "display_data"
    },
    {
     "data": {
      "image/png": "[encoded data removed]",
      "text/plain": [
       "<Figure size 720x648 with 3 Axes>"
      ]
     },
     "metadata": {
      "needs_background": "light"
     },
     "output_type": "display_data"
    }
   ],
   "source": [
    "# Membuat Bar Chart\n",
    "plt.clf()\n",
    "jml_tahun_terjadi_covid19 = cov_jabar_pekanan['tahun'].nunique()\n",
    "tahun_terjadi_covid19 = cov_jabar_pekanan['tahun'].unique()\n",
    "fig, axes = plt.subplots(nrows=jml_tahun_terjadi_covid19, \n",
    "                         figsize=(10,3*jml_tahun_terjadi_covid19))\n",
    "\n",
    "fig.suptitle('Kasus Pekanan Positif COVID-19 di Jawa Barat', \n",
    "             y=1.00, fontsize=16, fontweight='bold', ha='center')\n",
    "for i, ax in enumerate(axes):\n",
    "    ax.bar(data=cov_jabar_pekanan.loc[cov_jabar_pekanan['tahun']==tahun_terjadi_covid19[i]], \n",
    "           x='pekan_ke', height='jumlah', \n",
    "           color=['mediumseagreen' if x is True else 'salmon' \n",
    "                  for x in cov_jabar_pekanan['lebih_baik']])\n",
    "    if i == 0:\n",
    "        ax.set_title('Kolom hijau menunjukkan penambahan kasus baru lebih sedikit dibandingkan satu pekan sebelumnya',\n",
    "                     fontsize=10)\n",
    "    elif i == jml_tahun_terjadi_covid19-1:\n",
    "        ax.text(1, -0.2, 'Sumber data: covid.19.go.id', color='blue',\n",
    "            ha='right', transform=ax.transAxes)\n",
    "\n",
    "    ax.set_xlim([0, 52.5])\n",
    "    ax.set_ylim([0, max(cov_jabar_pekanan['jumlah'])])\n",
    "    ax.set_xlabel('')\n",
    "    ax.set_ylabel('Jumlah kasus %d'%(tahun_terjadi_covid19[i],))\n",
    "    ax.grid(axis='y')\n",
    "\n",
    "plt.tight_layout()\n",
    "plt.show()"
   ]
  },
  {
   "cell_type": "markdown",
   "id": "a5023065",
   "metadata": {},
   "source": [
    "Pola dan Dinamika<br>\n",
    "Ada yang akhirnya sembuh, namun tak sedikit pula yang meninggal akibat COVID-19. Sementara itu penambahan kasus baru terus terjadi di masyarakat. Hal ini mungkin memicu pertanyaan lain di diri Anda: \"Hingga saat ini ada berapa kasus yang masih aktif?\"\n",
    "\n",
    "Aktif dalam artian sedang dalam perawatan atau isolasi.\n",
    "Informasi ini sebenarnya telah disediakan di dalam respon API covid19.go.id yang Anda minta. Namun tidak ada salahnya jika Anda mencoba menghitungnya sendiri, apakah Anda setuju?\n",
    "\n",
    "Jumlah kasus aktif dapat dihitung dengan cara mengurangi jumlah akumulasi positif dengan jumlah akumulasi sembuh dan jumlah akumulasi meninggal. Anda dapat menggunakan method cumsum() untuk menghitung nilai akumulasi dari suatu vektor numerik. Lengkapilah baris kode berikut untuk menghitung jumlah akumulasi kasus aktif, kasus sembuh, dan kasus meninggal!"
   ]
  },
  {
   "cell_type": "code",
   "execution_count": 72,
   "id": "6edeae10",
   "metadata": {},
   "outputs": [
    {
     "data": {
      "text/html": [
       "<div>\n",
       "<style scoped>\n",
       "    .dataframe tbody tr th:only-of-type {\n",
       "        vertical-align: middle;\n",
       "    }\n",
       "\n",
       "    .dataframe tbody tr th {\n",
       "        vertical-align: top;\n",
       "    }\n",
       "\n",
       "    .dataframe thead th {\n",
       "        text-align: right;\n",
       "    }\n",
       "</style>\n",
       "<table border=\"1\" class=\"dataframe\">\n",
       "  <thead>\n",
       "    <tr style=\"text-align: right;\">\n",
       "      <th></th>\n",
       "      <th>tanggal</th>\n",
       "      <th>akumulasi_aktif</th>\n",
       "      <th>akumulasi_sembuh</th>\n",
       "      <th>akumulasi_meninggal</th>\n",
       "    </tr>\n",
       "  </thead>\n",
       "  <tbody>\n",
       "    <tr>\n",
       "      <th>693</th>\n",
       "      <td>2022-01-25</td>\n",
       "      <td>4935</td>\n",
       "      <td>694280</td>\n",
       "      <td>14771</td>\n",
       "    </tr>\n",
       "    <tr>\n",
       "      <th>694</th>\n",
       "      <td>2022-01-26</td>\n",
       "      <td>5844</td>\n",
       "      <td>694988</td>\n",
       "      <td>14773</td>\n",
       "    </tr>\n",
       "    <tr>\n",
       "      <th>695</th>\n",
       "      <td>2022-01-27</td>\n",
       "      <td>7552</td>\n",
       "      <td>695013</td>\n",
       "      <td>14774</td>\n",
       "    </tr>\n",
       "    <tr>\n",
       "      <th>696</th>\n",
       "      <td>2022-01-28</td>\n",
       "      <td>9718</td>\n",
       "      <td>695147</td>\n",
       "      <td>14774</td>\n",
       "    </tr>\n",
       "    <tr>\n",
       "      <th>697</th>\n",
       "      <td>2022-01-29</td>\n",
       "      <td>12187</td>\n",
       "      <td>695203</td>\n",
       "      <td>14774</td>\n",
       "    </tr>\n",
       "  </tbody>\n",
       "</table>\n",
       "</div>"
      ],
      "text/plain": [
       "       tanggal  akumulasi_aktif  akumulasi_sembuh  akumulasi_meninggal\n",
       "693 2022-01-25             4935            694280                14771\n",
       "694 2022-01-26             5844            694988                14773\n",
       "695 2022-01-27             7552            695013                14774\n",
       "696 2022-01-28             9718            695147                14774\n",
       "697 2022-01-29            12187            695203                14774"
      ]
     },
     "execution_count": 72,
     "metadata": {},
     "output_type": "execute_result"
    }
   ],
   "source": [
    "cov_jabar_akumulasi = cov_jabar_tidy[['tanggal']].copy()\n",
    "cov_jabar_akumulasi['akumulasi_aktif'] = (cov_jabar_tidy['kasus_baru'] - cov_jabar_tidy['sembuh'] - cov_jabar_tidy['meninggal']).cumsum()\n",
    "cov_jabar_akumulasi['akumulasi_sembuh'] = cov_jabar_tidy['sembuh'].cumsum()\n",
    "cov_jabar_akumulasi['akumulasi_meninggal'] = cov_jabar_tidy['meninggal'].cumsum()\n",
    "cov_jabar_akumulasi.tail()"
   ]
  },
  {
   "cell_type": "code",
   "execution_count": 76,
   "id": "829708e5",
   "metadata": {},
   "outputs": [
    {
     "data": {
      "text/plain": [
       "<Figure size 432x288 with 0 Axes>"
      ]
     },
     "metadata": {},
     "output_type": "display_data"
    },
    {
     "data": {
      "image/png": "[encoded data removed]",
      "text/plain": [
       "<Figure size 720x360 with 1 Axes>"
      ]
     },
     "metadata": {
      "needs_background": "light"
     },
     "output_type": "display_data"
    }
   ],
   "source": [
    "# Membuat Line Chart\n",
    "plt.clf()\n",
    "fig, ax = plt.subplots(figsize=(10,5))\n",
    "ax.plot('tanggal', 'akumulasi_aktif', data=cov_jabar_akumulasi, lw=2)\n",
    "\n",
    "ax.set_title('Akumulasi aktif COVID-19 di Jawa Barat',\n",
    "             fontsize=22)\n",
    "ax.set_xlabel('')\n",
    "ax.set_ylabel('Akumulasi aktif')\n",
    "ax.text(1, -0.3, 'Sumber data: covid.19.go.id', color='blue',\n",
    "        ha='right', transform=ax.transAxes)\n",
    "ax.set_xticklabels(ax.get_xticks(), rotation=90)\n",
    "\n",
    "ax.xaxis.set_major_locator(mdates.MonthLocator())\n",
    "ax.xaxis.set_major_formatter(mdates.DateFormatter('%b %Y'))\n",
    "\n",
    "plt.grid()\n",
    "plt.tight_layout()\n",
    "plt.show()"
   ]
  },
  {
   "cell_type": "code",
   "execution_count": 77,
   "id": "e5694fd0",
   "metadata": {},
   "outputs": [
    {
     "data": {
      "text/plain": [
       "<Figure size 432x288 with 0 Axes>"
      ]
     },
     "metadata": {},
     "output_type": "display_data"
    },
    {
     "data": {
      "image/png": "[encoded data removed]",
      "text/plain": [
       "<Figure size 720x360 with 1 Axes>"
      ]
     },
     "metadata": {
      "needs_background": "light"
     },
     "output_type": "display_data"
    }
   ],
   "source": [
    "# tahap akhir\n",
    "plt.clf()\n",
    "fig, ax = plt.subplots(figsize=(10,5))\n",
    "cov_jabar_akumulasi_ts = cov_jabar_akumulasi.set_index('tanggal')\n",
    "cov_jabar_akumulasi_ts.plot(kind='line', ax=ax, lw=3,\n",
    "                            color=['salmon', 'slategrey', 'olivedrab'])\n",
    "\n",
    "ax.set_title('Dinamika Kasus COVID-19 di Jawa Barat',\n",
    "             fontsize=22)\n",
    "ax.set_xlabel('')\n",
    "ax.set_ylabel('Akumulasi aktif')\n",
    "ax.text(1, -0.3, 'Sumber data: covid.19.go.id', color='blue',\n",
    "        ha='right', transform=ax.transAxes)\n",
    "\n",
    "plt.grid()\n",
    "plt.tight_layout()\n",
    "plt.show()"
   ]
  }
 ],
 "metadata": {
  "kernelspec": {
   "display_name": "Python 3 (ipykernel)",
   "language": "python",
   "name": "python3"
  },
  "language_info": {
   "codemirror_mode": {
    "name": "ipython",
    "version": 3
   },
   "file_extension": ".py",
   "mimetype": "text/x-python",
   "name": "python",
   "nbconvert_exporter": "python",
   "pygments_lexer": "ipython3",
   "version": "3.9.7"
  }
 },
 "nbformat": 4,
 "nbformat_minor": 5
}
