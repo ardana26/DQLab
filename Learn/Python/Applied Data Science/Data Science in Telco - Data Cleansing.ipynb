{
 "cells": [
  {
   "cell_type": "markdown",
   "id": "c332c727",
   "metadata": {},
   "source": [
    "##### Latar Belakang\n",
    "DQLab Telco merupakan perusahaan Telco yang sudah mempunyai banyak cabang tersebar dimana-mana. Sejak berdiri pada tahun 2019, DQLab Telco konsisten untuk memperhatikan customer experience-nya sehingga tidak akan ditinggalkan pelanggan.\n",
    "\n",
    "Walaupun baru berumur 1 tahun lebih sedikit, DQLab Telco sudah mempunyai banyak pelanggan yang beralih langganan ke kompetitor. Pihak management ingin mengurangi jumlah pelanggan yang beralih (churn) dengan menggunakan machine learning.\n",
    "\n",
    "Oleh karena itu, tim Data Scientist diminta untuk mempersiapkan data sekaligus membuat model prediksi yang tepat untuk menentukan pelanggan akan berhenti berlangganan (churn) atau tidak."
   ]
  },
  {
   "cell_type": "markdown",
   "id": "98b27bbb",
   "metadata": {},
   "source": [
    "### Tugas dan Langkah\n",
    "Sebagai seorang data scientist, kamu diminta untuk menyiapkan data sebelum dilakukan permodelan.\n",
    "\n",
    "Pada tugas kali ini, kamu akan melakukan Data Preprocessing (Data Cleansing) bulan lalu, yakni Juni 2020.\n",
    "\n",
    "Langkah yang akan dilakukan adalah,\n",
    "<ol>\n",
    "    <li>Mencari ID pelanggan (Nomor telepon) yang valid</li>\n",
    "    <li>Mengatasi data-data yang masih kosong (Missing Values)</li>\n",
    "    <li>Mengatasi Nilai-Nilai Pencilan (Outlier) dari setiap Variable</li>\n",
    "    <li>Menstandardisasi Nilai dari Variable</li>\n",
    "<ol>"
   ]
  },
  {
   "cell_type": "markdown",
   "id": "e17d305e",
   "metadata": {},
   "source": [
    "### Library yang Digunakan\n",
    "Pada analisis kali ini, akan digunakan beberapa package yang membantu kita dalam melakukan analisis data.\n",
    "<ol>\n",
    "    <li>Pandas\n",
    "        <p>Pandas (Python for Data Analysis) adalah library Python yang fokus untuk proses analisis data seperti manipulasi data, persiapan data, dan pembersihan data.</p>\n",
    "        <ul>\n",
    "            <li>read_csv() digunakan untuk membaca file csv</li>\n",
    "            <li>str.match() digunakan untuk mencocokan dengan karakter tertentu</li>\n",
    "            <li>drop() digunakan untuk menghapus</li>\n",
    "            <li>count() digunakan untuk menghitung masing-masing variable</li>\n",
    "            <li>drop_duplicates() digunakan untuk menghapus data duplicate rows</li>\n",
    "            <li>fillna() digunakan untuk mengisi dengan nilai tertentu</li>\n",
    "            <li>quantile() digunakan untuk melihat quantile ke tertentu</li>\n",
    "            <li>mask() mengganti nilai tertentu jika kondisi memenuhi</li>\n",
    "            <li>astype() mengubah tipe data</li>\n",
    "            <li>value_counts() digunakan untuk menghitung unik dari kolom</li>\n",
    "            <li>sort_values() digunakan untuk sort values</li>\n",
    "            <li>isnull() digunakan untuk mendeteksi missing values</li>\n",
    "            <li>dropna() digunakan untuk menghapus missing values</li>\n",
    "            <li>replace() digunakan untuk mengganti nilai</li>\n",
    "        </ul>\n",
    "    </li>    \n",
    "    <li>Matplotlib\n",
    "        <p>Matplotlib adalah library Python yang fokus pada visualisasi data seperti membuat plot grafik. Matplotlib dapat digunakan dalam skrip Python, Python dan IPython shell, server aplikasi web, dan beberapa toolkit graphical user interface (GUI) lainnya.</p>\n",
    "        <ul>\n",
    "            <li>figure() digunakan untuk membuat figure gambar baru</li>\n",
    "        </ul>\n",
    "    </li>\n",
    "    <li>Seaborn\n",
    "        <p>Seaborn membangun di atas Matplotlib dan memperkenalkan tipe plot tambahan. Ini juga membuat plot Matplotlib tradisional Anda terlihat sedikit lebih cantik.</p>\n",
    "        <ul>\n",
    "            <li>box_plot() digunakan untuk membuat box plot</li>\n",
    "        </ul>\n",
    "    </li>\n",
    "</ol>"
   ]
  },
  {
   "cell_type": "markdown",
   "id": "4ad942b9",
   "metadata": {},
   "source": [
    "### Data yang Digunakan\n",
    "Untuk dataset yang digunakan sudah disediakan dalam format csv, silahkan baca melalui fungsi pandas di python df_load = pd.read_csv('https://storage.googleapis.com/dqlab-dataset/dqlab_telco.csv')\n",
    "\n",
    " \n",
    "Untuk detail datanya adalah sebagai berikut:\n",
    "<ul>\n",
    "    <li>UpdatedAt Periode of Data taken</li>\n",
    "    <li>customerID Customer ID</li>\n",
    "    <li>gender Whether the customer is a male or a female (Male, Female)</li>\n",
    "    <li>SeniorCitizen Whether the customer is a senior citizen or not (1, 0)</li>\n",
    "    <li>Partner Whether the customer has a partner or not (Yes, No)</li>\n",
    "    <li>Dependents Whether the customer has dependents or not (Yes, No)</li>\n",
    "    <li>tenure Number of months the customer has stayed with the company</li>\n",
    "    <li>PhoneService Whether the customer has a phone service or not (Yes, No)</li>\n",
    "    <li>MultipleLines Whether the customer has multiple lines or not (Yes, No, No phone service)</li>\n",
    "    <li>InternetService Customer’s internet service provider (DSL, Fiber optic, No)</li>\n",
    "    <li>OnlineSecurity Whether the customer has online security or not (Yes, No, No internet service)</li>\n",
    "    <li>OnlineBackup Whether the customer has online backup or not (Yes, No, No internet service)</li>\n",
    "    <li>DeviceProtection Whether the customer has device protection or not (Yes, No, No internet service)</li>\n",
    "    <li>TechSupport Whether the customer has tech support or not (Yes, No, No internet service)</li>\n",
    "    <li>StreamingTV Whether the customer has streaming TV or not (Yes, No, No internet service)</li>\n",
    "    <li>StreamingMovies Whether the customer has streaming movies or not (Yes, No, No internet service)</li>\n",
    "    <li>Contract The contract term of the customer (Month-to-month, One year, Two year)</li>\n",
    "    <li>PaperlessBilling Whether the customer has paperless billing or not (Yes, No)</li>\n",
    "    <li>PaymentMethod The customer’s payment method (Electronic check, Mailed check, Bank transfer (automatic), Credit card (automatic))</li>\n",
    "    <li>MonthlyCharges The amount charged to the customer monthly</li>\n",
    "    <li>TotalCharges The total amount charged to the customer</li>\n",
    "    <li>Churn Whether the customer churned or not (Yes or No)</li>\n",
    "<ul>"
   ]
  },
  {
   "cell_type": "markdown",
   "id": "59712d66",
   "metadata": {},
   "source": [
    "### Import Library dan Dataset"
   ]
  },
  {
   "cell_type": "code",
   "execution_count": 2,
   "id": "03946fd8",
   "metadata": {},
   "outputs": [
    {
     "name": "stdout",
     "output_type": "stream",
     "text": [
      "(7113, 22)\n"
     ]
    }
   ],
   "source": [
    "#import library\n",
    "import pandas as pd\n",
    "\n",
    "pd.options.display.max_columns = 50\n",
    "\n",
    "#import dataset\n",
    "df_load = pd.read_csv('../../../Dataset/dqlab_telco.csv')\n",
    "\n",
    "#Tampilkan jumlah baris dan kolom\n",
    "print(df_load.shape)"
   ]
  },
  {
   "cell_type": "code",
   "execution_count": 2,
   "id": "a61dd351",
   "metadata": {},
   "outputs": [
    {
     "data": {
      "text/html": [
       "<div>\n",
       "<style scoped>\n",
       "    .dataframe tbody tr th:only-of-type {\n",
       "        vertical-align: middle;\n",
       "    }\n",
       "\n",
       "    .dataframe tbody tr th {\n",
       "        vertical-align: top;\n",
       "    }\n",
       "\n",
       "    .dataframe thead th {\n",
       "        text-align: right;\n",
       "    }\n",
       "</style>\n",
       "<table border=\"1\" class=\"dataframe\">\n",
       "  <thead>\n",
       "    <tr style=\"text-align: right;\">\n",
       "      <th></th>\n",
       "      <th>UpdatedAt</th>\n",
       "      <th>customerID</th>\n",
       "      <th>gender</th>\n",
       "      <th>SeniorCitizen</th>\n",
       "      <th>Partner</th>\n",
       "      <th>Dependents</th>\n",
       "      <th>tenure</th>\n",
       "      <th>PhoneService</th>\n",
       "      <th>MultipleLines</th>\n",
       "      <th>InternetService</th>\n",
       "      <th>OnlineSecurity</th>\n",
       "      <th>OnlineBackup</th>\n",
       "      <th>DeviceProtection</th>\n",
       "      <th>TechSupport</th>\n",
       "      <th>StreamingTV</th>\n",
       "      <th>StreamingMovies</th>\n",
       "      <th>Contract</th>\n",
       "      <th>PaperlessBilling</th>\n",
       "      <th>PaymentMethod</th>\n",
       "      <th>MonthlyCharges</th>\n",
       "      <th>TotalCharges</th>\n",
       "      <th>Churn</th>\n",
       "    </tr>\n",
       "  </thead>\n",
       "  <tbody>\n",
       "    <tr>\n",
       "      <th>0</th>\n",
       "      <td>202006</td>\n",
       "      <td>45759018157</td>\n",
       "      <td>Female</td>\n",
       "      <td>0</td>\n",
       "      <td>Yes</td>\n",
       "      <td>No</td>\n",
       "      <td>1.0</td>\n",
       "      <td>No</td>\n",
       "      <td>No phone service</td>\n",
       "      <td>DSL</td>\n",
       "      <td>No</td>\n",
       "      <td>Yes</td>\n",
       "      <td>No</td>\n",
       "      <td>No</td>\n",
       "      <td>No</td>\n",
       "      <td>No</td>\n",
       "      <td>Month-to-month</td>\n",
       "      <td>Yes</td>\n",
       "      <td>Electronic check</td>\n",
       "      <td>29.85</td>\n",
       "      <td>29.85</td>\n",
       "      <td>No</td>\n",
       "    </tr>\n",
       "    <tr>\n",
       "      <th>1</th>\n",
       "      <td>202006</td>\n",
       "      <td>45557574145</td>\n",
       "      <td>Male</td>\n",
       "      <td>0</td>\n",
       "      <td>No</td>\n",
       "      <td>No</td>\n",
       "      <td>34.0</td>\n",
       "      <td>Yes</td>\n",
       "      <td>No</td>\n",
       "      <td>DSL</td>\n",
       "      <td>Yes</td>\n",
       "      <td>No</td>\n",
       "      <td>Yes</td>\n",
       "      <td>No</td>\n",
       "      <td>No</td>\n",
       "      <td>No</td>\n",
       "      <td>One year</td>\n",
       "      <td>No</td>\n",
       "      <td>Mailed check</td>\n",
       "      <td>56.95</td>\n",
       "      <td>1889.50</td>\n",
       "      <td>No</td>\n",
       "    </tr>\n",
       "    <tr>\n",
       "      <th>2</th>\n",
       "      <td>202006</td>\n",
       "      <td>45366876421</td>\n",
       "      <td>Male</td>\n",
       "      <td>0</td>\n",
       "      <td>No</td>\n",
       "      <td>No</td>\n",
       "      <td>2.0</td>\n",
       "      <td>Yes</td>\n",
       "      <td>No</td>\n",
       "      <td>DSL</td>\n",
       "      <td>Yes</td>\n",
       "      <td>Yes</td>\n",
       "      <td>No</td>\n",
       "      <td>No</td>\n",
       "      <td>No</td>\n",
       "      <td>No</td>\n",
       "      <td>Month-to-month</td>\n",
       "      <td>Yes</td>\n",
       "      <td>Mailed check</td>\n",
       "      <td>53.85</td>\n",
       "      <td>108.15</td>\n",
       "      <td>Yes</td>\n",
       "    </tr>\n",
       "    <tr>\n",
       "      <th>3</th>\n",
       "      <td>202006</td>\n",
       "      <td>45779536532</td>\n",
       "      <td>Male</td>\n",
       "      <td>0</td>\n",
       "      <td>No</td>\n",
       "      <td>No</td>\n",
       "      <td>45.0</td>\n",
       "      <td>No</td>\n",
       "      <td>No phone service</td>\n",
       "      <td>DSL</td>\n",
       "      <td>Yes</td>\n",
       "      <td>No</td>\n",
       "      <td>Yes</td>\n",
       "      <td>Yes</td>\n",
       "      <td>No</td>\n",
       "      <td>No</td>\n",
       "      <td>One year</td>\n",
       "      <td>No</td>\n",
       "      <td>Bank transfer (automatic)</td>\n",
       "      <td>42.30</td>\n",
       "      <td>1840.75</td>\n",
       "      <td>No</td>\n",
       "    </tr>\n",
       "    <tr>\n",
       "      <th>4</th>\n",
       "      <td>202006</td>\n",
       "      <td>45923787906</td>\n",
       "      <td>Female</td>\n",
       "      <td>0</td>\n",
       "      <td>No</td>\n",
       "      <td>No</td>\n",
       "      <td>2.0</td>\n",
       "      <td>Yes</td>\n",
       "      <td>No</td>\n",
       "      <td>Fiber optic</td>\n",
       "      <td>No</td>\n",
       "      <td>No</td>\n",
       "      <td>No</td>\n",
       "      <td>No</td>\n",
       "      <td>No</td>\n",
       "      <td>No</td>\n",
       "      <td>Month-to-month</td>\n",
       "      <td>Yes</td>\n",
       "      <td>Electronic check</td>\n",
       "      <td>70.70</td>\n",
       "      <td>151.65</td>\n",
       "      <td>Yes</td>\n",
       "    </tr>\n",
       "  </tbody>\n",
       "</table>\n",
       "</div>"
      ],
      "text/plain": [
       "   UpdatedAt   customerID  gender  SeniorCitizen Partner Dependents  tenure  \\\n",
       "0     202006  45759018157  Female              0     Yes         No     1.0   \n",
       "1     202006  45557574145    Male              0      No         No    34.0   \n",
       "2     202006  45366876421    Male              0      No         No     2.0   \n",
       "3     202006  45779536532    Male              0      No         No    45.0   \n",
       "4     202006  45923787906  Female              0      No         No     2.0   \n",
       "\n",
       "  PhoneService     MultipleLines InternetService OnlineSecurity OnlineBackup  \\\n",
       "0           No  No phone service             DSL             No          Yes   \n",
       "1          Yes                No             DSL            Yes           No   \n",
       "2          Yes                No             DSL            Yes          Yes   \n",
       "3           No  No phone service             DSL            Yes           No   \n",
       "4          Yes                No     Fiber optic             No           No   \n",
       "\n",
       "  DeviceProtection TechSupport StreamingTV StreamingMovies        Contract  \\\n",
       "0               No          No          No              No  Month-to-month   \n",
       "1              Yes          No          No              No        One year   \n",
       "2               No          No          No              No  Month-to-month   \n",
       "3              Yes         Yes          No              No        One year   \n",
       "4               No          No          No              No  Month-to-month   \n",
       "\n",
       "  PaperlessBilling              PaymentMethod  MonthlyCharges  TotalCharges  \\\n",
       "0              Yes           Electronic check           29.85         29.85   \n",
       "1               No               Mailed check           56.95       1889.50   \n",
       "2              Yes               Mailed check           53.85        108.15   \n",
       "3               No  Bank transfer (automatic)           42.30       1840.75   \n",
       "4              Yes           Electronic check           70.70        151.65   \n",
       "\n",
       "  Churn  \n",
       "0    No  \n",
       "1    No  \n",
       "2   Yes  \n",
       "3    No  \n",
       "4   Yes  "
      ]
     },
     "execution_count": 2,
     "metadata": {},
     "output_type": "execute_result"
    }
   ],
   "source": [
    "#Tampilkan 5 data teratas\n",
    "df_load.head(5)"
   ]
  },
  {
   "cell_type": "code",
   "execution_count": 3,
   "id": "c0d9d921",
   "metadata": {},
   "outputs": [
    {
     "name": "stdout",
     "output_type": "stream",
     "text": [
      "7017\n"
     ]
    }
   ],
   "source": [
    "#Jumlah ID yang unik\n",
    "print(df_load.customerID.nunique())"
   ]
  },
  {
   "cell_type": "markdown",
   "id": "a6f7910e",
   "metadata": {},
   "source": [
    "### Memfilter ID Number Pelanggan Format Tertentu\n",
    "Mencari format ID Number (Phone Number) Pelanggan customerID yang benar, dengan kriteria:\n",
    "<ul>\n",
    "    <li>Panjang karakter adalah 11-12.</li>\n",
    "    <li>Terdiri dari angka Saja, tidak diperbolehkan ada karakter selain angka</li>\n",
    "    <li>Diawali dengan angka 45 2 digit pertama.</li>\n",
    "<ul>"
   ]
  },
  {
   "cell_type": "code",
   "execution_count": 4,
   "id": "06790c81",
   "metadata": {},
   "outputs": [
    {
     "name": "stdout",
     "output_type": "stream",
     "text": [
      "Hasil jumlah ID Customer yang terfilter adalah 7006\n"
     ]
    }
   ],
   "source": [
    "df_load['valid_id'] = df_load['customerID'].astype(str).str.match(\n",
    "    r'(45\\d{9,10})')\n",
    "df_load = (df_load[df_load['valid_id'] == True]).drop('valid_id', axis=1)\n",
    "print('Hasil jumlah ID Customer yang terfilter adalah',\n",
    "      df_load['customerID'].count())"
   ]
  },
  {
   "cell_type": "markdown",
   "id": "38458ed5",
   "metadata": {},
   "source": [
    "### Memfilter Duplikasi ID Number Pelanggan\n",
    "Memastikan bahwa tidak ada Id Number pelanggan yang duplikat. Biasanya duplikasi ID number ini tipenya:\n",
    "<ul>\n",
    "    <li>Duplikasi dikarenakan inserting melebihi satu kali dengan nilai yang sama tiap kolomnya</li>\n",
    "    <li>Duplikasi dikarenakan inserting beda periode pengambilan data</li>\n",
    "</ul>"
   ]
  },
  {
   "cell_type": "code",
   "execution_count": 5,
   "id": "9a83de12",
   "metadata": {},
   "outputs": [
    {
     "name": "stdout",
     "output_type": "stream",
     "text": [
      "Hasil jumlah ID Customer yang sudah dihilangkan duplikasinya (distinct) adalah 6993\n"
     ]
    }
   ],
   "source": [
    "# Drop Duplicate Rows\n",
    "df_load.drop_duplicates()\n",
    "# Drop duplicate ID sorted by Periode\n",
    "df_load = df_load.sort_values('UpdatedAt',\n",
    "                              ascending=False).drop_duplicates(['customerID'])\n",
    "print(\n",
    "    'Hasil jumlah ID Customer yang sudah dihilangkan duplikasinya (distinct) adalah',\n",
    "    df_load['customerID'].count())"
   ]
  },
  {
   "cell_type": "markdown",
   "id": "13c089f3",
   "metadata": {},
   "source": [
    "### Kesimpulan\n",
    "Validitas dari ID Number pelanggan sangat diperlukan untuk memastikan bahwa data yang kita ambil sudah benar. Berdasarkan hasil tersebut, terdapat perbedaan jumlah nomor ID dari data pertama kali di load sampai dengan hasil akhir. Jumlah row data ketika pertama kali di load ada sebanyak 7113 rows dan 22 columns dengan 7017 jumlah ID yang unique. Kemudian setelah di cek validitas dari ID pelanggan, maka tersisa 6993 rows data"
   ]
  },
  {
   "cell_type": "markdown",
   "id": "33e8ecfd",
   "metadata": {},
   "source": [
    "### Mengatasi Missing Values dengan Penghapusan Rows\n",
    "Selanjutnya kita akan menghapus rows dari data-data yang tidak terdeteksi apakah dia churn atau tidak. Diasumsikan data modeller hanya mau menerima data yang benar ada flag churn-nya atau tidak."
   ]
  },
  {
   "cell_type": "code",
   "execution_count": 6,
   "id": "a37af3ec",
   "metadata": {},
   "outputs": [
    {
     "name": "stdout",
     "output_type": "stream",
     "text": [
      "Total missing values data dari kolom Churn 43\n",
      "Total Rows dan Kolom Data setelah dihapus data Missing Values adalah  (6950, 22)\n"
     ]
    }
   ],
   "source": [
    "print('Total missing values data dari kolom Churn',\n",
    "      df_load['Churn'].isnull().sum())\n",
    "# Dropping all Rows with spesific column (churn)\n",
    "df_load.dropna(subset=['Churn'], inplace=True)\n",
    "print('Total Rows dan Kolom Data setelah dihapus data Missing Values adalah ',\n",
    "      df_load.shape)"
   ]
  },
  {
   "cell_type": "markdown",
   "id": "363b9d87",
   "metadata": {},
   "source": [
    "### Mengatasi Missing Values dengan Pengisian Nilai tertentu\n",
    "Selain dengan menghapus rows dari data, menangani missing values bisa menggunakan nilai tertentu. Diasumsikan data modeller meminta pengisian missing values dengan kriteria berikut:\n",
    "<ul>\n",
    "    <li>Tenure pihak data modeller meminta setiap rows yang memiliki missing values untuk lama berlangganan di isi dengan 11.</li>\n",
    "    <li>Variable yang bersifat numeric selain Tenure di isi dengan median dari masing-masing variable tersebut.</li>\n",
    "</ul>\n",
    "Tentukan:\n",
    "<ul>\n",
    "    <li>Apakah masih ada data yang missing values</li>\n",
    "    <li>Jumlah missing values dari masing-masing variable</li>\n",
    "    <li>Tangani missing values-nya</li>\n",
    "</ul>"
   ]
  },
  {
   "cell_type": "code",
   "execution_count": 7,
   "id": "2947bd07",
   "metadata": {},
   "outputs": [
    {
     "name": "stdout",
     "output_type": "stream",
     "text": [
      "Status Missing Values : True\n",
      "\n",
      "Jumlah Missing Values masing-masing kolom, adalah:\n",
      "tenure              99\n",
      "MonthlyCharges      26\n",
      "TotalCharges        15\n",
      "UpdatedAt            0\n",
      "DeviceProtection     0\n",
      "PaymentMethod        0\n",
      "PaperlessBilling     0\n",
      "Contract             0\n",
      "StreamingMovies      0\n",
      "StreamingTV          0\n",
      "TechSupport          0\n",
      "OnlineBackup         0\n",
      "customerID           0\n",
      "OnlineSecurity       0\n",
      "InternetService      0\n",
      "MultipleLines        0\n",
      "PhoneService         0\n",
      "Dependents           0\n",
      "Partner              0\n",
      "SeniorCitizen        0\n",
      "gender               0\n",
      "Churn                0\n",
      "dtype: int64\n",
      "\n",
      "Jumlah missing values setelah di imputer datanya, adalah:\n",
      "UpdatedAt           0\n",
      "customerID          0\n",
      "TotalCharges        0\n",
      "MonthlyCharges      0\n",
      "PaymentMethod       0\n",
      "PaperlessBilling    0\n",
      "Contract            0\n",
      "StreamingMovies     0\n",
      "StreamingTV         0\n",
      "TechSupport         0\n",
      "DeviceProtection    0\n",
      "OnlineBackup        0\n",
      "OnlineSecurity      0\n",
      "InternetService     0\n",
      "MultipleLines       0\n",
      "PhoneService        0\n",
      "tenure              0\n",
      "Dependents          0\n",
      "Partner             0\n",
      "SeniorCitizen       0\n",
      "gender              0\n",
      "Churn               0\n",
      "dtype: int64\n"
     ]
    }
   ],
   "source": [
    "print('Status Missing Values :', df_load.isnull().values.any())\n",
    "print('\\nJumlah Missing Values masing-masing kolom, adalah:')\n",
    "print(df_load.isnull().sum().sort_values(ascending=False))\n",
    "\n",
    "#handling missing values Tenure fill with 11\n",
    "df_load['tenure'].fillna(11, inplace=True)\n",
    "\n",
    "#Loop\n",
    "#Handling missing values num vars (except Tenure)\n",
    "for col_name in list(['MonthlyCharges', 'TotalCharges']):\n",
    "    median = df_load[col_name].median()\n",
    "    df_load[col_name].fillna(median, inplace=True)\n",
    "\n",
    "print('\\nJumlah missing values setelah di imputer datanya, adalah:')\n",
    "print(df_load.isnull().sum().sort_values(ascending=False))"
   ]
  },
  {
   "cell_type": "markdown",
   "id": "88344ac0",
   "metadata": {},
   "source": [
    "### Kesimpulan\n",
    "Setelah kita analisis lebih lanjut, ternyata masih ada missing values dari data yang kita sudah validkan Id Number pelanggannya. Missing values terdapat pada kolom Churn, tenure, MonthlyCharges & TotalCharges. Setelah kita tangani dengan cara penghapusan rows dan pengisian rows dengan nilai tertentu, terbukti sudah tidak ada missing values lagi pada data, terbukti dari jumlah missing values masing-masing variable yang bernilai 0. Selanjutnya kita akan melakukan penanganan pencilan (outlier)"
   ]
  },
  {
   "cell_type": "markdown",
   "id": "d5943b6f",
   "metadata": {},
   "source": [
    "### Mendeteksi adanya Outlier (Boxplot)\n",
    "Mendeteksi pencilan dari suatu nilai (outlier) salah satunya bisa melihat plot dari data tersebut menggunakan boxplot. Boxplot merupakan ringkasan distribusi sampel yang disajikan secara grafis yang bisa menggambarkan bentuk distribusi data (skewness), ukuran tendensi sentral dan ukuran penyebaran (keragaman) data pengamatan."
   ]
  },
  {
   "attachments": {
    "image.png": {
     "image/png": "[encoded data removed]"
    }
   },
   "cell_type": "markdown",
   "id": "9c81db4d",
   "metadata": {},
   "source": [
    "![image.png]\n",
    "<img src=\"attachment:image.png\" width=\"500\"/>"
   ]
  },
  {
   "cell_type": "code",
   "execution_count": 8,
   "id": "f347c0e9",
   "metadata": {},
   "outputs": [
    {
     "name": "stdout",
     "output_type": "stream",
     "text": [
      "\n",
      "Persebaran data sebelum ditangani Outlier: \n",
      "            tenure  MonthlyCharges  TotalCharges\n",
      "count  6950.000000     6950.000000   6950.000000\n",
      "mean     32.477266       65.783741   2305.083460\n",
      "std      25.188910       50.457871   2578.651143\n",
      "min       0.000000        0.000000     19.000000\n",
      "25%       9.000000       36.462500    406.975000\n",
      "50%      29.000000       70.450000   1400.850000\n",
      "75%      55.000000       89.850000   3799.837500\n",
      "max     500.000000     2311.000000  80000.000000\n"
     ]
    }
   ],
   "source": [
    "print('\\nPersebaran data sebelum ditangani Outlier: ')\n",
    "print(df_load[['tenure', 'MonthlyCharges', 'TotalCharges']].describe())"
   ]
  },
  {
   "cell_type": "code",
   "execution_count": 9,
   "id": "a080fe0d",
   "metadata": {},
   "outputs": [
    {
     "data": {
      "image/png": "[encoded data removed]",
      "text/plain": [
       "<Figure size 432x288 with 1 Axes>"
      ]
     },
     "metadata": {
      "needs_background": "light"
     },
     "output_type": "display_data"
    },
    {
     "data": {
      "image/png": "[encoded data removed]",
      "text/plain": [
       "<Figure size 432x288 with 1 Axes>"
      ]
     },
     "metadata": {
      "needs_background": "light"
     },
     "output_type": "display_data"
    },
    {
     "data": {
      "image/png": "[encoded data removed]",
      "text/plain": [
       "<Figure size 432x288 with 1 Axes>"
      ]
     },
     "metadata": {
      "needs_background": "light"
     },
     "output_type": "display_data"
    }
   ],
   "source": [
    "# Creating Box Plot\n",
    "import matplotlib.pyplot as plt\n",
    "import seaborn as sns\n",
    "\n",
    "plt.figure()  # untuk membuat figure baru\n",
    "sns.boxplot(x=df_load['tenure'])\n",
    "plt.show()\n",
    "\n",
    "plt.figure()  # untuk membuat figure baru\n",
    "sns.boxplot(x=df_load['MonthlyCharges'])\n",
    "plt.show()\n",
    "\n",
    "plt.figure()\n",
    "sns.boxplot(x=df_load['TotalCharges'])\n",
    "plt.show()"
   ]
  },
  {
   "cell_type": "markdown",
   "id": "e213697a",
   "metadata": {},
   "source": [
    "### Mengatasi Outlier\n",
    "Setelah kita mengetahui variable mana saja yang terdapat pencilan (outlier), selanjutnya kita akan atasi outlier dengan menggunakan metode interquartile range (IQR). Untuk detail jelasnya, bisa dilihat di ilustrasi di bawah ini:"
   ]
  },
  {
   "cell_type": "code",
   "execution_count": 10,
   "id": "f5f4e166",
   "metadata": {},
   "outputs": [
    {
     "name": "stdout",
     "output_type": "stream",
     "text": [
      "Nilai Maximum dari masing-masing Variable adalah:\n",
      "tenure             124.00000\n",
      "MonthlyCharges     169.93125\n",
      "TotalCharges      8889.13125\n",
      "dtype: float64\n",
      "\n",
      "Nilai Minimum dari masing-masing Variable adalah:\n",
      "tenure             -60.00000\n",
      "MonthlyCharges     -43.61875\n",
      "TotalCharges     -4682.31875\n",
      "dtype: float64\n"
     ]
    },
    {
     "name": "stderr",
     "output_type": "stream",
     "text": [
      "C:\\Users\\numbe\\AppData\\Local\\Temp/ipykernel_7520/1442858778.py:13: FutureWarning: Automatic reindexing on DataFrame vs Series comparisons is deprecated and will raise ValueError in a future version.  Do `left, right = left.align(right, axis=1, copy=False)` before e.g. `left == right`\n",
      "  more_than = (df_load > maximum)\n",
      "C:\\Users\\numbe\\AppData\\Local\\Temp/ipykernel_7520/1442858778.py:14: FutureWarning: Automatic reindexing on DataFrame vs Series comparisons is deprecated and will raise ValueError in a future version.  Do `left, right = left.align(right, axis=1, copy=False)` before e.g. `left == right`\n",
      "  lower_than = (df_load < minimum)\n"
     ]
    },
    {
     "name": "stdout",
     "output_type": "stream",
     "text": [
      "\n",
      "Persebaran data setelah ditangani Outlier:\n",
      "            tenure  MonthlyCharges  TotalCharges\n",
      "count  6950.000000     6950.000000   6950.000000\n",
      "mean     32.423165       64.992201   2286.058750\n",
      "std      24.581073       30.032040   2265.702553\n",
      "min       0.000000        0.000000     19.000000\n",
      "25%       9.000000       36.462500    406.975000\n",
      "50%      29.000000       70.450000   1400.850000\n",
      "75%      55.000000       89.850000   3799.837500\n",
      "max     124.000000      169.931250   8889.131250\n"
     ]
    }
   ],
   "source": [
    "# Handling with IQR\n",
    "Q1 = (df_load[['tenure', 'MonthlyCharges', 'TotalCharges']]).quantile(0.25)\n",
    "Q3 = (df_load[['tenure', 'MonthlyCharges', 'TotalCharges']]).quantile(0.75)\n",
    "\n",
    "IQR = Q3 - Q1\n",
    "maximum = Q3 + (1.5 * IQR)\n",
    "print('Nilai Maximum dari masing-masing Variable adalah:')\n",
    "print(maximum)\n",
    "minimum = Q1 - (1.5 * IQR)\n",
    "print('\\nNilai Minimum dari masing-masing Variable adalah:')\n",
    "print(minimum)\n",
    "\n",
    "more_than = (df_load > maximum)\n",
    "lower_than = (df_load < minimum)\n",
    "df_load = df_load.mask(more_than, maximum, axis=1)\n",
    "df_load = df_load.mask(lower_than, minimum, axis=1)\n",
    "\n",
    "print('\\nPersebaran data setelah ditangani Outlier:')\n",
    "print(df_load[['tenure', 'MonthlyCharges', 'TotalCharges']].describe())"
   ]
  },
  {
   "cell_type": "markdown",
   "id": "c3699488",
   "metadata": {},
   "source": [
    "### Kesimpulan\n",
    "Dari ketiga boxplot dengan variable 'tenure','MonthlyCharges' & 'TotalCharges' terlihat jelas bahwasannya ada outlier. Hal ini bisa di identifikasi dari adanya titik-titik yang berada jauh dari gambar boxplot-nya. Kemudian kalau kita liat persebaran datanya dari kolom max nya juga ada nilai yang sangat tinggi sekali.\n",
    "\n",
    "Kemudian nilai outlier tersebut ditangani dengan cara merubah nilainya ke nilai maximum & minimum dari interquartile range (IQR). Setelah di tangani outlier-nya, dan dilihat perseberan datanya, terlihat sudah tidak ada lagi nilai yang outlier."
   ]
  },
  {
   "cell_type": "markdown",
   "id": "13930057",
   "metadata": {},
   "source": [
    "### Mendeteksi Nilai yang tidak Standar\n",
    "Mendeteksi apakah ada nilai-nilai dari variable kategorik yang tidak standard. Hal ini biasanya terjadi dikarenakan kesalahan input data. Perbedaan istilah menjadi salah satu faktor yang sering terjadi, untuk itu dibutuhkan standardisasi dari data yang sudah ter-input."
   ]
  },
  {
   "cell_type": "code",
   "execution_count": 11,
   "id": "4941fe1c",
   "metadata": {},
   "outputs": [
    {
     "name": "stdout",
     "output_type": "stream",
     "text": [
      "\n",
      "Unique Values Count \u001b[1mBefore Standardized \u001b[0m Variable gender\n",
      "Male         3499\n",
      "Female       3431\n",
      "Wanita         14\n",
      "Laki-Laki       6\n",
      "Name: gender, dtype: int64\n",
      "\n",
      "Unique Values Count \u001b[1mBefore Standardized \u001b[0m Variable SeniorCitizen\n",
      "0    5822\n",
      "1    1128\n",
      "Name: SeniorCitizen, dtype: int64\n",
      "\n",
      "Unique Values Count \u001b[1mBefore Standardized \u001b[0m Variable Partner\n",
      "No     3591\n",
      "Yes    3359\n",
      "Name: Partner, dtype: int64\n",
      "\n",
      "Unique Values Count \u001b[1mBefore Standardized \u001b[0m Variable Dependents\n",
      "No     4870\n",
      "Yes    2060\n",
      "Iya      20\n",
      "Name: Dependents, dtype: int64\n",
      "\n",
      "Unique Values Count \u001b[1mBefore Standardized \u001b[0m Variable PhoneService\n",
      "Yes    6281\n",
      "No      669\n",
      "Name: PhoneService, dtype: int64\n",
      "\n",
      "Unique Values Count \u001b[1mBefore Standardized \u001b[0m Variable MultipleLines\n",
      "No                  3346\n",
      "Yes                 2935\n",
      "No phone service     669\n",
      "Name: MultipleLines, dtype: int64\n",
      "\n",
      "Unique Values Count \u001b[1mBefore Standardized \u001b[0m Variable InternetService\n",
      "Fiber optic    3057\n",
      "DSL            2388\n",
      "No             1505\n",
      "Name: InternetService, dtype: int64\n",
      "\n",
      "Unique Values Count \u001b[1mBefore Standardized \u001b[0m Variable OnlineSecurity\n",
      "No                     3454\n",
      "Yes                    1991\n",
      "No internet service    1505\n",
      "Name: OnlineSecurity, dtype: int64\n",
      "\n",
      "Unique Values Count \u001b[1mBefore Standardized \u001b[0m Variable OnlineBackup\n",
      "No                     3045\n",
      "Yes                    2400\n",
      "No internet service    1505\n",
      "Name: OnlineBackup, dtype: int64\n",
      "\n",
      "Unique Values Count \u001b[1mBefore Standardized \u001b[0m Variable DeviceProtection\n",
      "No                     3054\n",
      "Yes                    2391\n",
      "No internet service    1505\n",
      "Name: DeviceProtection, dtype: int64\n",
      "\n",
      "Unique Values Count \u001b[1mBefore Standardized \u001b[0m Variable TechSupport\n",
      "No                     3431\n",
      "Yes                    2014\n",
      "No internet service    1505\n",
      "Name: TechSupport, dtype: int64\n",
      "\n",
      "Unique Values Count \u001b[1mBefore Standardized \u001b[0m Variable StreamingTV\n",
      "No                     2774\n",
      "Yes                    2671\n",
      "No internet service    1505\n",
      "Name: StreamingTV, dtype: int64\n",
      "\n",
      "Unique Values Count \u001b[1mBefore Standardized \u001b[0m Variable StreamingMovies\n",
      "No                     2747\n",
      "Yes                    2698\n",
      "No internet service    1505\n",
      "Name: StreamingMovies, dtype: int64\n",
      "\n",
      "Unique Values Count \u001b[1mBefore Standardized \u001b[0m Variable Contract\n",
      "Month-to-month    3823\n",
      "Two year          1670\n",
      "One year          1457\n",
      "Name: Contract, dtype: int64\n",
      "\n",
      "Unique Values Count \u001b[1mBefore Standardized \u001b[0m Variable PaperlessBilling\n",
      "Yes    4114\n",
      "No     2836\n",
      "Name: PaperlessBilling, dtype: int64\n",
      "\n",
      "Unique Values Count \u001b[1mBefore Standardized \u001b[0m Variable PaymentMethod\n",
      "Electronic check             2337\n",
      "Mailed check                 1594\n",
      "Bank transfer (automatic)    1519\n",
      "Credit card (automatic)      1500\n",
      "Name: PaymentMethod, dtype: int64\n",
      "\n",
      "Unique Values Count \u001b[1mBefore Standardized \u001b[0m Variable Churn\n",
      "No       5114\n",
      "Yes      1827\n",
      "Churn       9\n",
      "Name: Churn, dtype: int64\n"
     ]
    }
   ],
   "source": [
    "#Loop\n",
    "for col_name in list([\n",
    "        'gender', 'SeniorCitizen', 'Partner', 'Dependents', 'PhoneService',\n",
    "        'MultipleLines', 'InternetService', 'OnlineSecurity', 'OnlineBackup',\n",
    "        'DeviceProtection', 'TechSupport', 'StreamingTV', 'StreamingMovies',\n",
    "        'Contract', 'PaperlessBilling', 'PaymentMethod', 'Churn'\n",
    "]):\n",
    "    print(\n",
    "        '\\nUnique Values Count \\033[1m' +\n",
    "        'Before Standardized \\033[0m Variable', col_name)\n",
    "    print(df_load[col_name].value_counts())"
   ]
  },
  {
   "cell_type": "markdown",
   "id": "499d6a75",
   "metadata": {},
   "source": [
    "### Menstandarisasi Variable Kategorik\n",
    "Setelah kita mengeteahui variable mana saja yang ada nilai tidak standard, maka kita standardkan dengan pola terbanyak nya, dengan syarat tanpa mengubah maknanya. Contoh : Iya -> Yes Kemudian liat kembali unique values dari masing-masing variable yang sudah di ubah. Gunakan fungsi replace() untuk menstandardkan nilai."
   ]
  },
  {
   "cell_type": "code",
   "execution_count": 13,
   "id": "e233d792",
   "metadata": {},
   "outputs": [
    {
     "name": "stdout",
     "output_type": "stream",
     "text": [
      "\n",
      "Unique Values Count \u001b[1mAfter Standardized\u001b[0m Variable gender\n",
      "Male      3505\n",
      "Female    3445\n",
      "Name: gender, dtype: int64\n",
      "\n",
      "Unique Values Count \u001b[1mAfter Standardized\u001b[0m Variable Dependents\n",
      "No     4870\n",
      "Yes    2080\n",
      "Name: Dependents, dtype: int64\n",
      "\n",
      "Unique Values Count \u001b[1mAfter Standardized\u001b[0m Variable Churn\n",
      "No     5114\n",
      "Yes    1836\n",
      "Name: Churn, dtype: int64\n"
     ]
    }
   ],
   "source": [
    "df_load = df_load.replace(['Wanita', 'Laki-Laki', 'Churn', 'Iya'],\n",
    "                          ['Female', 'Male', 'Yes', 'Yes'])\n",
    "\n",
    "#Loop\n",
    "for col_name in list(['gender', 'Dependents', 'Churn']):\n",
    "    print(\n",
    "        '\\nUnique Values Count \\033[1m' + 'After Standardized\\033[0m Variable',\n",
    "        col_name)\n",
    "    print(df_load[col_name].value_counts())"
   ]
  },
  {
   "cell_type": "markdown",
   "id": "a0a34909",
   "metadata": {},
   "source": [
    "### Kesimpulan\n",
    "Ketika kita amati lebih jauh dari jumlah unique value dari masing-masing variable kategorik, terlihat jelas bahwa ada beberapa variable yang tidak standar. Variable itu adalah:\n",
    "\n",
    "Gender (Female, Male, Wanita, Laki-Laki), yang bisa di standardkan nilainya menjadi (Female, Male) karena mempunyai makna yang sama.\n",
    "Dependents (Yes, No, Iya), yang bisa di standardkan nilainya menjadi (Yes, No) karena mempunyai makna yang sama.\n",
    "Churn (Yes, No, Churn), yang bisa di standardkan nilainya menjadi (Yes, No) karena mempunyai makna yang sama.\n",
    "Setelah kita standardkan nilainya, dan kita amati kembali bentuk datanya, sudah terstandar dengan baik untuk unique value-nya."
   ]
  }
 ],
 "metadata": {
  "kernelspec": {
   "display_name": "Python 3 (ipykernel)",
   "language": "python",
   "name": "python3"
  },
  "language_info": {
   "codemirror_mode": {
    "name": "ipython",
    "version": 3
   },
   "file_extension": ".py",
   "mimetype": "text/x-python",
   "name": "python",
   "nbconvert_exporter": "python",
   "pygments_lexer": "ipython3",
   "version": "3.9.7"
  }
 },
 "nbformat": 4,
 "nbformat_minor": 5
}
