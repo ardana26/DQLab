{
 "cells": [
  {
   "cell_type": "markdown",
   "id": "c332c727",
   "metadata": {},
   "source": [
    "##### Latar Belakang\n",
    "DQLab Telco merupakan perusahaan Telco yang sudah mempunyai banyak cabang tersebar dimana-mana. Sejak berdiri pada tahun 2019, DQLab Telco konsisten untuk memperhatikan customer experience-nya sehingga tidak akan ditinggalkan pelanggan.\n",
    "\n",
    "Walaupun baru berumur 1 tahun lebih sedikit, DQLab Telco sudah mempunyai banyak pelanggan yang beralih langganan ke kompetitor. Pihak management ingin mengurangi jumlah pelanggan yang beralih (churn) dengan menggunakan machine learning.\n",
    "\n",
    "Oleh karena itu, tim Data Scientist diminta untuk mempersiapkan data sekaligus membuat model prediksi yang tepat untuk menentukan pelanggan akan berhenti berlangganan (churn) atau tidak."
   ]
  },
  {
   "cell_type": "markdown",
   "id": "98b27bbb",
   "metadata": {},
   "source": [
    "### Tugas dan Langkah\n",
    "Sebagai seorang data scientist, kamu diminta untuk menyiapkan data sebelum dilakukan permodelan.\n",
    "\n",
    "Pada tugas kali ini, kamu akan melakukan Data Preprocessing (Data Cleansing) bulan lalu, yakni Juni 2020.\n",
    "\n",
    "Langkah yang akan dilakukan adalah,\n",
    "<ol>\n",
    "    <li>Mencari ID pelanggan (Nomor telepon) yang valid</li>\n",
    "    <li>Mengatasi data-data yang masih kosong (Missing Values)</li>\n",
    "    <li>Mengatasi Nilai-Nilai Pencilan (Outlier) dari setiap Variable</li>\n",
    "    <li>Menstandardisasi Nilai dari Variable</li>\n",
    "<ol>"
   ]
  },
  {
   "cell_type": "markdown",
   "id": "e17d305e",
   "metadata": {},
   "source": [
    "### Library yang Digunakan\n",
    "Pada analisis kali ini, akan digunakan beberapa package yang membantu kita dalam melakukan analisis data.\n",
    "<ol>\n",
    "    <li>Pandas\n",
    "        <p>Pandas (Python for Data Analysis) adalah library Python yang fokus untuk proses analisis data seperti manipulasi data, persiapan data, dan pembersihan data.</p>\n",
    "        <ul>\n",
    "            <li>read_csv() digunakan untuk membaca file csv</li>\n",
    "            <li>str.match() digunakan untuk mencocokan dengan karakter tertentu</li>\n",
    "            <li>drop() digunakan untuk menghapus</li>\n",
    "            <li>count() digunakan untuk menghitung masing-masing variable</li>\n",
    "            <li>drop_duplicates() digunakan untuk menghapus data duplicate rows</li>\n",
    "            <li>fillna() digunakan untuk mengisi dengan nilai tertentu</li>\n",
    "            <li>quantile() digunakan untuk melihat quantile ke tertentu</li>\n",
    "            <li>mask() mengganti nilai tertentu jika kondisi memenuhi</li>\n",
    "            <li>astype() mengubah tipe data</li>\n",
    "            <li>value_counts() digunakan untuk menghitung unik dari kolom</li>\n",
    "            <li>sort_values() digunakan untuk sort values</li>\n",
    "            <li>isnull() digunakan untuk mendeteksi missing values</li>\n",
    "            <li>dropna() digunakan untuk menghapus missing values</li>\n",
    "            <li>replace() digunakan untuk mengganti nilai</li>\n",
    "        </ul>\n",
    "    </li>    \n",
    "    <li>Matplotlib\n",
    "        <p>Matplotlib adalah library Python yang fokus pada visualisasi data seperti membuat plot grafik. Matplotlib dapat digunakan dalam skrip Python, Python dan IPython shell, server aplikasi web, dan beberapa toolkit graphical user interface (GUI) lainnya.</p>\n",
    "        <ul>\n",
    "            <li>figure() digunakan untuk membuat figure gambar baru</li>\n",
    "        </ul>\n",
    "    </li>\n",
    "    <li>Seaborn\n",
    "        <p>Seaborn membangun di atas Matplotlib dan memperkenalkan tipe plot tambahan. Ini juga membuat plot Matplotlib tradisional Anda terlihat sedikit lebih cantik.</p>\n",
    "        <ul>\n",
    "            <li>box_plot() digunakan untuk membuat box plot</li>\n",
    "        </ul>\n",
    "    </li>\n",
    "</ol>"
   ]
  },
  {
   "cell_type": "markdown",
   "id": "4ad942b9",
   "metadata": {},
   "source": [
    "### Data yang Digunakan\n",
    "Untuk dataset yang digunakan sudah disediakan dalam format csv, silahkan baca melalui fungsi pandas di python df_load = pd.read_csv('https://storage.googleapis.com/dqlab-dataset/dqlab_telco.csv')\n",
    "\n",
    " \n",
    "Untuk detail datanya adalah sebagai berikut:\n",
    "<ul>\n",
    "    <li>UpdatedAt Periode of Data taken</li>\n",
    "    <li>customerID Customer ID</li>\n",
    "    <li>gender Whether the customer is a male or a female (Male, Female)</li>\n",
    "    <li>SeniorCitizen Whether the customer is a senior citizen or not (1, 0)</li>\n",
    "    <li>Partner Whether the customer has a partner or not (Yes, No)</li>\n",
    "    <li>Dependents Whether the customer has dependents or not (Yes, No)</li>\n",
    "    <li>tenure Number of months the customer has stayed with the company</li>\n",
    "    <li>PhoneService Whether the customer has a phone service or not (Yes, No)</li>\n",
    "    <li>MultipleLines Whether the customer has multiple lines or not (Yes, No, No phone service)</li>\n",
    "    <li>InternetService Customer’s internet service provider (DSL, Fiber optic, No)</li>\n",
    "    <li>OnlineSecurity Whether the customer has online security or not (Yes, No, No internet service)</li>\n",
    "    <li>OnlineBackup Whether the customer has online backup or not (Yes, No, No internet service)</li>\n",
    "    <li>DeviceProtection Whether the customer has device protection or not (Yes, No, No internet service)</li>\n",
    "    <li>TechSupport Whether the customer has tech support or not (Yes, No, No internet service)</li>\n",
    "    <li>StreamingTV Whether the customer has streaming TV or not (Yes, No, No internet service)</li>\n",
    "    <li>StreamingMovies Whether the customer has streaming movies or not (Yes, No, No internet service)</li>\n",
    "    <li>Contract The contract term of the customer (Month-to-month, One year, Two year)</li>\n",
    "    <li>PaperlessBilling Whether the customer has paperless billing or not (Yes, No)</li>\n",
    "    <li>PaymentMethod The customer’s payment method (Electronic check, Mailed check, Bank transfer (automatic), Credit card (automatic))</li>\n",
    "    <li>MonthlyCharges The amount charged to the customer monthly</li>\n",
    "    <li>TotalCharges The total amount charged to the customer</li>\n",
    "    <li>Churn Whether the customer churned or not (Yes or No)</li>\n",
    "<ul>"
   ]
  },
  {
   "cell_type": "markdown",
   "id": "59712d66",
   "metadata": {},
   "source": [
    "### Import Library dan Dataset"
   ]
  },
  {
   "cell_type": "code",
   "execution_count": 1,
   "id": "03946fd8",
   "metadata": {},
   "outputs": [
    {
     "name": "stdout",
     "output_type": "stream",
     "text": [
      "(6950, 13)\n"
     ]
    }
   ],
   "source": [
    "#import library\n",
    "import pandas as pd\n",
    "pd.options.display.max_columns = 50\n",
    "\n",
    "#import dataset\n",
    "df_load = pd.read_csv('../../../Dataset/dqlab_telco.csv')\n",
    "\n",
    "#Tampilkan jumlah baris dan kolom\n",
    "print(df_load.shape)"
   ]
  },
  {
   "cell_type": "code",
   "execution_count": 2,
   "id": "a61dd351",
   "metadata": {},
   "outputs": [
    {
     "data": {
      "text/html": [
       "<div>\n",
       "<style scoped>\n",
       "    .dataframe tbody tr th:only-of-type {\n",
       "        vertical-align: middle;\n",
       "    }\n",
       "\n",
       "    .dataframe tbody tr th {\n",
       "        vertical-align: top;\n",
       "    }\n",
       "\n",
       "    .dataframe thead th {\n",
       "        text-align: right;\n",
       "    }\n",
       "</style>\n",
       "<table border=\"1\" class=\"dataframe\">\n",
       "  <thead>\n",
       "    <tr style=\"text-align: right;\">\n",
       "      <th></th>\n",
       "      <th>UpdatedAt</th>\n",
       "      <th>customerID</th>\n",
       "      <th>gender</th>\n",
       "      <th>SeniorCitizen</th>\n",
       "      <th>Partner</th>\n",
       "      <th>tenure</th>\n",
       "      <th>PhoneService</th>\n",
       "      <th>StreamingTV</th>\n",
       "      <th>InternetService</th>\n",
       "      <th>PaperlessBilling</th>\n",
       "      <th>MonthlyCharges</th>\n",
       "      <th>TotalCharges</th>\n",
       "      <th>Churn</th>\n",
       "    </tr>\n",
       "  </thead>\n",
       "  <tbody>\n",
       "    <tr>\n",
       "      <th>0</th>\n",
       "      <td>202006</td>\n",
       "      <td>45759018157</td>\n",
       "      <td>Female</td>\n",
       "      <td>No</td>\n",
       "      <td>Yes</td>\n",
       "      <td>1</td>\n",
       "      <td>No</td>\n",
       "      <td>No</td>\n",
       "      <td>Yes</td>\n",
       "      <td>Yes</td>\n",
       "      <td>29.85</td>\n",
       "      <td>29.85</td>\n",
       "      <td>No</td>\n",
       "    </tr>\n",
       "    <tr>\n",
       "      <th>1</th>\n",
       "      <td>202006</td>\n",
       "      <td>45315483266</td>\n",
       "      <td>Male</td>\n",
       "      <td>No</td>\n",
       "      <td>Yes</td>\n",
       "      <td>60</td>\n",
       "      <td>Yes</td>\n",
       "      <td>No</td>\n",
       "      <td>No</td>\n",
       "      <td>Yes</td>\n",
       "      <td>20.50</td>\n",
       "      <td>1198.80</td>\n",
       "      <td>No</td>\n",
       "    </tr>\n",
       "    <tr>\n",
       "      <th>2</th>\n",
       "      <td>202006</td>\n",
       "      <td>45236961615</td>\n",
       "      <td>Male</td>\n",
       "      <td>No</td>\n",
       "      <td>No</td>\n",
       "      <td>5</td>\n",
       "      <td>Yes</td>\n",
       "      <td>Yes</td>\n",
       "      <td>Yes</td>\n",
       "      <td>No</td>\n",
       "      <td>104.10</td>\n",
       "      <td>541.90</td>\n",
       "      <td>Yes</td>\n",
       "    </tr>\n",
       "    <tr>\n",
       "      <th>3</th>\n",
       "      <td>202006</td>\n",
       "      <td>45929827382</td>\n",
       "      <td>Female</td>\n",
       "      <td>No</td>\n",
       "      <td>Yes</td>\n",
       "      <td>72</td>\n",
       "      <td>Yes</td>\n",
       "      <td>Yes</td>\n",
       "      <td>Yes</td>\n",
       "      <td>Yes</td>\n",
       "      <td>115.50</td>\n",
       "      <td>8312.75</td>\n",
       "      <td>No</td>\n",
       "    </tr>\n",
       "    <tr>\n",
       "      <th>4</th>\n",
       "      <td>202006</td>\n",
       "      <td>45305082233</td>\n",
       "      <td>Female</td>\n",
       "      <td>No</td>\n",
       "      <td>Yes</td>\n",
       "      <td>56</td>\n",
       "      <td>Yes</td>\n",
       "      <td>Yes</td>\n",
       "      <td>Yes</td>\n",
       "      <td>No</td>\n",
       "      <td>81.25</td>\n",
       "      <td>4620.40</td>\n",
       "      <td>No</td>\n",
       "    </tr>\n",
       "  </tbody>\n",
       "</table>\n",
       "</div>"
      ],
      "text/plain": [
       "   UpdatedAt   customerID  gender SeniorCitizen Partner  tenure PhoneService  \\\n",
       "0     202006  45759018157  Female            No     Yes       1           No   \n",
       "1     202006  45315483266    Male            No     Yes      60          Yes   \n",
       "2     202006  45236961615    Male            No      No       5          Yes   \n",
       "3     202006  45929827382  Female            No     Yes      72          Yes   \n",
       "4     202006  45305082233  Female            No     Yes      56          Yes   \n",
       "\n",
       "  StreamingTV InternetService PaperlessBilling  MonthlyCharges  TotalCharges  \\\n",
       "0          No             Yes              Yes           29.85         29.85   \n",
       "1          No              No              Yes           20.50       1198.80   \n",
       "2         Yes             Yes               No          104.10        541.90   \n",
       "3         Yes             Yes              Yes          115.50       8312.75   \n",
       "4         Yes             Yes               No           81.25       4620.40   \n",
       "\n",
       "  Churn  \n",
       "0    No  \n",
       "1    No  \n",
       "2   Yes  \n",
       "3    No  \n",
       "4    No  "
      ]
     },
     "execution_count": 2,
     "metadata": {},
     "output_type": "execute_result"
    }
   ],
   "source": [
    "#Tampilkan 5 data teratas\n",
    "df_load.head(5)"
   ]
  },
  {
   "cell_type": "code",
   "execution_count": 3,
   "id": "c0d9d921",
   "metadata": {},
   "outputs": [
    {
     "name": "stdout",
     "output_type": "stream",
     "text": [
      "6950\n"
     ]
    }
   ],
   "source": [
    "#Jumlah ID yang unik\n",
    "print(df_load.customerID.nunique())"
   ]
  },
  {
   "cell_type": "markdown",
   "id": "a6f7910e",
   "metadata": {},
   "source": [
    "### Memfilter ID Number Pelanggan Format Tertentu\n",
    "Mencari format ID Number (Phone Number) Pelanggan customerID yang benar, dengan kriteria:\n",
    "<ul>\n",
    "    <li>Panjang karakter adalah 11-12.</li>\n",
    "    <li>Terdiri dari angka Saja, tidak diperbolehkan ada karakter selain angka</li>\n",
    "    <li>Diawali dengan angka 45 2 digit pertama.</li>\n",
    "<ul>"
   ]
  },
  {
   "cell_type": "code",
   "execution_count": 4,
   "id": "06790c81",
   "metadata": {},
   "outputs": [
    {
     "name": "stdout",
     "output_type": "stream",
     "text": [
      "Hasil jumlah ID Customer yang terfilter adalah 6950\n"
     ]
    }
   ],
   "source": [
    "df_load['valid_id'] = df_load['customerID'].astype(str).str.match(r'(45\\d{9,10})')\n",
    "df_load = (df_load[df_load['valid_id'] == True]).drop('valid_id', axis=1)\n",
    "print('Hasil jumlah ID Customer yang terfilter adalah', df_load['customerID'].count())"
   ]
  },
  {
   "cell_type": "markdown",
   "id": "38458ed5",
   "metadata": {},
   "source": [
    "### Memfilter Duplikasi ID Number Pelanggan\n",
    "Memastikan bahwa tidak ada Id Number pelanggan yang duplikat. Biasanya duplikasi ID number ini tipenya:\n",
    "<ul>\n",
    "    <li>Duplikasi dikarenakan inserting melebihi satu kali dengan nilai yang sama tiap kolomnya</li>\n",
    "    <li>Duplikasi dikarenakan inserting beda periode pengambilan data</li>\n",
    "</ul>"
   ]
  },
  {
   "cell_type": "code",
   "execution_count": 5,
   "id": "9a83de12",
   "metadata": {},
   "outputs": [
    {
     "name": "stdout",
     "output_type": "stream",
     "text": [
      "Hasil jumlah ID Customer yang sudah dihilangkan duplikasinya (distinct) adalah 6950\n"
     ]
    }
   ],
   "source": [
    "# Drop Duplicate Rows\n",
    "df_load.drop_duplicates()\n",
    "# Drop duplicate ID sorted by Periode\n",
    "df_load = df_load.sort_values('UpdatedAt', ascending=False).drop_duplicates(['customerID'])\n",
    "print('Hasil jumlah ID Customer yang sudah dihilangkan duplikasinya (distinct) adalah',df_load['customerID'].count())"
   ]
  },
  {
   "cell_type": "markdown",
   "id": "13c089f3",
   "metadata": {},
   "source": [
    "### Kesimpulan\n",
    "Validitas dari ID Number pelanggan sangat diperlukan untuk memastikan bahwa data yang kita ambil sudah benar. Berdasarkan hasil tersebut, terdapat perbedaan jumlah nomor ID dari data pertama kali di load sampai dengan hasil akhir. Jumlah row data ketika pertama kali di load ada sebanyak 7113 rows dan 22 columns dengan 7017 jumlah ID yang unique. Kemudian setelah di cek validitas dari ID pelanggan, maka tersisa 6993 rows data"
   ]
  },
  {
   "cell_type": "markdown",
   "id": "33e8ecfd",
   "metadata": {},
   "source": [
    "### Mengatasi Missing Values dengan Penghapusan Rows\n",
    "Selanjutnya kita akan menghapus rows dari data-data yang tidak terdeteksi apakah dia churn atau tidak. Diasumsikan data modeller hanya mau menerima data yang benar ada flag churn-nya atau tidak."
   ]
  },
  {
   "cell_type": "code",
   "execution_count": 6,
   "id": "a37af3ec",
   "metadata": {},
   "outputs": [
    {
     "name": "stdout",
     "output_type": "stream",
     "text": [
      "Total missing values data dari kolom Churn 0\n",
      "Total Rows dan Kolom Data setelah dihapus data Missing Values adalah  (6950, 13)\n"
     ]
    }
   ],
   "source": [
    "print('Total missing values data dari kolom Churn', df_load['Churn'].isnull().sum())\n",
    "# Dropping all Rows with spesific column (churn)\n",
    "df_load.dropna(subset=['Churn'], inplace=True)\n",
    "print('Total Rows dan Kolom Data setelah dihapus data Missing Values adalah ', df_load.shape)"
   ]
  },
  {
   "cell_type": "markdown",
   "id": "363b9d87",
   "metadata": {},
   "source": [
    "### Mengatasi Missing Values dengan Pengisian Nilai tertentu\n",
    "Selain dengan menghapus rows dari data, menangani missing values bisa menggunakan nilai tertentu. Diasumsikan data modeller meminta pengisian missing values dengan kriteria berikut:\n",
    "<ul>\n",
    "    <li>Tenure pihak data modeller meminta setiap rows yang memiliki missing values untuk lama berlangganan di isi dengan 11.</li>\n",
    "    <li>Variable yang bersifat numeric selain Tenure di isi dengan median dari masing-masing variable tersebut.</li>\n",
    "</ul>\n",
    "Tentukan:\n",
    "<ul>\n",
    "    <li>Apakah masih ada data yang missing values</li>\n",
    "    <li>Jumlah missing values dari masing-masing variable</li>\n",
    "    <li>Tangani missing values-nya</li>\n",
    "</ul>"
   ]
  },
  {
   "cell_type": "code",
   "execution_count": 7,
   "id": "2947bd07",
   "metadata": {},
   "outputs": [
    {
     "name": "stdout",
     "output_type": "stream",
     "text": [
      "Status Missing Values : False\n",
      "\n",
      "Jumlah Missing Values masing-masing kolom, adalah:\n",
      "UpdatedAt           0\n",
      "customerID          0\n",
      "gender              0\n",
      "SeniorCitizen       0\n",
      "Partner             0\n",
      "tenure              0\n",
      "PhoneService        0\n",
      "StreamingTV         0\n",
      "InternetService     0\n",
      "PaperlessBilling    0\n",
      "MonthlyCharges      0\n",
      "TotalCharges        0\n",
      "Churn               0\n",
      "dtype: int64\n",
      "\n",
      "Jumlah missing values setelah di imputer datanya, adalah:\n",
      "UpdatedAt           0\n",
      "customerID          0\n",
      "gender              0\n",
      "SeniorCitizen       0\n",
      "Partner             0\n",
      "tenure              0\n",
      "PhoneService        0\n",
      "StreamingTV         0\n",
      "InternetService     0\n",
      "PaperlessBilling    0\n",
      "MonthlyCharges      0\n",
      "TotalCharges        0\n",
      "Churn               0\n",
      "dtype: int64\n"
     ]
    }
   ],
   "source": [
    "print('Status Missing Values :',df_load.isnull().values.any())\n",
    "print('\\nJumlah Missing Values masing-masing kolom, adalah:')\n",
    "print(df_load.isnull().sum().sort_values(ascending=False))\n",
    "\n",
    "#handling missing values Tenure fill with 11\n",
    "df_load['tenure'].fillna(11, inplace=True)\n",
    "\n",
    "#Loop\n",
    "#Handling missing values num vars (except Tenure)\n",
    "for col_name in list(['MonthlyCharges', 'TotalCharges']):\n",
    "\tmedian = df_load[col_name].median()\n",
    "\tdf_load[col_name].fillna(median, inplace=True)\n",
    "\n",
    "print('\\nJumlah missing values setelah di imputer datanya, adalah:') \n",
    "print(df_load.isnull().sum().sort_values(ascending=False))"
   ]
  },
  {
   "cell_type": "markdown",
   "id": "88344ac0",
   "metadata": {},
   "source": [
    "### Kesimpulan\n",
    "Setelah kita analisis lebih lanjut, ternyata masih ada missing values dari data yang kita sudah validkan Id Number pelanggannya. Missing values terdapat pada kolom Churn, tenure, MonthlyCharges & TotalCharges. Setelah kita tangani dengan cara penghapusan rows dan pengisian rows dengan nilai tertentu, terbukti sudah tidak ada missing values lagi pada data, terbukti dari jumlah missing values masing-masing variable yang bernilai 0. Selanjutnya kita akan melakukan penanganan pencilan (outlier)"
   ]
  },
  {
   "cell_type": "markdown",
   "id": "d5943b6f",
   "metadata": {},
   "source": [
    "### Mendeteksi adanya Outlier (Boxplot)\n",
    "Mendeteksi pencilan dari suatu nilai (outlier) salah satunya bisa melihat plot dari data tersebut menggunakan boxplot. Boxplot merupakan ringkasan distribusi sampel yang disajikan secara grafis yang bisa menggambarkan bentuk distribusi data (skewness), ukuran tendensi sentral dan ukuran penyebaran (keragaman) data pengamatan."
   ]
  },
  {
   "cell_type": "code",
   "execution_count": null,
   "id": "f347c0e9",
   "metadata": {},
   "outputs": [],
   "source": []
  }
 ],
 "metadata": {
  "kernelspec": {
   "display_name": "Python 3 (ipykernel)",
   "language": "python",
   "name": "python3"
  },
  "language_info": {
   "codemirror_mode": {
    "name": "ipython",
    "version": 3
   },
   "file_extension": ".py",
   "mimetype": "text/x-python",
   "name": "python",
   "nbconvert_exporter": "python",
   "pygments_lexer": "ipython3",
   "version": "3.9.7"
  }
 },
 "nbformat": 4,
 "nbformat_minor": 5
}
