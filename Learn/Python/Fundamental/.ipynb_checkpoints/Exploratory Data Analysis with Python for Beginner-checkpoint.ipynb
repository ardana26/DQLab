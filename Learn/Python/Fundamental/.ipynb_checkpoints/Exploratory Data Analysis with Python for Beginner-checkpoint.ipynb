{
 "cells": [
  {
   "cell_type": "markdown",
   "id": "705284ed",
   "metadata": {
    "heading_collapsed": true
   },
   "source": [
    "### Memanggil library di Python"
   ]
  },
  {
   "cell_type": "code",
   "execution_count": 11,
   "id": "3443b17e",
   "metadata": {
    "hidden": true
   },
   "outputs": [],
   "source": [
    "import numpy as np\n",
    "import pandas as pd\n",
    "import matplotlib.pyplot as plt"
   ]
  },
  {
   "cell_type": "markdown",
   "id": "07f6347f",
   "metadata": {
    "heading_collapsed": true
   },
   "source": [
    "### Membaca file"
   ]
  },
  {
   "cell_type": "code",
   "execution_count": 5,
   "id": "8800a13a",
   "metadata": {
    "hidden": true
   },
   "outputs": [],
   "source": [
    "order_df = pd.read_csv(\"../../../Dataset/order.csv\")"
   ]
  },
  {
   "cell_type": "markdown",
   "id": "63cfc0cc",
   "metadata": {
    "heading_collapsed": true
   },
   "source": [
    "### Inspeksi struktur data frame\n",
    "Setelah melakukan proses loading dataframe ke dalam Python. Hal selanjutnya sebelum memulai analisis tentunya mengerti struktur dataset tersebut. Sehingga langkah selanjutnya dari pre - analisis biasanya dilakukan untuk:\n",
    "\n",
    "1. melihat struktur data frame,\n",
    "2. melihat preview data dari dataframe tersebut, dan\n",
    "3. membuat summary data sederhana dari dataset."
   ]
  },
  {
   "attachments": {},
   "cell_type": "markdown",
   "id": "4e7c5f99",
   "metadata": {
    "heading_collapsed": true
   },
   "source": [
    "### Melihat struktur kolom dan baris dari data frame"
   ]
  },
  {
   "cell_type": "code",
   "execution_count": 3,
   "id": "d08bb141",
   "metadata": {
    "hidden": true
   },
   "outputs": [
    {
     "name": "stdout",
     "output_type": "stream",
     "text": [
      "(49999, 12)\n"
     ]
    }
   ],
   "source": [
    "print(order_df.shape)"
   ]
  },
  {
   "cell_type": "markdown",
   "id": "ccba4b4a",
   "metadata": {
    "heading_collapsed": true
   },
   "source": [
    "### Melihat preview data dari data frame"
   ]
  },
  {
   "cell_type": "code",
   "execution_count": 4,
   "id": "fbfea252",
   "metadata": {
    "hidden": true
   },
   "outputs": [
    {
     "data": {
      "text/html": [
       "<div>\n",
       "<style scoped>\n",
       "    .dataframe tbody tr th:only-of-type {\n",
       "        vertical-align: middle;\n",
       "    }\n",
       "\n",
       "    .dataframe tbody tr th {\n",
       "        vertical-align: top;\n",
       "    }\n",
       "\n",
       "    .dataframe thead th {\n",
       "        text-align: right;\n",
       "    }\n",
       "</style>\n",
       "<table border=\"1\" class=\"dataframe\">\n",
       "  <thead>\n",
       "    <tr style=\"text-align: right;\">\n",
       "      <th></th>\n",
       "      <th>order_id</th>\n",
       "      <th>quantity</th>\n",
       "      <th>product_id</th>\n",
       "      <th>price</th>\n",
       "      <th>seller_id</th>\n",
       "      <th>freight_value</th>\n",
       "      <th>customer_id</th>\n",
       "      <th>order_status</th>\n",
       "      <th>purchase_date</th>\n",
       "      <th>payment_type</th>\n",
       "      <th>product_category_name</th>\n",
       "      <th>product_weight_gram</th>\n",
       "    </tr>\n",
       "  </thead>\n",
       "  <tbody>\n",
       "    <tr>\n",
       "      <th>0</th>\n",
       "      <td>2e7a8482f6fb09756ca50c10d7bfc047</td>\n",
       "      <td>2</td>\n",
       "      <td>f293394c72c9b5fafd7023301fc21fc2</td>\n",
       "      <td>1489000</td>\n",
       "      <td>1554a68530182680ad5c8b042c3ab563</td>\n",
       "      <td>28000</td>\n",
       "      <td>08c5351a6aca1c1589a38f244edeee9d</td>\n",
       "      <td>shipped</td>\n",
       "      <td>2016-09-05</td>\n",
       "      <td>virtual account</td>\n",
       "      <td>fashion</td>\n",
       "      <td>1800.0</td>\n",
       "    </tr>\n",
       "    <tr>\n",
       "      <th>1</th>\n",
       "      <td>2e7a8482f6fb09756ca50c10d7bfc047</td>\n",
       "      <td>1</td>\n",
       "      <td>c1488892604e4ba5cff5b4eb4d595400</td>\n",
       "      <td>1756000</td>\n",
       "      <td>1554a68530182680ad5c8b042c3ab563</td>\n",
       "      <td>45000</td>\n",
       "      <td>08c5351a6aca1c1589a38f244edeee9d</td>\n",
       "      <td>shipped</td>\n",
       "      <td>2016-09-05</td>\n",
       "      <td>virtual account</td>\n",
       "      <td>automotive</td>\n",
       "      <td>1400.0</td>\n",
       "    </tr>\n",
       "    <tr>\n",
       "      <th>2</th>\n",
       "      <td>e5fa5a7210941f7d56d0208e4e071d35</td>\n",
       "      <td>1</td>\n",
       "      <td>f3c2d01a84c947b078e32bbef0718962</td>\n",
       "      <td>1707000</td>\n",
       "      <td>a425f92c199eb576938df686728acd20</td>\n",
       "      <td>174000</td>\n",
       "      <td>683c54fc24d40ee9f8a6fc179fd9856c</td>\n",
       "      <td>canceled</td>\n",
       "      <td>2016-09-05</td>\n",
       "      <td>e-wallet</td>\n",
       "      <td>toys</td>\n",
       "      <td>700.0</td>\n",
       "    </tr>\n",
       "    <tr>\n",
       "      <th>3</th>\n",
       "      <td>3b697a20d9e427646d92567910af6d57</td>\n",
       "      <td>1</td>\n",
       "      <td>3ae08df6bcbfe23586dd431c40bddbb7</td>\n",
       "      <td>3071000</td>\n",
       "      <td>522620dcb18a6b31cd7bdf73665113a9</td>\n",
       "      <td>154000</td>\n",
       "      <td>355077684019f7f60a031656bd7262b8</td>\n",
       "      <td>delivered</td>\n",
       "      <td>2016-10-03</td>\n",
       "      <td>e-wallet</td>\n",
       "      <td>utilities</td>\n",
       "      <td>300.0</td>\n",
       "    </tr>\n",
       "    <tr>\n",
       "      <th>4</th>\n",
       "      <td>71303d7e93b399f5bcd537d124c0bcfa</td>\n",
       "      <td>1</td>\n",
       "      <td>d2998d7ced12f83f9b832f33cf6507b6</td>\n",
       "      <td>3833000</td>\n",
       "      <td>25e6ffe976bd75618accfe16cefcbd0d</td>\n",
       "      <td>147000</td>\n",
       "      <td>b106b360fe2ef8849fbbd056f777b4d5</td>\n",
       "      <td>canceled</td>\n",
       "      <td>2016-10-03</td>\n",
       "      <td>e-wallet</td>\n",
       "      <td>fashion</td>\n",
       "      <td>500.0</td>\n",
       "    </tr>\n",
       "    <tr>\n",
       "      <th>5</th>\n",
       "      <td>be5bc2f0da14d8071e2d45451ad119d9</td>\n",
       "      <td>1</td>\n",
       "      <td>fd7fd78fd3cbc1b0a6370a7909c0a629</td>\n",
       "      <td>1480000</td>\n",
       "      <td>f09b760d23495ac9a7e00d29b769007c</td>\n",
       "      <td>152000</td>\n",
       "      <td>7ec40b22510fdbea1b08921dd39e63d8</td>\n",
       "      <td>delivered</td>\n",
       "      <td>2016-10-03</td>\n",
       "      <td>e-wallet</td>\n",
       "      <td>electronics</td>\n",
       "      <td>400.0</td>\n",
       "    </tr>\n",
       "    <tr>\n",
       "      <th>6</th>\n",
       "      <td>0a0837a5eee9e7a9ce2b1fa831944d27</td>\n",
       "      <td>1</td>\n",
       "      <td>583916a5dae918f5e89baec139141c54</td>\n",
       "      <td>4489000</td>\n",
       "      <td>3481aa57cd91f9f9d3fa1fa12d9a3bf7</td>\n",
       "      <td>16000</td>\n",
       "      <td>4f3f778022aefa22b9f9e52d2c47edf3</td>\n",
       "      <td>delivered</td>\n",
       "      <td>2016-10-04</td>\n",
       "      <td>debit card</td>\n",
       "      <td>toys</td>\n",
       "      <td>3100.0</td>\n",
       "    </tr>\n",
       "    <tr>\n",
       "      <th>7</th>\n",
       "      <td>1ff217aa612f6cd7c4255c9bfe931c8b</td>\n",
       "      <td>1</td>\n",
       "      <td>33430c5c1027d812b5c62f778e5ee7f7</td>\n",
       "      <td>822000</td>\n",
       "      <td>4b1eaadf791bdbbad8c4a35b65236d52</td>\n",
       "      <td>58000</td>\n",
       "      <td>b3a9bf200375f53cc5c6991919c356fd</td>\n",
       "      <td>delivered</td>\n",
       "      <td>2016-10-04</td>\n",
       "      <td>credit card</td>\n",
       "      <td>automotive</td>\n",
       "      <td>200.0</td>\n",
       "    </tr>\n",
       "    <tr>\n",
       "      <th>8</th>\n",
       "      <td>22613579f7d11cc59c4347526fc3c79e</td>\n",
       "      <td>1</td>\n",
       "      <td>3ff81cd0e0861e991bb0106c03c113ca</td>\n",
       "      <td>3967000</td>\n",
       "      <td>86bb7c4b535e49a541baf3266b1c95b1</td>\n",
       "      <td>95000</td>\n",
       "      <td>53cc5d344077104b59d4f6836a90eb0b</td>\n",
       "      <td>delivered</td>\n",
       "      <td>2016-10-04</td>\n",
       "      <td>debit card</td>\n",
       "      <td>beauty</td>\n",
       "      <td>600.0</td>\n",
       "    </tr>\n",
       "    <tr>\n",
       "      <th>9</th>\n",
       "      <td>356b492aba2d1a7da886e54e0b6212b7</td>\n",
       "      <td>1</td>\n",
       "      <td>eba7488e1c67729f045ab43fac426f2e</td>\n",
       "      <td>4165000</td>\n",
       "      <td>620c87c171fb2a6dd6e8bb4dec959fc6</td>\n",
       "      <td>98000</td>\n",
       "      <td>68c74d748a55f9d29e6698f4b01a0df7</td>\n",
       "      <td>delivered</td>\n",
       "      <td>2016-10-04</td>\n",
       "      <td>credit card</td>\n",
       "      <td>automotive</td>\n",
       "      <td>610.0</td>\n",
       "    </tr>\n",
       "  </tbody>\n",
       "</table>\n",
       "</div>"
      ],
      "text/plain": [
       "                           order_id  quantity  \\\n",
       "0  2e7a8482f6fb09756ca50c10d7bfc047         2   \n",
       "1  2e7a8482f6fb09756ca50c10d7bfc047         1   \n",
       "2  e5fa5a7210941f7d56d0208e4e071d35         1   \n",
       "3  3b697a20d9e427646d92567910af6d57         1   \n",
       "4  71303d7e93b399f5bcd537d124c0bcfa         1   \n",
       "5  be5bc2f0da14d8071e2d45451ad119d9         1   \n",
       "6  0a0837a5eee9e7a9ce2b1fa831944d27         1   \n",
       "7  1ff217aa612f6cd7c4255c9bfe931c8b         1   \n",
       "8  22613579f7d11cc59c4347526fc3c79e         1   \n",
       "9  356b492aba2d1a7da886e54e0b6212b7         1   \n",
       "\n",
       "                         product_id    price  \\\n",
       "0  f293394c72c9b5fafd7023301fc21fc2  1489000   \n",
       "1  c1488892604e4ba5cff5b4eb4d595400  1756000   \n",
       "2  f3c2d01a84c947b078e32bbef0718962  1707000   \n",
       "3  3ae08df6bcbfe23586dd431c40bddbb7  3071000   \n",
       "4  d2998d7ced12f83f9b832f33cf6507b6  3833000   \n",
       "5  fd7fd78fd3cbc1b0a6370a7909c0a629  1480000   \n",
       "6  583916a5dae918f5e89baec139141c54  4489000   \n",
       "7  33430c5c1027d812b5c62f778e5ee7f7   822000   \n",
       "8  3ff81cd0e0861e991bb0106c03c113ca  3967000   \n",
       "9  eba7488e1c67729f045ab43fac426f2e  4165000   \n",
       "\n",
       "                          seller_id  freight_value  \\\n",
       "0  1554a68530182680ad5c8b042c3ab563          28000   \n",
       "1  1554a68530182680ad5c8b042c3ab563          45000   \n",
       "2  a425f92c199eb576938df686728acd20         174000   \n",
       "3  522620dcb18a6b31cd7bdf73665113a9         154000   \n",
       "4  25e6ffe976bd75618accfe16cefcbd0d         147000   \n",
       "5  f09b760d23495ac9a7e00d29b769007c         152000   \n",
       "6  3481aa57cd91f9f9d3fa1fa12d9a3bf7          16000   \n",
       "7  4b1eaadf791bdbbad8c4a35b65236d52          58000   \n",
       "8  86bb7c4b535e49a541baf3266b1c95b1          95000   \n",
       "9  620c87c171fb2a6dd6e8bb4dec959fc6          98000   \n",
       "\n",
       "                        customer_id order_status purchase_date  \\\n",
       "0  08c5351a6aca1c1589a38f244edeee9d      shipped    2016-09-05   \n",
       "1  08c5351a6aca1c1589a38f244edeee9d      shipped    2016-09-05   \n",
       "2  683c54fc24d40ee9f8a6fc179fd9856c     canceled    2016-09-05   \n",
       "3  355077684019f7f60a031656bd7262b8    delivered    2016-10-03   \n",
       "4  b106b360fe2ef8849fbbd056f777b4d5     canceled    2016-10-03   \n",
       "5  7ec40b22510fdbea1b08921dd39e63d8    delivered    2016-10-03   \n",
       "6  4f3f778022aefa22b9f9e52d2c47edf3    delivered    2016-10-04   \n",
       "7  b3a9bf200375f53cc5c6991919c356fd    delivered    2016-10-04   \n",
       "8  53cc5d344077104b59d4f6836a90eb0b    delivered    2016-10-04   \n",
       "9  68c74d748a55f9d29e6698f4b01a0df7    delivered    2016-10-04   \n",
       "\n",
       "      payment_type product_category_name  product_weight_gram  \n",
       "0  virtual account               fashion               1800.0  \n",
       "1  virtual account            automotive               1400.0  \n",
       "2         e-wallet                  toys                700.0  \n",
       "3         e-wallet             utilities                300.0  \n",
       "4         e-wallet               fashion                500.0  \n",
       "5         e-wallet           electronics                400.0  \n",
       "6       debit card                  toys               3100.0  \n",
       "7      credit card            automotive                200.0  \n",
       "8       debit card                beauty                600.0  \n",
       "9      credit card            automotive                610.0  "
      ]
     },
     "execution_count": 4,
     "metadata": {},
     "output_type": "execute_result"
    }
   ],
   "source": [
    "order_df.head(10)"
   ]
  },
  {
   "cell_type": "markdown",
   "id": "f8c621e4",
   "metadata": {
    "heading_collapsed": true
   },
   "source": [
    "### Statistik Deskriptif dari Data Frame"
   ]
  },
  {
   "cell_type": "code",
   "execution_count": 6,
   "id": "c88608ba",
   "metadata": {
    "hidden": true
   },
   "outputs": [
    {
     "name": "stdout",
     "output_type": "stream",
     "text": [
      "           quantity         price  freight_value  product_weight_gram\n",
      "count  49999.000000  4.999900e+04   49999.000000         49980.000000\n",
      "mean       1.197484  2.607784e+06  104521.390428          2201.830892\n",
      "std        0.722262  1.388312e+06   55179.844962          3929.896875\n",
      "min        1.000000  2.000000e+05    9000.000000            50.000000\n",
      "25%        1.000000  1.410500e+06   57000.000000           300.000000\n",
      "50%        1.000000  2.610000e+06  104000.000000           800.000000\n",
      "75%        1.000000  3.810000e+06  152000.000000          1850.000000\n",
      "max       21.000000  5.000000e+06  200000.000000         40425.000000\n"
     ]
    }
   ],
   "source": [
    "# Quick summary  dari segi kuantitas, harga, freight value, dan weight\n",
    "print(order_df.describe())"
   ]
  },
  {
   "cell_type": "code",
   "execution_count": 10,
   "id": "25478b6a",
   "metadata": {
    "hidden": true
   },
   "outputs": [
    {
     "name": "stdout",
     "output_type": "stream",
     "text": [
      "2610000.0\n"
     ]
    }
   ],
   "source": [
    "# Median dari total pembelian konsumen per transaksi kolom price\n",
    "print(order_df.loc[:, \"price\"].median())"
   ]
  },
  {
   "attachments": {
    "image-2.png": {
     "image/png": "[encoded data removed]"
    },
    "image.png": {
     "image/png": "[encoded data removed]"
    }
   },
   "cell_type": "markdown",
   "id": "ca56dc4c",
   "metadata": {
    "heading_collapsed": true
   },
   "source": [
    "### Mengenal dan Membuat Distribusi Data dengan Histogram\n",
    "Histogram merupakan salah satu cara untuk mengidentifikasi sebaran distribusi dari data. Histogram adalah grafik yang berisi ringkasan dari sebaran (dispersi atau variasi) suatu data. Pada histogram, tidak ada jarak antar batang/bar dari grafik. Hal ini dikarenakan bahwa titik data kelas bisa muncul dimana saja di daerah cakupan grafik. Sedangkan ketinggian bar sesuai dengan frekuensi atau frekuensi relatif jumlah data di kelas. Semakin tinggi bar, semakin tinggi frekuensi data. Semakin rendah bar, semakin rendah frekuensi data.\n",
    "\n",
    "Syntax umum:\n",
    "![image.png](attachment:image.png)\n",
    "\n",
    "Beberapa atribut penting dalam histogram pandas:\n",
    "<ul>\n",
    "    <li>bins = jumlah_bins dalam histogram yang akan digunakan. Jika tidak didefinisikan jumlah_bins, maka function akan secara default menentukan jumlah_bins sebanyak 10.</li>\n",
    "    <li>by = nama kolom di DataFrame untuk di group by. (valuenya berupa nama column di dataframe tersebut).</li>\n",
    "    <li>alpha = nilai_alpha untuk menentukan opacity dari plot di histogram. (value berupa range 0.0 - 1.0, dimana semakin kecil akan semakin kecil opacity nya)</li>\n",
    "    <li>figsize = tuple_ukuran_gambar yang digunakan untuk menentukan ukuran dari plot histogram. Contoh: figsize=(10,12)</li>\n",
    "</ul>    \n",
    "\n",
    "![image-2.png]\n",
    "<img src=\"attachment:image-2.png\" width=\"500px\">"
   ]
  },
  {
   "cell_type": "code",
   "execution_count": 12,
   "id": "b9d39ae3",
   "metadata": {
    "hidden": true
   },
   "outputs": [
    {
     "data": {
      "image/png": "[encoded data removed]",
      "text/plain": [
       "<Figure size 288x360 with 1 Axes>"
      ]
     },
     "metadata": {
      "needs_background": "light"
     },
     "output_type": "display_data"
    }
   ],
   "source": [
    "# plot histogram kolom: price\n",
    "order_df[[\"price\"]].hist(figsize=(4, 5), bins=10, xlabelsize=8, ylabelsize=8)\n",
    "plt.show()"
   ]
  },
  {
   "cell_type": "markdown",
   "id": "2b951f35",
   "metadata": {
    "heading_collapsed": true
   },
   "source": [
    "### Standar Deviasi dan Varians pada Pandas\n",
    "Varians dan standar deviasi juga merupakan suatu ukuran dispersi atau variasi. Standar deviasi merupakan ukuran dispersi yang paling banyak dipakai. Hal ini mungkin karena standar deviasi mempunyai satuan ukuran yang sama dengan satuan ukuran data asalnya. Sedangkan varians memiliki satuan kuadrat dari data asalnya (misalnya cm^2)."
   ]
  },
  {
   "cell_type": "code",
   "execution_count": 13,
   "id": "63fea98d",
   "metadata": {
    "hidden": true
   },
   "outputs": [
    {
     "data": {
      "text/plain": [
       "3929.8968753726213"
      ]
     },
     "execution_count": 13,
     "metadata": {},
     "output_type": "execute_result"
    }
   ],
   "source": [
    "# Standar variasi kolom product_weight_gram\n",
    "order_df.loc[:, \"product_weight_gram\"].std()"
   ]
  },
  {
   "cell_type": "code",
   "execution_count": 14,
   "id": "96969820",
   "metadata": {
    "hidden": true
   },
   "outputs": [
    {
     "data": {
      "text/plain": [
       "15444089.451063491"
      ]
     },
     "execution_count": 14,
     "metadata": {},
     "output_type": "execute_result"
    }
   ],
   "source": [
    "# Varians kolom product_weight_gram\n",
    "order_df.loc[:, \"product_weight_gram\"].var()"
   ]
  },
  {
   "attachments": {
    "image-2.png": {
     "image/png": "[encoded data removed]"
    },
    "image-3.png": {
     "image/png": "[encoded data removed]"
    },
    "image.png": {
     "image/png": "[encoded data removed]"
    }
   },
   "cell_type": "markdown",
   "id": "92a9d228",
   "metadata": {
    "heading_collapsed": true
   },
   "source": [
    "### Menemukan Outliers Menggunakan Pandas\n",
    "Sebelum menuju ke step by step dalam menemukan outliers, sedikit intermezo dahulu mengenai definisi dari outliers.\n",
    "\n",
    "**Outliers** merupakan data observasi yang muncul dengan nilai-nilai ekstrim. Yang dimaksud dengan nilai-nilai ekstrim dalam observasi adalah nilai yang jauh atau beda sama sekali dengan sebagian besar nilai lain dalam kelompoknya.\n",
    "\n",
    "![image.png]\n",
    "<img src=\"attachment:image.png\" width=\"400px\" />\n",
    "\n",
    "Pada umumnya, outliers dapat ditentukan dengan metric IQR (interquartile range).\n",
    "\n",
    "Rumus dasar dari IQR: Q3 - Q1. Dan data suatu observasi dapat dikatakan outliers jika memenuhi kedua syarat dibawah ini:\n",
    "<ul>\n",
    "    <li>data < Q1 - 1.5 * IQR</li>\n",
    "    <li>data > Q3 + 1.5 * IQR</li>\n",
    "</ul>\n",
    "\n",
    "![image-2.png]<br>\n",
    "<img src=\"attachment:image-2.png\" width=\"300px\">\n",
    "\n",
    "Menentukan Outliers:<br>\n",
    "![image-3.png]\n",
    "<img src=\"attachment:image-3.png\" width=\"900px\">"
   ]
  },
  {
   "cell_type": "code",
   "execution_count": 15,
   "id": "cdd2f512",
   "metadata": {
    "hidden": true
   },
   "outputs": [
    {
     "name": "stdout",
     "output_type": "stream",
     "text": [
      "product_weight_gram    1550.0\n",
      "dtype: float64\n"
     ]
    }
   ],
   "source": [
    "# Hitung quartile 1\n",
    "Q1 = order_df[[\"product_weight_gram\"]].quantile(0.25)\n",
    "# Hitung quartile 3\n",
    "Q3 = order_df[[\"product_weight_gram\"]].quantile(0.75)\n",
    "# Hitung inter quartile range dan cetak ke console\n",
    "IQR = Q3 - Q1\n",
    "print(IQR)"
   ]
  },
  {
   "cell_type": "markdown",
   "id": "360820e9",
   "metadata": {
    "heading_collapsed": true
   },
   "source": [
    "### Rename Kolom Data Frame"
   ]
  },
  {
   "cell_type": "code",
   "execution_count": 17,
   "id": "dd39dc41",
   "metadata": {
    "hidden": true
   },
   "outputs": [
    {
     "data": {
      "text/html": [
       "<div>\n",
       "<style scoped>\n",
       "    .dataframe tbody tr th:only-of-type {\n",
       "        vertical-align: middle;\n",
       "    }\n",
       "\n",
       "    .dataframe tbody tr th {\n",
       "        vertical-align: top;\n",
       "    }\n",
       "\n",
       "    .dataframe thead th {\n",
       "        text-align: right;\n",
       "    }\n",
       "</style>\n",
       "<table border=\"1\" class=\"dataframe\">\n",
       "  <thead>\n",
       "    <tr style=\"text-align: right;\">\n",
       "      <th></th>\n",
       "      <th>order_id</th>\n",
       "      <th>quantity</th>\n",
       "      <th>product_id</th>\n",
       "      <th>price</th>\n",
       "      <th>seller_id</th>\n",
       "      <th>shipping_cost</th>\n",
       "      <th>customer_id</th>\n",
       "      <th>order_status</th>\n",
       "      <th>purchase_date</th>\n",
       "      <th>payment_type</th>\n",
       "      <th>product_category_name</th>\n",
       "      <th>product_weight_gram</th>\n",
       "    </tr>\n",
       "  </thead>\n",
       "  <tbody>\n",
       "    <tr>\n",
       "      <th>0</th>\n",
       "      <td>2e7a8482f6fb09756ca50c10d7bfc047</td>\n",
       "      <td>2</td>\n",
       "      <td>f293394c72c9b5fafd7023301fc21fc2</td>\n",
       "      <td>1489000</td>\n",
       "      <td>1554a68530182680ad5c8b042c3ab563</td>\n",
       "      <td>28000</td>\n",
       "      <td>08c5351a6aca1c1589a38f244edeee9d</td>\n",
       "      <td>shipped</td>\n",
       "      <td>2016-09-05</td>\n",
       "      <td>virtual account</td>\n",
       "      <td>fashion</td>\n",
       "      <td>1800.0</td>\n",
       "    </tr>\n",
       "    <tr>\n",
       "      <th>1</th>\n",
       "      <td>2e7a8482f6fb09756ca50c10d7bfc047</td>\n",
       "      <td>1</td>\n",
       "      <td>c1488892604e4ba5cff5b4eb4d595400</td>\n",
       "      <td>1756000</td>\n",
       "      <td>1554a68530182680ad5c8b042c3ab563</td>\n",
       "      <td>45000</td>\n",
       "      <td>08c5351a6aca1c1589a38f244edeee9d</td>\n",
       "      <td>shipped</td>\n",
       "      <td>2016-09-05</td>\n",
       "      <td>virtual account</td>\n",
       "      <td>automotive</td>\n",
       "      <td>1400.0</td>\n",
       "    </tr>\n",
       "    <tr>\n",
       "      <th>2</th>\n",
       "      <td>e5fa5a7210941f7d56d0208e4e071d35</td>\n",
       "      <td>1</td>\n",
       "      <td>f3c2d01a84c947b078e32bbef0718962</td>\n",
       "      <td>1707000</td>\n",
       "      <td>a425f92c199eb576938df686728acd20</td>\n",
       "      <td>174000</td>\n",
       "      <td>683c54fc24d40ee9f8a6fc179fd9856c</td>\n",
       "      <td>canceled</td>\n",
       "      <td>2016-09-05</td>\n",
       "      <td>e-wallet</td>\n",
       "      <td>toys</td>\n",
       "      <td>700.0</td>\n",
       "    </tr>\n",
       "    <tr>\n",
       "      <th>3</th>\n",
       "      <td>3b697a20d9e427646d92567910af6d57</td>\n",
       "      <td>1</td>\n",
       "      <td>3ae08df6bcbfe23586dd431c40bddbb7</td>\n",
       "      <td>3071000</td>\n",
       "      <td>522620dcb18a6b31cd7bdf73665113a9</td>\n",
       "      <td>154000</td>\n",
       "      <td>355077684019f7f60a031656bd7262b8</td>\n",
       "      <td>delivered</td>\n",
       "      <td>2016-10-03</td>\n",
       "      <td>e-wallet</td>\n",
       "      <td>utilities</td>\n",
       "      <td>300.0</td>\n",
       "    </tr>\n",
       "    <tr>\n",
       "      <th>4</th>\n",
       "      <td>71303d7e93b399f5bcd537d124c0bcfa</td>\n",
       "      <td>1</td>\n",
       "      <td>d2998d7ced12f83f9b832f33cf6507b6</td>\n",
       "      <td>3833000</td>\n",
       "      <td>25e6ffe976bd75618accfe16cefcbd0d</td>\n",
       "      <td>147000</td>\n",
       "      <td>b106b360fe2ef8849fbbd056f777b4d5</td>\n",
       "      <td>canceled</td>\n",
       "      <td>2016-10-03</td>\n",
       "      <td>e-wallet</td>\n",
       "      <td>fashion</td>\n",
       "      <td>500.0</td>\n",
       "    </tr>\n",
       "  </tbody>\n",
       "</table>\n",
       "</div>"
      ],
      "text/plain": [
       "                           order_id  quantity  \\\n",
       "0  2e7a8482f6fb09756ca50c10d7bfc047         2   \n",
       "1  2e7a8482f6fb09756ca50c10d7bfc047         1   \n",
       "2  e5fa5a7210941f7d56d0208e4e071d35         1   \n",
       "3  3b697a20d9e427646d92567910af6d57         1   \n",
       "4  71303d7e93b399f5bcd537d124c0bcfa         1   \n",
       "\n",
       "                         product_id    price  \\\n",
       "0  f293394c72c9b5fafd7023301fc21fc2  1489000   \n",
       "1  c1488892604e4ba5cff5b4eb4d595400  1756000   \n",
       "2  f3c2d01a84c947b078e32bbef0718962  1707000   \n",
       "3  3ae08df6bcbfe23586dd431c40bddbb7  3071000   \n",
       "4  d2998d7ced12f83f9b832f33cf6507b6  3833000   \n",
       "\n",
       "                          seller_id  shipping_cost  \\\n",
       "0  1554a68530182680ad5c8b042c3ab563          28000   \n",
       "1  1554a68530182680ad5c8b042c3ab563          45000   \n",
       "2  a425f92c199eb576938df686728acd20         174000   \n",
       "3  522620dcb18a6b31cd7bdf73665113a9         154000   \n",
       "4  25e6ffe976bd75618accfe16cefcbd0d         147000   \n",
       "\n",
       "                        customer_id order_status purchase_date  \\\n",
       "0  08c5351a6aca1c1589a38f244edeee9d      shipped    2016-09-05   \n",
       "1  08c5351a6aca1c1589a38f244edeee9d      shipped    2016-09-05   \n",
       "2  683c54fc24d40ee9f8a6fc179fd9856c     canceled    2016-09-05   \n",
       "3  355077684019f7f60a031656bd7262b8    delivered    2016-10-03   \n",
       "4  b106b360fe2ef8849fbbd056f777b4d5     canceled    2016-10-03   \n",
       "\n",
       "      payment_type product_category_name  product_weight_gram  \n",
       "0  virtual account               fashion               1800.0  \n",
       "1  virtual account            automotive               1400.0  \n",
       "2         e-wallet                  toys                700.0  \n",
       "3         e-wallet             utilities                300.0  \n",
       "4         e-wallet               fashion                500.0  "
      ]
     },
     "execution_count": 17,
     "metadata": {},
     "output_type": "execute_result"
    }
   ],
   "source": [
    "# Ganti nama kolom freight_value menjadi shipping_cost\n",
    "order_df.rename(columns={\"freight_value\": \"shipping_cost\"}, inplace=True)\n",
    "order_df.head()"
   ]
  },
  {
   "cell_type": "markdown",
   "id": "d22e5c20",
   "metadata": {
    "heading_collapsed": true
   },
   "source": [
    "### .groupby menggunakan Pandas\n",
    "Kegunaan .groupby adalah mencari summary dari data frame dengan menggunakan aggregate dari kolom tertentu."
   ]
  },
  {
   "cell_type": "code",
   "execution_count": 18,
   "id": "beb432d7",
   "metadata": {
    "hidden": true
   },
   "outputs": [
    {
     "name": "stdout",
     "output_type": "stream",
     "text": [
      "payment_type\n",
      "credit card        2.600706e+06\n",
      "debit card         2.611974e+06\n",
      "e-wallet           2.598562e+06\n",
      "virtual account    2.619786e+06\n",
      "Name: price, dtype: float64\n"
     ]
    }
   ],
   "source": [
    "# Hitung rata rata dari price per payment_type\n",
    "rata_rata = order_df[\"price\"].groupby(order_df[\"payment_type\"]).mean()\n",
    "print(rata_rata)"
   ]
  },
  {
   "cell_type": "markdown",
   "id": "4e723a99",
   "metadata": {
    "heading_collapsed": true
   },
   "source": [
    "### Sorting Menggunakan Pandas\n",
    "Sorting adalah sebuah metode mengurutkan data berdasarkan syarat kolom tertentu dan biasanya digunakan untuk melihat nilai maksimum dan minimum dari dataset. Library Pandas sendiri menyediakan fungsi sorting sebagai fundamental dari exploratory data analysis."
   ]
  },
  {
   "cell_type": "code",
   "execution_count": 23,
   "id": "48228609",
   "metadata": {
    "hidden": true
   },
   "outputs": [
    {
     "data": {
      "text/html": [
       "<div>\n",
       "<style scoped>\n",
       "    .dataframe tbody tr th:only-of-type {\n",
       "        vertical-align: middle;\n",
       "    }\n",
       "\n",
       "    .dataframe tbody tr th {\n",
       "        vertical-align: top;\n",
       "    }\n",
       "\n",
       "    .dataframe thead th {\n",
       "        text-align: right;\n",
       "    }\n",
       "</style>\n",
       "<table border=\"1\" class=\"dataframe\">\n",
       "  <thead>\n",
       "    <tr style=\"text-align: right;\">\n",
       "      <th></th>\n",
       "      <th>order_id</th>\n",
       "      <th>quantity</th>\n",
       "      <th>product_id</th>\n",
       "      <th>price</th>\n",
       "      <th>seller_id</th>\n",
       "      <th>shipping_cost</th>\n",
       "      <th>customer_id</th>\n",
       "      <th>order_status</th>\n",
       "      <th>purchase_date</th>\n",
       "      <th>payment_type</th>\n",
       "      <th>product_category_name</th>\n",
       "      <th>product_weight_gram</th>\n",
       "    </tr>\n",
       "  </thead>\n",
       "  <tbody>\n",
       "    <tr>\n",
       "      <th>37085</th>\n",
       "      <td>d7b2d3b902441cf3dd12cd125533217d</td>\n",
       "      <td>1</td>\n",
       "      <td>35afc973633aaeb6b877ff57b2793310</td>\n",
       "      <td>5000000</td>\n",
       "      <td>4a3ca9315b744ce9f8e9374361493884</td>\n",
       "      <td>118000</td>\n",
       "      <td>217344c7c334e16c8e76551b4b240c1d</td>\n",
       "      <td>delivered</td>\n",
       "      <td>2017-10-31</td>\n",
       "      <td>debit card</td>\n",
       "      <td>beauty</td>\n",
       "      <td>1825.0</td>\n",
       "    </tr>\n",
       "    <tr>\n",
       "      <th>41958</th>\n",
       "      <td>2711089c7fec59d4dc8483e3c6a12fa3</td>\n",
       "      <td>1</td>\n",
       "      <td>7c1bd920dbdf22470b68bde975dd3ccf</td>\n",
       "      <td>5000000</td>\n",
       "      <td>cc419e0650a3c5ba77189a1882b7556a</td>\n",
       "      <td>31000</td>\n",
       "      <td>0ef59d9bb071def3dbf7e7b055965e95</td>\n",
       "      <td>delivered</td>\n",
       "      <td>2017-11-24</td>\n",
       "      <td>e-wallet</td>\n",
       "      <td>fashion</td>\n",
       "      <td>200.0</td>\n",
       "    </tr>\n",
       "    <tr>\n",
       "      <th>3976</th>\n",
       "      <td>f343624eab419250ad81f1ce6be22c93</td>\n",
       "      <td>1</td>\n",
       "      <td>777d2e438a1b645f3aec9bd57e92672c</td>\n",
       "      <td>5000000</td>\n",
       "      <td>4a3ca9315b744ce9f8e9374361493884</td>\n",
       "      <td>101000</td>\n",
       "      <td>3fc0d940852ab274e532e80b1c1d5c2f</td>\n",
       "      <td>delivered</td>\n",
       "      <td>2017-03-07</td>\n",
       "      <td>debit card</td>\n",
       "      <td>gadget</td>\n",
       "      <td>950.0</td>\n",
       "    </tr>\n",
       "    <tr>\n",
       "      <th>21072</th>\n",
       "      <td>c8947a583ab9791a5a9d02384cb84302</td>\n",
       "      <td>1</td>\n",
       "      <td>f8cfb63e323be2e1c4172f255d61843d</td>\n",
       "      <td>5000000</td>\n",
       "      <td>4a3ca9315b744ce9f8e9374361493884</td>\n",
       "      <td>184000</td>\n",
       "      <td>57c047e791e69bef0af220b0a165a22d</td>\n",
       "      <td>delivered</td>\n",
       "      <td>2017-07-27</td>\n",
       "      <td>credit card</td>\n",
       "      <td>beauty</td>\n",
       "      <td>550.0</td>\n",
       "    </tr>\n",
       "    <tr>\n",
       "      <th>47074</th>\n",
       "      <td>f6134169ca6f0cdfbe6458ebb5731613</td>\n",
       "      <td>1</td>\n",
       "      <td>2ea92fab7565c4fe9f91a5e4e1756258</td>\n",
       "      <td>5000000</td>\n",
       "      <td>3d871de0142ce09b7081e2b9d1733cb1</td>\n",
       "      <td>196000</td>\n",
       "      <td>cbfdcc896d6ebc83c21fdcf4f4762efc</td>\n",
       "      <td>delivered</td>\n",
       "      <td>2017-12-04</td>\n",
       "      <td>virtual account</td>\n",
       "      <td>gadget</td>\n",
       "      <td>10600.0</td>\n",
       "    </tr>\n",
       "  </tbody>\n",
       "</table>\n",
       "</div>"
      ],
      "text/plain": [
       "                               order_id  quantity  \\\n",
       "37085  d7b2d3b902441cf3dd12cd125533217d         1   \n",
       "41958  2711089c7fec59d4dc8483e3c6a12fa3         1   \n",
       "3976   f343624eab419250ad81f1ce6be22c93         1   \n",
       "21072  c8947a583ab9791a5a9d02384cb84302         1   \n",
       "47074  f6134169ca6f0cdfbe6458ebb5731613         1   \n",
       "\n",
       "                             product_id    price  \\\n",
       "37085  35afc973633aaeb6b877ff57b2793310  5000000   \n",
       "41958  7c1bd920dbdf22470b68bde975dd3ccf  5000000   \n",
       "3976   777d2e438a1b645f3aec9bd57e92672c  5000000   \n",
       "21072  f8cfb63e323be2e1c4172f255d61843d  5000000   \n",
       "47074  2ea92fab7565c4fe9f91a5e4e1756258  5000000   \n",
       "\n",
       "                              seller_id  shipping_cost  \\\n",
       "37085  4a3ca9315b744ce9f8e9374361493884         118000   \n",
       "41958  cc419e0650a3c5ba77189a1882b7556a          31000   \n",
       "3976   4a3ca9315b744ce9f8e9374361493884         101000   \n",
       "21072  4a3ca9315b744ce9f8e9374361493884         184000   \n",
       "47074  3d871de0142ce09b7081e2b9d1733cb1         196000   \n",
       "\n",
       "                            customer_id order_status purchase_date  \\\n",
       "37085  217344c7c334e16c8e76551b4b240c1d    delivered    2017-10-31   \n",
       "41958  0ef59d9bb071def3dbf7e7b055965e95    delivered    2017-11-24   \n",
       "3976   3fc0d940852ab274e532e80b1c1d5c2f    delivered    2017-03-07   \n",
       "21072  57c047e791e69bef0af220b0a165a22d    delivered    2017-07-27   \n",
       "47074  cbfdcc896d6ebc83c21fdcf4f4762efc    delivered    2017-12-04   \n",
       "\n",
       "          payment_type product_category_name  product_weight_gram  \n",
       "37085       debit card                beauty               1825.0  \n",
       "41958         e-wallet               fashion                200.0  \n",
       "3976        debit card                gadget                950.0  \n",
       "21072      credit card                beauty                550.0  \n",
       "47074  virtual account                gadget              10600.0  "
      ]
     },
     "execution_count": 23,
     "metadata": {},
     "output_type": "execute_result"
    }
   ],
   "source": [
    "# Hitung harga maksimum pembelian customer\n",
    "sort_harga = order_df.sort_values(by=\"price\", ascending=False)\n",
    "sort_harga.head()"
   ]
  },
  {
   "cell_type": "markdown",
   "id": "4d443b66",
   "metadata": {
    "heading_collapsed": true
   },
   "source": [
    "### Mini Project"
   ]
  },
  {
   "cell_type": "code",
   "execution_count": 29,
   "id": "28cb6521",
   "metadata": {
    "hidden": true
   },
   "outputs": [],
   "source": [
    "import pandas as pd\n",
    "import matplotlib.pyplot as plt\n",
    "order_df = pd.read_csv(\"../../../Dataset/order.csv\")"
   ]
  },
  {
   "cell_type": "code",
   "execution_count": 31,
   "id": "bdef14f1",
   "metadata": {
    "hidden": true
   },
   "outputs": [
    {
     "data": {
      "text/plain": [
       "payment_type\n",
       "credit card        2587500.0\n",
       "debit card         2621500.0\n",
       "e-wallet           2589000.0\n",
       "virtual account    2643000.0\n",
       "Name: price, dtype: float64"
      ]
     },
     "execution_count": 31,
     "metadata": {},
     "output_type": "execute_result"
    }
   ],
   "source": [
    "# Median price yang dibayar customer dari masing-masing metode pembayaran.\n",
    "median_price = order_df[\"price\"].groupby(order_df[\"payment_type\"]).median()\n",
    "median_price"
   ]
  },
  {
   "cell_type": "code",
   "execution_count": 33,
   "id": "bd1ec5a6",
   "metadata": {
    "hidden": true
   },
   "outputs": [
    {
     "data": {
      "text/html": [
       "<div>\n",
       "<style scoped>\n",
       "    .dataframe tbody tr th:only-of-type {\n",
       "        vertical-align: middle;\n",
       "    }\n",
       "\n",
       "    .dataframe tbody tr th {\n",
       "        vertical-align: top;\n",
       "    }\n",
       "\n",
       "    .dataframe thead th {\n",
       "        text-align: right;\n",
       "    }\n",
       "</style>\n",
       "<table border=\"1\" class=\"dataframe\">\n",
       "  <thead>\n",
       "    <tr style=\"text-align: right;\">\n",
       "      <th></th>\n",
       "      <th>order_id</th>\n",
       "      <th>quantity</th>\n",
       "      <th>product_id</th>\n",
       "      <th>price</th>\n",
       "      <th>seller_id</th>\n",
       "      <th>shipping_cost</th>\n",
       "      <th>customer_id</th>\n",
       "      <th>order_status</th>\n",
       "      <th>purchase_date</th>\n",
       "      <th>payment_type</th>\n",
       "      <th>product_category_name</th>\n",
       "      <th>product_weight_gram</th>\n",
       "    </tr>\n",
       "  </thead>\n",
       "  <tbody>\n",
       "    <tr>\n",
       "      <th>23829</th>\n",
       "      <td>7d63cb1d349e7bd0ee1edcc61ea71077</td>\n",
       "      <td>1</td>\n",
       "      <td>75d6b6963340c6063f7f4cfcccfe6a30</td>\n",
       "      <td>1472000</td>\n",
       "      <td>cc419e0650a3c5ba77189a1882b7556a</td>\n",
       "      <td>200000</td>\n",
       "      <td>484711e3d14ac75fb874e949b3a28395</td>\n",
       "      <td>delivered</td>\n",
       "      <td>2017-08-14</td>\n",
       "      <td>credit card</td>\n",
       "      <td>gadget</td>\n",
       "      <td>400.0</td>\n",
       "    </tr>\n",
       "    <tr>\n",
       "      <th>12011</th>\n",
       "      <td>00c9f7d4b0e87781465e562dc109f6aa</td>\n",
       "      <td>1</td>\n",
       "      <td>1a0d662b65b5ef08796501b064c853af</td>\n",
       "      <td>4543000</td>\n",
       "      <td>2e0dba2da448400b1c11d7b4b22f32a4</td>\n",
       "      <td>200000</td>\n",
       "      <td>cea80f9af87104810bd7fa9698f69d29</td>\n",
       "      <td>delivered</td>\n",
       "      <td>2017-05-22</td>\n",
       "      <td>e-wallet</td>\n",
       "      <td>toys</td>\n",
       "      <td>900.0</td>\n",
       "    </tr>\n",
       "    <tr>\n",
       "      <th>10984</th>\n",
       "      <td>69013d19f8db4cd7dc9f3b5c2564a96f</td>\n",
       "      <td>1</td>\n",
       "      <td>10d196ec072e2d8382c7ec9c942d7ea8</td>\n",
       "      <td>4137000</td>\n",
       "      <td>d12c926d74ceff0a90a21184466ce161</td>\n",
       "      <td>200000</td>\n",
       "      <td>9cf423929ed7f738fd0a0e88607a79fd</td>\n",
       "      <td>delivered</td>\n",
       "      <td>2017-05-15</td>\n",
       "      <td>credit card</td>\n",
       "      <td>utilities</td>\n",
       "      <td>250.0</td>\n",
       "    </tr>\n",
       "    <tr>\n",
       "      <th>29722</th>\n",
       "      <td>f32c4d2b078bc5a354f4c1184522b5ff</td>\n",
       "      <td>1</td>\n",
       "      <td>0f789be671fe3bd93cabfbb4a710f282</td>\n",
       "      <td>4802000</td>\n",
       "      <td>259f7b5e6e482c230e5bfaa670b6bb8f</td>\n",
       "      <td>200000</td>\n",
       "      <td>5a1523d32a6d1b323a05895f5164655d</td>\n",
       "      <td>delivered</td>\n",
       "      <td>2017-09-18</td>\n",
       "      <td>credit card</td>\n",
       "      <td>toys</td>\n",
       "      <td>450.0</td>\n",
       "    </tr>\n",
       "    <tr>\n",
       "      <th>15259</th>\n",
       "      <td>c8eab0ccabe8cdfc2afce66c1c554ae2</td>\n",
       "      <td>1</td>\n",
       "      <td>800f75019492a0d9ffb2483ae65b59f1</td>\n",
       "      <td>4078000</td>\n",
       "      <td>efcd8d2104f1a05d028af7bad20d974b</td>\n",
       "      <td>200000</td>\n",
       "      <td>2339ab3abbeebe72f2782a01c87a9bc0</td>\n",
       "      <td>delivered</td>\n",
       "      <td>2017-06-14</td>\n",
       "      <td>debit card</td>\n",
       "      <td>sports</td>\n",
       "      <td>100.0</td>\n",
       "    </tr>\n",
       "  </tbody>\n",
       "</table>\n",
       "</div>"
      ],
      "text/plain": [
       "                               order_id  quantity  \\\n",
       "23829  7d63cb1d349e7bd0ee1edcc61ea71077         1   \n",
       "12011  00c9f7d4b0e87781465e562dc109f6aa         1   \n",
       "10984  69013d19f8db4cd7dc9f3b5c2564a96f         1   \n",
       "29722  f32c4d2b078bc5a354f4c1184522b5ff         1   \n",
       "15259  c8eab0ccabe8cdfc2afce66c1c554ae2         1   \n",
       "\n",
       "                             product_id    price  \\\n",
       "23829  75d6b6963340c6063f7f4cfcccfe6a30  1472000   \n",
       "12011  1a0d662b65b5ef08796501b064c853af  4543000   \n",
       "10984  10d196ec072e2d8382c7ec9c942d7ea8  4137000   \n",
       "29722  0f789be671fe3bd93cabfbb4a710f282  4802000   \n",
       "15259  800f75019492a0d9ffb2483ae65b59f1  4078000   \n",
       "\n",
       "                              seller_id  shipping_cost  \\\n",
       "23829  cc419e0650a3c5ba77189a1882b7556a         200000   \n",
       "12011  2e0dba2da448400b1c11d7b4b22f32a4         200000   \n",
       "10984  d12c926d74ceff0a90a21184466ce161         200000   \n",
       "29722  259f7b5e6e482c230e5bfaa670b6bb8f         200000   \n",
       "15259  efcd8d2104f1a05d028af7bad20d974b         200000   \n",
       "\n",
       "                            customer_id order_status purchase_date  \\\n",
       "23829  484711e3d14ac75fb874e949b3a28395    delivered    2017-08-14   \n",
       "12011  cea80f9af87104810bd7fa9698f69d29    delivered    2017-05-22   \n",
       "10984  9cf423929ed7f738fd0a0e88607a79fd    delivered    2017-05-15   \n",
       "29722  5a1523d32a6d1b323a05895f5164655d    delivered    2017-09-18   \n",
       "15259  2339ab3abbeebe72f2782a01c87a9bc0    delivered    2017-06-14   \n",
       "\n",
       "      payment_type product_category_name  product_weight_gram  \n",
       "23829  credit card                gadget                400.0  \n",
       "12011     e-wallet                  toys                900.0  \n",
       "10984  credit card             utilities                250.0  \n",
       "29722  credit card                  toys                450.0  \n",
       "15259   debit card                sports                100.0  "
      ]
     },
     "execution_count": 33,
     "metadata": {},
     "output_type": "execute_result"
    }
   ],
   "source": [
    "# Ubah freight_value menjadi shipping_cost dan cari shipping_cost\n",
    "# termahal dari data penjualan tersebut menggunakan sort.\n",
    "order_df.rename(columns={\"freight_value\": \"shipping_cost\"}, inplace=True)\n",
    "sort_value = order_df.sort_values(by=\"shipping_cost\", ascending=0)\n",
    "sort_value.head()"
   ]
  },
  {
   "cell_type": "code",
   "execution_count": 35,
   "id": "ee38966d",
   "metadata": {
    "hidden": true
   },
   "outputs": [
    {
     "name": "stdout",
     "output_type": "stream",
     "text": [
      "product_category_name\n",
      "beauty         2120.088396\n",
      "automotive     2129.559039\n",
      "electronics    2144.751191\n",
      "toys           2203.863643\n",
      "gadget         2229.632942\n",
      "fashion        2246.516901\n",
      "sports         2251.879909\n",
      "utilities      2291.029868\n",
      "Name: product_weight_gram, dtype: float64\n"
     ]
    }
   ],
   "source": [
    "# Untuk product_category_name, berapa  rata-rata weight produk tersebut\n",
    "# dan standar deviasi mana yang terkecil dari weight tersebut,\n",
    "mean_value = order_df[\"product_weight_gram\"].groupby(\n",
    "    order_df[\"product_category_name\"]).mean()\n",
    "print(mean_value.sort_values())"
   ]
  },
  {
   "cell_type": "code",
   "execution_count": 36,
   "id": "cc5da499",
   "metadata": {
    "hidden": true
   },
   "outputs": [
    {
     "name": "stdout",
     "output_type": "stream",
     "text": [
      "product_category_name\n",
      "automotive     3799.884166\n",
      "beauty         3837.474929\n",
      "electronics    3839.271768\n",
      "fashion        3858.885213\n",
      "gadget         3955.792741\n",
      "toys           3956.814749\n",
      "sports         4032.850044\n",
      "utilities      4150.509909\n",
      "Name: product_weight_gram, dtype: float64\n"
     ]
    }
   ],
   "source": [
    "std_value = order_df[\"product_weight_gram\"].groupby(\n",
    "    order_df[\"product_category_name\"]).std()\n",
    "print(std_value.sort_values())"
   ]
  },
  {
   "cell_type": "code",
   "execution_count": 37,
   "id": "e597802b",
   "metadata": {
    "hidden": true
   },
   "outputs": [
    {
     "data": {
      "image/png": "[encoded data removed]",
      "text/plain": [
       "<Figure size 288x360 with 1 Axes>"
      ]
     },
     "metadata": {
      "needs_background": "light"
     },
     "output_type": "display_data"
    }
   ],
   "source": [
    "# Buat histogram quantity penjualan dari dataset tersebutuntuk melihat persebaran quantity\n",
    "# penjualan tersebut dengan bins = 5 dan figsize= (4,5)\n",
    "order_df[[\"quantity\"]].hist(figsize=(4, 5), bins=5)\n",
    "plt.show()"
   ]
  }
 ],
 "metadata": {
  "kernelspec": {
   "display_name": "Python 3 (ipykernel)",
   "language": "python",
   "name": "python3"
  },
  "language_info": {
   "codemirror_mode": {
    "name": "ipython",
    "version": 3
   },
   "file_extension": ".py",
   "mimetype": "text/x-python",
   "name": "python",
   "nbconvert_exporter": "python",
   "pygments_lexer": "ipython3",
   "version": "3.9.7"
  }
 },
 "nbformat": 4,
 "nbformat_minor": 5
}
