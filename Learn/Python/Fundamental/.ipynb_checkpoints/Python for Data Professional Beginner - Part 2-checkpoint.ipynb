{
 "cells": [
  {
   "cell_type": "markdown",
   "id": "f7e44514",
   "metadata": {},
   "source": [
    "### Collection Manipulation dengan Python"
   ]
  },
  {
   "cell_type": "markdown",
   "id": "a90dfb11",
   "metadata": {},
   "source": [
    "#### Apa itu Collection Manipulation?\n",
    "**Collections manipulation** adalah salah satu teknik yang penting untuk dikuasai setiap programmer. Melalui penguasaan materi collections  manipulation, aku dapat mengolah berbagai tipe data collections dalam Python yang meliputi:\n",
    "<ul>\n",
    "    <li>list,</li>\n",
    "    <li>tuple,</li>\n",
    "    <li>set, dan</li>\n",
    "    <li>Dictionary.</li>\n",
    "    \n",
    "</ul>"
   ]
  },
  {
   "cell_type": "markdown",
   "id": "12388af3",
   "metadata": {},
   "source": [
    "#### Mengakses List dan Tuple\n",
    "Untuk mengakses elemen pada suatu list ataupun tuple bisa dengan menggunakan indeks atau semacam nomor urut dari list atau tuple tersebut. Indeks pada suatu tipe data list atau tuple dimulai dari angka 0."
   ]
  },
  {
   "cell_type": "code",
   "execution_count": 1,
   "id": "d4cc130f",
   "metadata": {},
   "outputs": [
    {
     "name": "stdout",
     "output_type": "stream",
     "text": [
      "Januari\n",
      "Juni\n",
      "Desember\n",
      "November\n"
     ]
    }
   ],
   "source": [
    "bulan_pembelian = ('Januari', 'Februari', 'Maret', 'April', 'Mei', 'Juni', 'Juli', 'Agustus', 'September', 'Oktober', 'November', 'Desember')\n",
    "\n",
    "# Untuk menampilkan output Januari dan Juni, yang aku lakukan adalah mengetikkan syntax sederhana\n",
    "print(bulan_pembelian[0])\n",
    "print(bulan_pembelian[5])\n",
    "\n",
    "# Kemudian, untuk mengakses elemen dari belakang pada suatu list/tuple, aku juga dapat menggunakan indeks negatif pada list/tuple.\n",
    "print(bulan_pembelian[-1])\n",
    "print(bulan_pembelian[-2])"
   ]
  },
  {
   "cell_type": "code",
   "execution_count": 2,
   "id": "dd1762b8",
   "metadata": {},
   "outputs": [
    {
     "name": "stdout",
     "output_type": "stream",
     "text": [
      "('Mei', 'Juni', 'Juli', 'Agustus')\n",
      "('Januari', 'Februari', 'Maret', 'April', 'Mei')\n",
      "('September', 'Oktober', 'November', 'Desember')\n",
      "('September', 'Oktober', 'November')\n"
     ]
    }
   ],
   "source": [
    "bulan_pembelian = ('Januari', 'Februari', 'Maret', 'April', 'Mei', 'Juni', 'Juli', 'Agustus', 'September', 'Oktober', 'November', 'Desember')\n",
    "pertengahan_tahun = bulan_pembelian[4:8]\n",
    "print(pertengahan_tahun)\n",
    "awal_tahun = bulan_pembelian[:5]\n",
    "print(awal_tahun)\n",
    "akhir_tahun = bulan_pembelian[8:]\n",
    "print(akhir_tahun)\n",
    "print(bulan_pembelian[-4:-1])"
   ]
  },
  {
   "cell_type": "markdown",
   "id": "d0002d40",
   "metadata": {},
   "source": [
    "#### Penggabungan Dua atau Lebih List atau Tuple\n",
    "Selain dapat melakukan pemotongan terhadap tipe data list/tuple, aku juga dapat menggabungkan isi dari suatu list (ataupun tuple) dengan list lainnya (atau dengan tuple lainnya) dengan menggunakan operator penambahan (+). "
   ]
  },
  {
   "cell_type": "code",
   "execution_count": 3,
   "id": "1ecbd9c6",
   "metadata": {},
   "outputs": [
    {
     "name": "stdout",
     "output_type": "stream",
     "text": [
      "['Gado-gado', 'Ayam Goreng', 'Rendang', 'Es Teh', 'Es Jeruk', 'Es Campur']\n"
     ]
    }
   ],
   "source": [
    "list_makanan = ['Gado-gado', 'Ayam Goreng', 'Rendang']\n",
    "list_minuman = ['Es Teh', 'Es Jeruk', 'Es Campur']\n",
    "list_menu = list_makanan + list_minuman\n",
    "print(list_menu)"
   ]
  },
  {
   "cell_type": "code",
   "execution_count": 4,
   "id": "ed265046",
   "metadata": {},
   "outputs": [
    {
     "name": "stdout",
     "output_type": "stream",
     "text": [
      "[1000, 2500]\n"
     ]
    }
   ],
   "source": [
    "harga = [1000, 2500, 5000, 15000, 30000]\n",
    "print(harga[:-3])"
   ]
  },
  {
   "cell_type": "markdown",
   "id": "70a1c688",
   "metadata": {},
   "source": [
    "#### List Manipulation\n",
    "Untuk memanipulasi tipe data list, aku dapat menggunakan sekumpulan fitur yang telah tersedia dalam bahasa pemrograman Python. Merujuk pada tabel di bawah, aku dapat memahami fitur-fitur untuk melakukan manipulasi data yang terdiri atas append(), clear(), copy(), count() dan extend()\n",
    "\n",
    "<table>\n",
    "    <tr>\n",
    "        <th>Fitur</th>\n",
    "        <th>Keterangan</th>\n",
    "        <th>Contoh Penggunaan</th>\n",
    "    </tr>\n",
    "    <tr>\n",
    "        <td>.append()</td>\n",
    "        <td>Menambahkan data sebagai elemen terakhir di list</td>\n",
    "        <td>list_makanan.append('Ketoprak')</td>\n",
    "    </tr>\n",
    "    <tr>\n",
    "        <td>.clear()</td>\n",
    "        <td>Menghapus seluruh elemen dalam sebuah list</td>\n",
    "        <td>list_makanan.clear()</td>\n",
    "    </tr>\n",
    "    <tr>\n",
    "        <td>.copy()</td>\n",
    "        <td>Mengembalikan copy dari setiap elemen dalam list</td>\n",
    "        <td>list_makanan1.copy</td>\n",
    "    </tr>\n",
    "    <tr>\n",
    "        <td>.count()</td>\n",
    "        <td>Mengembalikan jumlah kemunculan suatu elemen pada list</td>\n",
    "        <td>list_makanan.count('Ayam Goreng')</td>\n",
    "    </tr>\n",
    "    <tr>\n",
    "        <td>.extend()</td>\n",
    "        <td>Menggabungkan dua buah list seperti penggunaan operator + untuk list</td>\n",
    "        <td>list_makanan.extend(list_minuman)</td>\n",
    "    </tr>\n",
    "    <tr>\n",
    "        <td>.index()</td>\n",
    "        <td>Mengembalikan indeks dari elemen pertama yang ditemukan dari awal sebuah list</td>\n",
    "        <td>list_makanan.index('Rendang') + 1</td>\n",
    "    </tr>\n",
    "    <tr>\n",
    "        <td>.insert()</td>\n",
    "        <td>Menyisipkan elemen pada indeks yang dispesifikasikan</td>\n",
    "        <td>list_makanan.insert(3, 'Sosis')</td>\n",
    "    </tr>\n",
    "    <tr>\n",
    "        <td>.pop()</td>\n",
    "        <td>Menghilangkan elemen pada posisi tertentu</td>\n",
    "        <td>list_makanan.pop(4)</td>\n",
    "    </tr>\n",
    "    <tr>\n",
    "        <td>.remove()</td>\n",
    "        <td>Menghilangkan elemen dengan nilai tertentu</td>\n",
    "        <td>list_makanan.remove('Sosis')</td>\n",
    "    </tr>\n",
    "    <tr>\n",
    "        <td>.reverse()</td>\n",
    "        <td>Membalik urutan elemen dari sebuah lis</td>\n",
    "        <td>list_makanan.reverse()</td>\n",
    "    </tr>\n",
    "    <tr>\n",
    "        <td>.sort()</td>\n",
    "        <td>Mengurutkan elemen pada sebuah list, secara default dengan urutan dari kecil ke besar (ascending).</td>\n",
    "        <td>list_makanan.sort(reverse=True)</td>\n",
    "    </tr>\n",
    "</table>    "
   ]
  },
  {
   "cell_type": "code",
   "execution_count": 5,
   "id": "e6aa487c",
   "metadata": {},
   "outputs": [
    {
     "name": "stdout",
     "output_type": "stream",
     "text": [
      ">>> Fitur .append()\n",
      "['Gado-gado', 'Ayam Goreng', 'Rendang', 'Ketoprak']\n",
      ">>> Fitur .clear()\n",
      "[]\n",
      ">>> Fitur .copy()\n",
      "['Gado-gado', 'Ayam Goreng', 'Rendang', 'Ketoprak']\n",
      "['Gado-gado', 'Ayam Goreng', 'Rendang', 'Opor']\n",
      ">>> Fitur .count()\n",
      "4\n",
      "3\n",
      ">>> Fitur .extend()\n",
      "['Gado-gado', 'Ayam Goreng', 'Rendang', 'Es Teh', 'Es Jeruk', 'Es Campur']\n"
     ]
    }
   ],
   "source": [
    "# Fitur .append()\n",
    "print(\">>> Fitur .append()\")\n",
    "list_makanan = ['Gado-gado', 'Ayam Goreng', 'Rendang']\n",
    "list_makanan.append('Ketoprak')\n",
    "print(list_makanan)\n",
    "\n",
    "# Fitur .clear()\n",
    "print(\">>> Fitur .clear()\")\n",
    "list_makanan = ['Gado-gado', 'Ayam Goreng', 'Rendang']\n",
    "list_makanan.clear()\n",
    "print(list_makanan)\n",
    "\n",
    "# Fitur .copy()\n",
    "print(\">>> Fitur .copy()\")\n",
    "list_makanan1 = ['Gado-gado', 'Ayam Goreng', 'Rendang']\n",
    "list_makanan2 = list_makanan1.copy()\n",
    "list_makanan3 = list_makanan1\n",
    "list_makanan2.append('Opor')\n",
    "list_makanan3.append('Ketoprak')\n",
    "print(list_makanan1)\n",
    "print(list_makanan2)\n",
    "\n",
    "# Fitur .count()\n",
    "print(\">>> Fitur .count()\")\n",
    "list_score = ['Budi', 'Sud', 'Budi', 'Budi', 'Budi', 'Sud', 'Sud']\n",
    "score_budi = list_score.count('Budi')\n",
    "score_sud = list_score.count('Sud')\n",
    "print(score_budi) # akan menampilkan output 4\n",
    "print(score_sud) # akan menampilkan output 3\n",
    "\n",
    "# Fitur .extend()\n",
    "print(\">>> Fitur .extend()\")\n",
    "list_menu = ['Gado-gado', 'Ayam Goreng', 'Rendang']\n",
    "list_minuman = ['Es Teh', 'Es Jeruk', 'Es Campur']\n",
    "list_menu.extend(list_minuman)\n",
    "print(list_menu)"
   ]
  },
  {
   "cell_type": "code",
   "execution_count": 6,
   "id": "21042d2a",
   "metadata": {},
   "outputs": [
    {
     "name": "stdout",
     "output_type": "stream",
     "text": [
      ">>> Fitur .index()\n",
      "2\n",
      ">>> Fitur .insert()\n",
      "['Budi', 'Sud', 'Budi', 'Sud', 'Budi', 'Sud']\n",
      ">>> Fitur .pop()\n",
      "['Gado-gado', 'Rendang']\n",
      ">>> Fitur .remove()\n",
      "['Gado-gado', 'Ayam Goreng', 'Ketoprak']\n",
      ">>> Fitur .reverse()\n",
      "['Ketoprak', 'Rendang', 'Ayam Goreng', 'Gado-gado']\n",
      ">>> Fitur .sort()\n",
      "['Ayam Goreng', 'Gado-gado', 'Ketoprak', 'Rendang']\n",
      "['Rendang', 'Ketoprak', 'Gado-gado', 'Ayam Goreng']\n"
     ]
    }
   ],
   "source": [
    "# Fitur .index()\n",
    "print(\">>> Fitur .index()\")\n",
    "list_score = ['Budi','Sud','Budi','Budi','Budi','Sud','Sud']\n",
    "score_pertama_sud = list_score.index('Sud') + 1\n",
    "print(score_pertama_sud) # akan menampilkan output 2\n",
    "\n",
    "# Fitur .insert()\n",
    "print(\">>> Fitur .insert()\")\n",
    "list_score = ['Budi','Sud','Budi','Budi','Sud']\n",
    "list_score.insert(3, 'Sud')\n",
    "print(list_score)\n",
    "\n",
    "# Fitur .pop()\n",
    "print(\">>> Fitur .pop()\")\n",
    "list_menu = ['Gado-gado', 'Ayam Goreng', 'Rendang']\n",
    "list_menu.pop(1)\n",
    "print(list_menu)\n",
    "\n",
    "# Fitur .remove()\n",
    "print(\">>> Fitur .remove()\")\n",
    "list_menu = ['Gado-gado', 'Ayam Goreng', 'Rendang', 'Ketoprak']\n",
    "list_menu.remove('Rendang')\n",
    "print(list_menu)\n",
    "\n",
    "# Fitur .reverse()\n",
    "print(\">>> Fitur .reverse()\")\n",
    "list_menu = ['Gado-gado', 'Ayam Goreng', 'Rendang', 'Ketoprak']\n",
    "list_menu.reverse()\n",
    "print(list_menu)\n",
    "\n",
    "# Fitur .sort()\n",
    "print(\">>> Fitur .sort()\")\n",
    "list_menu = ['Gado-gado', 'Ayam Goreng', 'Rendang', 'Ketoprak']\n",
    "list_menu.sort() # Default: Ascending\n",
    "print(list_menu) \n",
    "list_menu.sort(reverse=True)# Descending\n",
    "print(list_menu) "
   ]
  },
  {
   "cell_type": "markdown",
   "id": "1fb92794",
   "metadata": {},
   "source": [
    "#### Tuple Manipulation"
   ]
  },
  {
   "cell_type": "code",
   "execution_count": 7,
   "id": "1e237714",
   "metadata": {},
   "outputs": [
    {
     "name": "stdout",
     "output_type": "stream",
     "text": [
      ">>> Fitur .count()\n",
      "4\n",
      "3\n",
      ">>> Fitur .index()\n",
      "2\n"
     ]
    }
   ],
   "source": [
    "# Fitur .count()\n",
    "print(\">>> Fitur .count()\")\n",
    "tuple_score = ('Budi', 'Sud', 'Budi', 'Budi', 'Budi', 'Sud', 'Sud')\n",
    "score_budi = tuple_score.count('Budi')\n",
    "score_sud = tuple_score.count('Sud')\n",
    "print(score_budi) # akan menampilkan output 4\n",
    "print(score_sud) # akan menampilkan output 3\n",
    "\n",
    "# Fitur .index()\n",
    "print(\">>> Fitur .index()\")\n",
    "tuple_score = ('Budi','Sud','Budi','Budi','Budi','Sud','Sud')\n",
    "score_pertama_sud = tuple_score.index('Sud')+1\n",
    "print(score_pertama_sud) # akan menampilkan output 2"
   ]
  },
  {
   "cell_type": "code",
   "execution_count": 8,
   "id": "c5b91585",
   "metadata": {},
   "outputs": [
    {
     "name": "stdout",
     "output_type": "stream",
     "text": [
      "4\n"
     ]
    }
   ],
   "source": [
    "barisan = [1,2,3,4,5]\n",
    "print(barisan[-2])"
   ]
  },
  {
   "cell_type": "markdown",
   "id": "ae53f077",
   "metadata": {},
   "source": [
    "#### Set Manipulation\n",
    "Sedikit berbeda dengan tipe data list dan tuple, pada tipe data set terdapat cukup banyak fitur yang disediakan oleh bahasa Python.\n",
    "\n",
    "<table>\n",
    "    <tr>\n",
    "        <th>Fitur</th>\n",
    "        <th>Keterangan</th>\n",
    "        <th>Contoh Penggunaan</th>\n",
    "    </tr>\n",
    "    <tr>\n",
    "        <td>.add()</td>\n",
    "        <td>Menambahkan data ke dalam set. Penting untuk kita ingat bahwa pada tipe data set tidak mengizinkan adanya duplikasi elemen di dalamnya.</td>\n",
    "        <td>set_buah.add('Melon')</td>\n",
    "    </tr>\n",
    "    <tr>\n",
    "        <td>.clear()</td>\n",
    "        <td>Menghapus seluruh elemen dalam sebuah set</td>\n",
    "        <td>set_buah.clear()</td>\n",
    "    </tr>\n",
    "    <tr>\n",
    "        <td>.copy()</td>\n",
    "        <td>Mengembalikan copy dari setiap elemen dalam set</td>\n",
    "        <td>set_buah1.copy()</td>\n",
    "    </tr>\n",
    "    <tr>\n",
    "        <td>.update()</td>\n",
    "        <td>Menambahkan elemen dari suatu set dengan set lainnya.</td>\n",
    "        <td>parcel1.update(parcel2)</td>\n",
    "    </tr>\n",
    "    <tr>\n",
    "        <td>.pop()</td>\n",
    "        <td>Menghilangkan elemen dari sebuah set secara acak.</td>\n",
    "        <td>parcel.pop()</td>\n",
    "    </tr>\n",
    "    <tr>\n",
    "        <td>.remove()</td>\n",
    "        <td>Menghilangkan elemen dengan nilai tertentu</td>\n",
    "        <td>parcel.remove('Apel')</td>\n",
    "    </tr>\n",
    "    <tr>\n",
    "        <td>.union()</td>\n",
    "        <td>Mengembalikan hasil penggabungan (union) dari dua buah set.</td>\n",
    "        <td>parcel1.union(parcel2)</td>\n",
    "    </tr>\n",
    "    <tr>\n",
    "        <td>.isdisjoint()</td>\n",
    "        <td>Mengembalikan nilai kebenaran apakah suatu set disjoint (saling lepas/tidak mengandung elemen yang sama) dengan set lainnya.</td>\n",
    "        <td>parcel1.isdisjoint(parcel2)</td>\n",
    "    </tr>\n",
    "    <tr>\n",
    "        <td>.issubset()</td>\n",
    "        <td>Mengembalikan nilai kebenaran apakah sebuah set merupakan subset dari set lainnya. Sebuah set A merupakan subset dari set B jika seluruh elemen dari set A merupakan bagian dari set B.</td>\n",
    "        <td>parcel_A.issubset(parcel_C)</td>\n",
    "    </tr>\n",
    "    <tr>\n",
    "        <td>.issuperset()</td>\n",
    "        <td>Mengembalikan nilai kebenaran apakah sebuah set merupakan superset dari set lainnya. Sebuah set A merupakan superset dari set B jika seluruh elemen dari set B terkandung dalam set A.</td>\n",
    "        <td>parcel_C.issuperset(parcel_A)</td>\n",
    "    </tr>\n",
    "    <tr>\n",
    "        <td>.intersection()</td>\n",
    "        <td>Mengembalikan sebuah set yang merupakan intersection dari dua set lainnya.</td>\n",
    "        <td>parcel_A.intersection(parcel_B)</td>\n",
    "    </tr>\n",
    "    <tr>\n",
    "        <td>.difference()</td>\n",
    "        <td>Mengembalikan sebuah set yang berisikan difference dari dua set lainnya. Difference dari sebuah set A berdasarkan set B adalah setiap elemen yang terdapat di set A tetapi tidak terdapat di set B.</td>\n",
    "        <td>parcel_A.difference(parcel_B)</td>\n",
    "    </tr>\n",
    "    <tr>\n",
    "        <td>.symmetric_difference()</td>\n",
    "        <td>Mengembalikan sebuah set yang berisikan symmetric difference dari dua set lainnya. Symmetric difference dari sebuah set A dan B adalah setiap elemen dari set A yang tidak terdapat di set B digabungkan dengan (union) setiap elemen dari set B yang tidak terdapat di set A.</td>\n",
    "        <td>parcel_A.symmetic_difference(parcel_B)</td>\n",
    "    </tr>\n",
    "</table>"
   ]
  },
  {
   "cell_type": "code",
   "execution_count": 9,
   "id": "f75f25d4",
   "metadata": {},
   "outputs": [
    {
     "name": "stdout",
     "output_type": "stream",
     "text": [
      ">>> Fitur .add()\n",
      "{'Jeruk', 'Melon', 'Apel', 'Anggur'}\n",
      ">>> Fitur .clear()\n",
      "set()\n",
      ">>> Fitur .copy()\n",
      "{'Jeruk', 'Melon', 'Apel', 'Anggur'}\n",
      "{'Jeruk', 'Melon', 'Apel', 'Anggur'}\n",
      ">>> Fitur .update()\n",
      "{'Jeruk', 'Melon', 'Apel', 'Anggur', 'Kiwi'}\n",
      ">>> Fitur .pop()\n",
      "Jeruk\n",
      "{'Apel', 'Anggur'}\n",
      ">>> Fitur .remove()\n",
      "{'Jeruk', 'Anggur'}\n"
     ]
    }
   ],
   "source": [
    "# Fitur .add()\n",
    "print(\">>> Fitur .add()\")\n",
    "set_buah = {'Jeruk','Apel','Anggur'}\n",
    "set_buah.add('Melon')\n",
    "print(set_buah)\n",
    "\n",
    "# Fitur .clear()\n",
    "print(\">>> Fitur .clear()\")\n",
    "set_buah = {'Jeruk','Apel','Anggur'}\n",
    "set_buah.clear()\n",
    "print(set_buah)\n",
    "\n",
    "# Fitur .copy()\n",
    "print(\">>> Fitur .copy()\")\n",
    "set_buah1 = {'Jeruk','Apel','Anggur'}\n",
    "set_buah2 = set_buah1\n",
    "set_buah3 = set_buah1.copy()\n",
    "set_buah2.add('Melon')\n",
    "set_buah3.add('Kiwi')\n",
    "print(set_buah1)\n",
    "print(set_buah2)\n",
    "\n",
    "# Fitur .update()\n",
    "print(\">>> Fitur .update()\")\n",
    "parcel1 = {'Anggur','Apel','Jeruk'}\n",
    "parcel2 = {'Apel','Kiwi','Melon'}\n",
    "parcel1.update(parcel2)\n",
    "print(parcel1)\n",
    "\n",
    "# Fitur .pop()\n",
    "print(\">>> Fitur .pop()\")\n",
    "parcel = {'Anggur','Apel','Jeruk'}\n",
    "buah = parcel.pop()\n",
    "print(buah)\n",
    "print(parcel)\n",
    "\n",
    "# Fitur .remove()\n",
    "print(\">>> Fitur .remove()\")\n",
    "parcel = {'Anggur','Apel','Jeruk'}\n",
    "parcel.remove('Apel')\n",
    "print(parcel)"
   ]
  },
  {
   "cell_type": "code",
   "execution_count": 10,
   "id": "6b3963b1",
   "metadata": {},
   "outputs": [
    {
     "name": "stdout",
     "output_type": "stream",
     "text": [
      ">>> Fitur .union()\n",
      "{'Jeruk', 'Apel', 'Anggur'}\n",
      "{'Jeruk', 'Melon', 'Apel', 'Anggur', 'Kiwi'}\n",
      ">>> Fitur .isdisjoint()\n",
      "True\n",
      "False\n",
      ">>> Fitur .issubset()\n",
      "True\n",
      "False\n",
      ">>> Fitur .issuperset()\n",
      "True\n",
      "False\n",
      ">>> Fitur .intersection()\n",
      "{'Jeruk', 'Apel'}\n",
      ">>> Fitur .difference()\n",
      "{'Kiwi', 'Melon', 'Anggur'}\n",
      ">>> Fitur .symmetric_difference()\n",
      "{'Anggur', 'Semangka', 'Melon', 'Leci'}\n"
     ]
    }
   ],
   "source": [
    "# Fitur .union()\n",
    "print(\">>> Fitur .union()\")\n",
    "parcel1 = {'Anggur','Apel','Jeruk'}\n",
    "parcel2 = {'Apel','Kiwi','Melon'}\n",
    "parcel3 = parcel1.union(parcel2)\n",
    "print(parcel1)\n",
    "print(parcel3)\n",
    "\n",
    "# Fitur .isdisjoint()\n",
    "print(\">>> Fitur .isdisjoint()\")\n",
    "parcel1 = {'Anggur','Apel','Jeruk'}\n",
    "parcel2 = {'Kiwi','Melon','Pisang'}\n",
    "parcel3 = {'Apel','Srikaya','Semangka'}\n",
    "parcel1_parcel2_disjoint = parcel1.isdisjoint(parcel2)\n",
    "print(parcel1_parcel2_disjoint)\n",
    "parcel1_parcel3_disjoint = parcel1.isdisjoint(parcel3)\n",
    "print(parcel1_parcel3_disjoint)\n",
    "\n",
    "# Fitur .issubset()\n",
    "print(\">>> Fitur .issubset()\")\n",
    "parcel_A = {'Anggur', 'Apel'}\n",
    "parcel_B = {'Durian','Semangka','Apel'}\n",
    "parcel_C = {'Anggur', 'Kiwi', 'Apel', 'Jeruk', 'Melon'}\n",
    "parcel_A_dalam_C = parcel_A.issubset(parcel_C)\n",
    "parcel_B_dalam_C = parcel_B.issubset(parcel_C)\n",
    "print(parcel_A_dalam_C)\n",
    "print(parcel_B_dalam_C)\n",
    "\n",
    "# Fitur .issuperset()\n",
    "print(\">>> Fitur .issuperset()\")\n",
    "parcel_C_mengandung_A = parcel_C.issuperset(parcel_A)\n",
    "parcel_C_mengandung_B = parcel_C.issuperset(parcel_B)\n",
    "print(parcel_C_mengandung_A)\n",
    "print(parcel_C_mengandung_B)\n",
    "\n",
    "# Fitur .intersection()\n",
    "print(\">>> Fitur .intersection()\")\n",
    "parcel_A = {'Anggur', 'Kiwi', 'Apel', 'Jeruk', 'Melon'}\n",
    "parcel_B = {'Apel', 'Jeruk', 'Semangka', 'Durian', 'Tomat'}\n",
    "parcel_C = parcel_A.intersection(parcel_B)\n",
    "print(parcel_C)\n",
    "\n",
    "# Fitur .difference()\n",
    "print(\">>> Fitur .difference()\")\n",
    "parcel_C = parcel_A.difference(parcel_B)\n",
    "print(parcel_C)\n",
    "\n",
    "# Fitur .symmetric_difference()\n",
    "print(\">>> Fitur .symmetric_difference()\")\n",
    "parcel_A = {'Anggur', 'Apel', 'Jeruk', 'Melon'}\n",
    "parcel_B = {'Apel','Jeruk','Semangka','Leci'}\n",
    "parcel_C = parcel_A.symmetric_difference(parcel_B)\n",
    "print(parcel_C)"
   ]
  },
  {
   "cell_type": "code",
   "execution_count": 11,
   "id": "41538b47",
   "metadata": {},
   "outputs": [
    {
     "name": "stdout",
     "output_type": "stream",
     "text": [
      "{'Durian'}\n"
     ]
    }
   ],
   "source": [
    "set_buah1 = {'Jeruk','Apel','Anggur'}\n",
    "set_buah2 = set_buah1\n",
    "set_buah1.clear()\n",
    "set_buah2.add('Durian')\n",
    "print(set_buah1)"
   ]
  },
  {
   "cell_type": "markdown",
   "id": "207f3359",
   "metadata": {},
   "source": [
    "#### Dictionary Manipulation\n",
    "<table>\n",
    "    <tr>\n",
    "        <th>Fitur</th>\n",
    "        <th>Keterangan</th>\n",
    "        <th>Contoh Penggunaan</th>\n",
    "    </tr>\n",
    "    <tr>\n",
    "        <td>.clear()</td>\n",
    "        <td>Menghapus seluruh elemen dalam sebuah dictionary</td>\n",
    "        <td>info_karyawan.clear()</td>\n",
    "    </tr>\n",
    "    <tr>\n",
    "        <td>.copy()</td>\n",
    "        <td>Mengembalikan copy dari setiap elemen dalam set. Serupa dengan fitur copy() pada tipe data collections lainnya, fitur copy() tidak akan mengubah nilai dari elemen asal seperti fungsi assignment.</td>\n",
    "        <td>info_karayawan1.copy()</td>\n",
    "    </tr>\n",
    "    <tr>\n",
    "        <td>.keys()</td>\n",
    "        <td>Mengembalikan list dari seluruh kunci akses (\"key\") dari setiap elemen dalam sebuah dictionary.</td>\n",
    "        <td>info_karyawan.keys()</td>\n",
    "    </tr>\n",
    "    <tr>\n",
    "        <td>.values()</td>\n",
    "        <td>Mengembalikan list dari seluruh nilai (\"value\") dari setiap elemen dalam sebuah dictionary</td>\n",
    "        <td>info_karyawan.values()</td>\n",
    "    </tr>\n",
    "    <tr>\n",
    "        <td>.update()</td>\n",
    "        <td>Menambahkan kunci akses (\"key\") dan nilai baru (\"value\") ke dalam sebuah dictionary.</td>\n",
    "        <td>info_karyawan.update({'skillset':['Python', 'R']})</td>\n",
    "    </tr>\n",
    "</table>    "
   ]
  },
  {
   "cell_type": "code",
   "execution_count": 12,
   "id": "1f874f16",
   "metadata": {},
   "outputs": [
    {
     "name": "stdout",
     "output_type": "stream",
     "text": [
      ">>> Fitur .clear()\n",
      "{}\n",
      ">>> Fitur .copy()\n",
      "{'nama': 'Aksara', 'nik': '1211011', 'pekerjaan': 'Data Analyst'}\n",
      "{'nama': 'Senja', 'nik': '1211056', 'pekerjaan': 'Data Analyst'}\n",
      ">>> Fitur .keys()\n",
      "['nama', 'nik', 'pekerjaan']\n",
      ">>> Fitur .values()\n",
      "['Aksara', '1211011', 'Data Analyst']\n",
      ">>> Fitur .update()\n",
      "{'nama': 'Aksara', 'nik': '1211011', 'pekerjaan': 'Data Analyst', 'skillset': ['Python', 'R']}\n"
     ]
    }
   ],
   "source": [
    "# Fitur .clear()\n",
    "print(\">>> Fitur .clear()\")\n",
    "info_karyawan = {'nama' : 'Aksara',\n",
    "                 'nik' : '1211011',\n",
    "                 'pekerjaan' : 'Data Analyst'}\n",
    "info_karyawan.clear()\n",
    "print(info_karyawan)\n",
    "\n",
    "# Fitur .copy()\n",
    "print(\">>> Fitur .copy()\")\n",
    "info_karyawan1 = {'nama' : 'Aksara',\n",
    "                  'nik' : '1211011',\n",
    "                  'pekerjaan' : 'Data Analyst'}\n",
    "info_karyawan2 = info_karyawan1.copy()\n",
    "info_karyawan2['nama'] = 'Senja'\n",
    "info_karyawan2['nik'] = '1211056'\n",
    "print(info_karyawan1)\n",
    "print(info_karyawan2)\n",
    "\n",
    "# Fitur .keys()\n",
    "print(\">>> Fitur .keys()\")\n",
    "info_karyawan = {'nama' : 'Aksara',\n",
    "                 'nik' : '1211011',\n",
    "                 'pekerjaan' : 'Data Analyst'}\n",
    "kunci_akses = list(info_karyawan.keys())\n",
    "print(kunci_akses)\n",
    "\n",
    "# Fitur .values()\n",
    "print(\">>> Fitur .values()\")\n",
    "value_dict = list(info_karyawan.values())\n",
    "print(value_dict)\n",
    "\n",
    "# Fitur .update()\n",
    "print(\">>> Fitur .update()\")\n",
    "info_karyawan.update({'skillset':['Python', 'R']})\n",
    "print(info_karyawan)"
   ]
  },
  {
   "cell_type": "markdown",
   "id": "b646d806",
   "metadata": {},
   "source": [
    "#### Useful Tips and Tricks\n",
    "Untuk menentukan berapa jumlah data yang tersimpan di setiap elemen pada tuple/list, aku dapat menggunakan fungsi buit-in len(). "
   ]
  },
  {
   "cell_type": "code",
   "execution_count": 13,
   "id": "ee3b3ca3",
   "metadata": {},
   "outputs": [
    {
     "name": "stdout",
     "output_type": "stream",
     "text": [
      ">>> Tuple\n",
      "4\n",
      ">>> List\n",
      "4\n",
      ">>> Konversi tipe data\n",
      "{'Jeruk', 'Apel', 'Markisa'}\n",
      "['Apel', 'Jeruk', 'Markisa']\n"
     ]
    }
   ],
   "source": [
    "# Tuple\n",
    "print(\">>> Tuple\")\n",
    "tuple_menu = ('Gado-gado','Ayam Goreng','Rendang','Ketoprak')\n",
    "jumlah_menu = len(tuple_menu)\n",
    "print(jumlah_menu)\n",
    "# List\n",
    "print(\">>> List\")\n",
    "list_menu = ['Gado-gado','Ayam Goreng','Rendang','Ketoprak']\n",
    "jumlah_menu = len(list_menu)\n",
    "print(jumlah_menu)\n",
    "\n",
    "# Konversi tipe data\n",
    "print(\">>> Konversi tipe data\")\n",
    "list_buah = ['Apel', 'Apel', 'Jeruk', 'Markisa', 'Jeruk', 'Markisa', 'Apel']\n",
    "set_buah = set(list_buah)\n",
    "print(set_buah)\n",
    "list_buah = list(set_buah)\n",
    "list_buah.sort()\n",
    "print(list_buah)"
   ]
  },
  {
   "cell_type": "markdown",
   "id": "84859438",
   "metadata": {},
   "source": [
    "#### Tugas Praktek\n",
    "Tugas:\n",
    "Dari variabel keuangan, aku akan menghitung rata-rata pengeluaran dan pemasukanku selama 9 bulan terakhir. Semoga keuanganku sehat-sehat saja. "
   ]
  },
  {
   "cell_type": "code",
   "execution_count": 14,
   "id": "c1253d54",
   "metadata": {},
   "outputs": [
    {
     "name": "stdout",
     "output_type": "stream",
     "text": [
      "2.8277777777777775\n",
      "7.8999999999999995\n"
     ]
    }
   ],
   "source": [
    "# Data keuangan\n",
    "keuangan = {\n",
    "'pengeluaran': [2, 2.5, 2.25, 2.5, 3.2, 2.5, 3.5, 4, 3],\n",
    "'pemasukan': [7.8, 7.5, 9, 7.6, 7.2, 7.5, 7, 10, 7.5]\n",
    "}\n",
    "\n",
    "# Perhitungan rata-rata pemasukan dan rata-rata pengeluaran\n",
    "total_pengeluaran = 0\n",
    "total_pemasukan = 0\n",
    "for biaya in keuangan['pengeluaran']: \n",
    "    total_pengeluaran += biaya\n",
    "for biaya in keuangan['pemasukan']: \n",
    "    total_pemasukan += biaya\n",
    "rata_rata_pengeluaran = total_pengeluaran / len(keuangan['pengeluaran'])\n",
    "rata_rata_pemasukan = total_pemasukan / len(keuangan['pemasukan'])\n",
    "print(rata_rata_pengeluaran) \n",
    "print(rata_rata_pemasukan)"
   ]
  },
  {
   "cell_type": "markdown",
   "id": "426062c2",
   "metadata": {},
   "source": [
    "### String Manipulation dengan Python"
   ]
  },
  {
   "cell_type": "markdown",
   "id": "6967829f",
   "metadata": {},
   "source": [
    "#### Apa itu String Manipulation?\n",
    "Aku belajar bahwa String Manipulation adalah teknik yang digunakan dalam memanipulasi data yang disimpan dalam tipe data str. Pada bahasa Python, untuk mempermudah proses pengolahan data, tipe data string dapat diperlakukan layaknya seperti tipe data list."
   ]
  },
  {
   "cell_type": "code",
   "execution_count": 15,
   "id": "8a26221d",
   "metadata": {},
   "outputs": [
    {
     "name": "stdout",
     "output_type": "stream",
     "text": [
      "SePatu NiKo\n",
      "SePatu \n",
      "NiKo\n",
      "11\n"
     ]
    }
   ],
   "source": [
    "nama_produk = \"Sepatu Niko\"\n",
    "nama_produk = nama_produk[:2] + \"P\" + nama_produk[3:9] + \"K\" + nama_produk[-1]\n",
    "print(nama_produk)\n",
    "print(nama_produk[:7])\n",
    "print(nama_produk[7:])\n",
    "print(len(nama_produk))"
   ]
  },
  {
   "cell_type": "markdown",
   "id": "00a9c914",
   "metadata": {},
   "source": [
    "#### Operator “+” untuk Tipe Data String\n",
    "Setelah aku mempelajari String Manipulation, sekarang aku beralih ke Operator “+”. Operator + pada dua string akan secara otomatis menggabungkan kedua string tersebut. Operator + juga dapat digunakan untuk menambahkan beberapa string secara bersamaan."
   ]
  },
  {
   "cell_type": "code",
   "execution_count": 16,
   "id": "e2e58dca",
   "metadata": {},
   "outputs": [
    {
     "name": "stdout",
     "output_type": "stream",
     "text": [
      "Arya Perdana\n",
      "Hi, saya Arya Perdana umur 27 tahun, tinggal di Jl. Pramuka Sari 3 No. 7.\n"
     ]
    }
   ],
   "source": [
    "nama_depan = 'Arya'\n",
    "nama_belakang = 'Perdana'\n",
    "nama_lengkap = nama_depan + ' ' + nama_belakang\n",
    "print(nama_lengkap)\n",
    "umur = '27 tahun'\n",
    "alamat = 'Jl. Pramuka Sari 3 No. 7'\n",
    "nama_umur_alamat = 'Hi, saya ' + nama_lengkap + ' umur ' + umur + ', tinggal di ' + alamat + '.'\n",
    "print(nama_umur_alamat)"
   ]
  },
  {
   "cell_type": "markdown",
   "id": "1e129303",
   "metadata": {},
   "source": [
    "#### Menghilangkan Spasi di Awal dan/atau di Akhir\n",
    "Sekarang aku akan mempelajari bagaimana menghilangkan kelebihan spasi yang dimiliki di awal dan/atau di akhir variabel string. \n",
    "<table>\n",
    "    <tr>\n",
    "        <th>Fitur</th>\n",
    "        <th>Keterangan</th>\n",
    "        <th>Contoh Penggunaan</th>\n",
    "    </tr>\n",
    "    <tr>\n",
    "        <td>.strip()</td>\n",
    "        <td>Menghilangkan kelebihan spasi pada awal dan akhir string.</td>\n",
    "        <td>kata_sambutan.strip()</td>\n",
    "    </tr>\n",
    "    <tr>\n",
    "        <td>.lstrip()</td>\n",
    "        <td>Menghilangkan kelebihan spasi pada awal string.</td>\n",
    "        <td>kata_sambutan.lstrip()</td>\n",
    "    </tr>\n",
    "    <tr>\n",
    "        <td>.rstrip()</td>\n",
    "        <td>Menghilangkan kelebihan spasi pada akhir string.</td>\n",
    "        <td>kata_sambutan.rstrip()</td>\n",
    "    </tr>\n",
    "</table>    "
   ]
  },
  {
   "cell_type": "code",
   "execution_count": 17,
   "id": "79ca70a8",
   "metadata": {},
   "outputs": [
    {
     "name": "stdout",
     "output_type": "stream",
     "text": [
      ">>> Fitur .strip()\n",
      "halo, selamat siang!\n",
      ">>> Fitur .lstrip()\n",
      "halo, selamat siang! \n",
      ">>> Fitur .rstrip()\n",
      " halo, selamat siang!\n"
     ]
    }
   ],
   "source": [
    "# Fitur .strip()\n",
    "print(\">>> Fitur .strip()\")\n",
    "kata_sambutan = ' halo, selamat siang! '\n",
    "kata_sambutan = kata_sambutan.strip()\n",
    "print(kata_sambutan)\n",
    "\n",
    "# Fitur .lstrip()\n",
    "print(\">>> Fitur .lstrip()\")\n",
    "kata_sambutan = ' halo, selamat siang! '\n",
    "kata_sambutan = kata_sambutan.lstrip()\n",
    "print(kata_sambutan)\n",
    "\n",
    "# Fitur .rstrip()\n",
    "print(\">>> Fitur .rstrip()\")\n",
    "kata_sambutan = ' halo, selamat siang! '\n",
    "kata_sambutan = kata_sambutan.rstrip()\n",
    "print(kata_sambutan)"
   ]
  },
  {
   "cell_type": "markdown",
   "id": "754fc7e1",
   "metadata": {},
   "source": [
    "#### Merubah Caps pada String\n",
    "Pada bagian ini, aku akan mempelajari cara merubah caps (penggunaan huruf besar dan kecil). Jika diawal kalimat pada suatu string yang dimiliki belum berupa huruf kapital, maka dengan menggunakan fitur .capitalize() kita dengan mudah mengubah string tersebut menjadi kalimat yang benar secara bahasa.\n",
    "\n",
    "<table>\n",
    "    <tr>\n",
    "        <th>Fitur</th>\n",
    "        <th>Keterangan</th>\n",
    "        <th>Contoh Penggunaan</th>\n",
    "    </tr>\n",
    "    <tr>\n",
    "        <td>.capitalize()</td>\n",
    "        <td>Mengubah elemen pertama dari string menjadi huruf kapital.</td>\n",
    "        <td>judul_buku.capitalize()</td>\n",
    "    </tr>\n",
    "    <tr>\n",
    "        <td>.lower()</td>\n",
    "        <td>Mengubah seluruh huruf dalam teks (string) menjadi huruf kecil</td>\n",
    "        <td>judul_buku.lower()</td>\n",
    "    </tr>\n",
    "    <tr>\n",
    "        <td>.upper()</td>\n",
    "        <td>Mengubah seluruh huruf dalam teks (string) menjadi huruf besar</td>\n",
    "        <td>judul_buku.upper()</td>\n",
    "    </tr>\n",
    "</table>    "
   ]
  },
  {
   "cell_type": "code",
   "execution_count": 18,
   "id": "66cfa2dc",
   "metadata": {},
   "outputs": [
    {
     "name": "stdout",
     "output_type": "stream",
     "text": [
      ">>> Fitur .capitalize()\n",
      "Belajar bahasa python\n",
      ">>> Fitur .lower()\n",
      "belajar bahasa python.\n",
      ">>> Fitur .upper()\n",
      "BELAJAR BAHASA PYTHON.\n"
     ]
    }
   ],
   "source": [
    "# Fitur .capitalize()\n",
    "print(\">>> Fitur .capitalize()\")\n",
    "judul_buku = 'belajar bahasa Python'\n",
    "print(judul_buku.capitalize())\n",
    "\n",
    "# Fitur .lower()\n",
    "print(\">>> Fitur .lower()\")\n",
    "judul_buku = 'Belajar Bahasa PYTHON.'\n",
    "print(judul_buku.lower())\n",
    "\n",
    "# Fitur .upper()\n",
    "print(\">>> Fitur .upper()\")\n",
    "judul_buku = 'Belajar Bahasa PYTHON.'\n",
    "print(judul_buku.upper())"
   ]
  },
  {
   "cell_type": "markdown",
   "id": "5e07d64b",
   "metadata": {},
   "source": [
    "#### Pemecahan, Penggabungan, dan Penggantian String\n",
    "Pada bagian ini, aku akan mempelajari bagaimana cara memecah suatu string dengan kondisi tertentu sehingga menghasilkan list of string. Kemudian, akan dipelajari bagaimana cara menggabungkan beberapa list of string menjadi string saja. Akhirnya, aku akan mengganti sub-string tertentu dengan sub-string lainnya sehingga mengubah string awalnya.\n",
    "\n",
    "<table>\n",
    "    <tr>\n",
    "        <th>Fitur</th>\n",
    "        <th>Keterangan</th>\n",
    "        <th>Contoh Penggunaan</th>\n",
    "    </tr>\n",
    "    <tr>\n",
    "        <td>.split()</td>\n",
    "        <td>Memecah sebuah string berdasarkan string lainnya ke dalam sebuah list.</td>\n",
    "        <td>frasa.split(\"dan\")</td>\n",
    "    </tr>\n",
    "    <tr>\n",
    "        <td>.join()</td>\n",
    "        <td>Menggabungkan sebuah list yang berisikan string berdasarkan sebuah string yang telah didefinisikan.</td>\n",
    "        <td>\" \".join(karakter)</td>\n",
    "    </tr>\n",
    "    <tr>\n",
    "        <td>.replace()</td>\n",
    "        <td>Menggabungkan sebuah list yang berisikan string berdasarkan sebuah string yang telah didefinisikan.</td>\n",
    "        <td>frasa.replace(\"apel\", \"jeruk\")</td>\n",
    "    </tr>\n",
    "</table>"
   ]
  },
  {
   "cell_type": "code",
   "execution_count": 19,
   "id": "67ee1df6",
   "metadata": {},
   "outputs": [
    {
     "name": "stdout",
     "output_type": "stream",
     "text": [
      ">>> Fitur .split()\n",
      "['ani ', ' budi ', ' wati ', ' johan']\n",
      "['ani', 'dan', 'budi', 'dan', 'wati', 'dan', 'johan']\n",
      ">>> Fitur .join()\n",
      "Ricky dan Peter dan Jordan\n",
      "Ricky Peter Jordan\n",
      ">>> Fitur .replace()\n",
      "jeruk malang jeruk yang paling segar, jeruk sehat, jeruk nikmat\n"
     ]
    }
   ],
   "source": [
    "# Fitur .split()\n",
    "print(\">>> Fitur .split()\")\n",
    "frasa = \"ani dan budi dan wati dan johan\"\n",
    "karakter = frasa.split(\"dan\")\n",
    "print(karakter)\n",
    "kata = frasa.split(\" \")\n",
    "print(kata)\n",
    "\n",
    "# Fitur .join()\n",
    "print(\">>> Fitur .join()\")\n",
    "pemisah = \" dan \"\n",
    "karakter = [\"Ricky\", \"Peter\", \"Jordan\"]\n",
    "frasa = pemisah.join(karakter)\n",
    "print(frasa)\n",
    "frasa = \" \".join(karakter)\n",
    "print(frasa)\n",
    "\n",
    "# Fitur .replace()\n",
    "print(\">>> Fitur .replace()\")\n",
    "frasa = \"apel malang apel yang paling segar, apel sehat, apel nikmat\"\n",
    "frasa = frasa.replace(\"apel\", \"jeruk\")\n",
    "print(frasa)"
   ]
  },
  {
   "cell_type": "markdown",
   "id": "5512f7f1",
   "metadata": {},
   "source": [
    "#### Menentukan Posisi dan Jumlah Sub-string pada String\n",
    "Pada bagian ini, aku akan mempelajari bagaimana cara menentukan posisi awal suatu sub-string dan jumlah kemunculan sub-string tersebut pada suatu string agar lebih memahami bagaimana penerapannya pada Python.\n",
    "\n",
    "<table>\n",
    "    <tr>\n",
    "        <th>Fitur</th>\n",
    "        <th>Keterangan</th>\n",
    "        <th>Contoh Penggunaan</th>\n",
    "    </tr>\n",
    "    <tr>\n",
    "        <td>.find()</td>\n",
    "        <td>Mengembalikan posisi dari sebuah teks (sub-string) lainnya dalam sebuah string</td>\n",
    "        <td>teks.find(\"Apel\")</td>\n",
    "    </tr>\n",
    "    <tr>\n",
    "        <td>.count()</td>\n",
    "        <td>Menghitung jumlah kemunculan sebuah teks (string) lainnya dalam suatu string (string yang dicari bersifat case sensitive).</td>\n",
    "        <td>teks.count(\"apel\")</td>\n",
    "    </tr>\n",
    "</table>"
   ]
  },
  {
   "cell_type": "code",
   "execution_count": 20,
   "id": "f4a98f78",
   "metadata": {},
   "outputs": [
    {
     "name": "stdout",
     "output_type": "stream",
     "text": [
      ">>> Fitur .find()\n",
      "0\n",
      "5\n",
      ">>> Fitur .count()\n",
      "3\n"
     ]
    }
   ],
   "source": [
    "teks = \"Apel malang adalah apel termanis dibanding apel-apel lainnya\"\n",
    "# Fitur .find()\n",
    "print(\">>> Fitur .find()\")\n",
    "print(teks.find(\"Apel\"))\n",
    "print(teks.find(\"malang\"))\n",
    "\n",
    "# Fitur .count()\n",
    "print(\">>> Fitur .count()\")\n",
    "kemunculan_kata_apel = teks.count(\"apel\")\n",
    "print(kemunculan_kata_apel)"
   ]
  },
  {
   "cell_type": "markdown",
   "id": "b8d7fa56",
   "metadata": {},
   "source": [
    "#### Menentukan String Apakah Diawali/Diakhiri oleh Sub-string\n",
    "\n",
    "<table>\n",
    "    <tr>\n",
    "        <th>Fitur</th>\n",
    "        <th>Keterangan</th>\n",
    "        <th>Contoh Penggunaan</th>\n",
    "    </tr>\n",
    "    <tr>\n",
    "        <td>.startswith()</td>\n",
    "        <td>Mengembalikan nilai kebenaran True ketika sebuah teks (string) diawali dengan sebuah teks lainnya.</td>\n",
    "        <td>teks.startswith(\"apel\")</td>\n",
    "    </tr>\n",
    "    <tr>\n",
    "        <td>.endswith()</td>\n",
    "        <td>Mengembalikan nilai kebenaran True ketika sebuah teks (string) diakhiri dengan sebuah teks lainnya.</td>\n",
    "        <td>teks.endswith(\"apel\")</td>\n",
    "    </tr>\n",
    "</table>"
   ]
  },
  {
   "cell_type": "code",
   "execution_count": 21,
   "id": "a3e1f7a6",
   "metadata": {},
   "outputs": [
    {
     "name": "stdout",
     "output_type": "stream",
     "text": [
      ">>> Fitur .startswith()\n",
      "True\n",
      "False\n",
      ">>> Fitur .endswith()\n",
      "True\n",
      "False\n"
     ]
    }
   ],
   "source": [
    "# Fitur .startswith()\n",
    "print(\">>> Fitur .startswith()\")\n",
    "teks = \"Apel malang adalah apel termanis dibanding apel-apel lainnya\"\n",
    "print(teks.startswith(\"Apel\"))\n",
    "print(teks.startswith(\"apel\"))\n",
    "\n",
    "# Fitur .endswith()\n",
    "print(\">>> Fitur .endswith()\")\n",
    "print(teks.endswith(\"lainnya\"))\n",
    "print(teks.endswith(\"apel\"))"
   ]
  },
  {
   "cell_type": "markdown",
   "id": "7492468c",
   "metadata": {},
   "source": [
    "#### Tugas Praktek\n",
    "Aku mengeklik dokumen PENGOLAHAN DATA TEKS. Di dalamnya aku diminta untuk meneliti popularitas antara buah salak dan buah jeruk berdasarkan judul artikel yang muncul di majalah Buah Sehat. Aku mulai menyiapkan susunan kodeku: "
   ]
  },
  {
   "cell_type": "code",
   "execution_count": 22,
   "id": "e45919a5",
   "metadata": {},
   "outputs": [
    {
     "name": "stdout",
     "output_type": "stream",
     "text": [
      "10\n",
      "11\n"
     ]
    }
   ],
   "source": [
    "judul_artikel = [\n",
    "\"Buah Salak Baik untuk Mata\", \"Buah Salak Kaya Potasium\", \n",
    "\"Buah Jeruk Kaya Vitamin C\", \"Buah Salak Kaya Manfaat\", \n",
    "\"Salak Baik untuk Jantung\", \"Jeruk dapat Memperkuat Tulang\", \n",
    "\"Jeruk Mencegah Penyakit Asma\", \"Jeruk Memperkuat Gigi\", \n",
    "\"Jeruk Mencegah Kolesterol Jahat\", \"Salak Mencegah Diabetes\", \n",
    "\"Salak Memperkuat Dinding Usus\", \"Salak Baik untuk Darah\",\n",
    "\"Jeruk Kaya Manfaat untuk Jantung\", \"Salak si Kecil yang Baik\", \n",
    "\"Jeruk dan Salak Buah Kaya Manfaat\", \"Buah Jeruk Enak\",\n",
    "\"Tips Panen Jeruk Ribuan Kilo\", \"Tips Bertanam Salak\", \n",
    "\"Salak Manis untuk Berbuka\", \"Jeruk Baik untuk Wajah\"\n",
    "]\n",
    "jumlah_artikel_jeruk = 0\n",
    "jumlah_artikel_salak = 0\n",
    "for judul in judul_artikel:\n",
    "    if judul.count(\"Jeruk\") > 0: \n",
    "        jumlah_artikel_jeruk += 1\n",
    "    if judul.count(\"Salak\") > 0:\n",
    "        jumlah_artikel_salak += 1\n",
    "print(jumlah_artikel_jeruk) \n",
    "print(jumlah_artikel_salak)"
   ]
  },
  {
   "cell_type": "markdown",
   "id": "40c34f84",
   "metadata": {},
   "source": [
    "#### Tugas Praktek\n",
    "Setelah selesai menghitung jumlah kemunculan kata, aku mencoba berpikir dari sudut pandang si pemilik majalah. Kalau aku jadi mereka, tentunya aku juga ingin tahu apakah kata yang muncul itu bermuatan positif atau tidak. Nah ini!"
   ]
  },
  {
   "cell_type": "code",
   "execution_count": 23,
   "id": "ecb53637",
   "metadata": {},
   "outputs": [
    {
     "name": "stdout",
     "output_type": "stream",
     "text": [
      "8\n",
      "9\n"
     ]
    }
   ],
   "source": [
    "judul_artikel = [\n",
    "\"Buah Salak Baik untuk Mata\", \"Buah Salak Kaya Potasium\", \n",
    "\"Buah Jeruk Kaya Vitamin C\", \"Buah Salak Kaya Manfaat\", \n",
    "\"Salak Baik untuk Jantung\", \"Jeruk dapat Memperkuat Tulang\", \n",
    "\"Jeruk Mencegah Penyakit Asma\", \"Jeruk Memperkuat Gigi\", \n",
    "\"Jeruk Mencegah Kolesterol Jahat\", \"Salak Mencegah Diabetes\", \n",
    "\"Salak Memperkuat Dinding Usus\", \"Salak Baik untuk Darah\",\n",
    "\"Jeruk Kaya Manfaat untuk Jantung\", \"Salak si Kecil yang Baik\", \n",
    "\"Jeruk dan Salak Buah Kaya Manfaat\", \"Buah Jeruk Enak\",\n",
    "\"Tips Panen Jeruk Ribuan Kilo\", \"Tips Bertanam Salak\", \n",
    "\"Salak Manis untuk Berbuka\", \"Jeruk Baik untuk Wajah\"\n",
    "]\n",
    "kata_positif = [\"Kaya\", \"Baik\", \"Mencegah\", \"Memperkuat\"]\n",
    "kata_positif_jeruk = 0\n",
    "kata_positif_salak = 0\n",
    "for judul in judul_artikel: \n",
    "    for kata in kata_positif:\n",
    "        if judul.count(\"Jeruk\") > 0 and judul.count(kata) > 0: \n",
    "            kata_positif_jeruk += 1\n",
    "        if judul.count(\"Salak\") > 0 and judul.count(kata) > 0:\n",
    "            kata_positif_salak += 1\n",
    "print(kata_positif_jeruk) \n",
    "print(kata_positif_salak)"
   ]
  },
  {
   "cell_type": "markdown",
   "id": "fbc50961",
   "metadata": {},
   "source": [
    "### Functions"
   ]
  },
  {
   "attachments": {
    "image.png": {
     "image/png": "[encoded data removed]"
    }
   },
   "cell_type": "markdown",
   "id": "65902743",
   "metadata": {},
   "source": [
    "#### Apa itu Functions?\n",
    "Function adalah sebuah blok statemen yang hanya akan dijalankan saat ia dipanggil. Secara tidak sadar, selama proses belajar ini, aku telah mencoba menggunakan fungsi-fungsi dalam bahasa pemrograman Python.\n",
    "\n",
    "Fungsi len() untuk mengukur jumlah elemen dalam sebuah list dan fungsi print() untuk menampilkan pesan pada layar konsol merupakan contoh dari bentuk fungsi yang telah disediakan oleh bahasa pemrograman Python, atau dengan kata lain built-in functions.\n",
    "\n",
    "Selain fungsi yang telah disediakan oleh Python, Python mengizinkan aku untuk mendeklarasikan fungsi dalam kode yang aku tuliskan yang dikenal dengan user defined function.\n",
    "\n",
    "![image.png](attachment:image.png)\n",
    "\n",
    "Aku menuliskan dalam catatanku:\n",
    "<ul>\n",
    "    <li>nama_fungsi adalah nama untuk fungsi yang kita definisikan, memiliki aturan seperti penamaan variabel</li>\n",
    "    <li>argument adalah variabel masukan ke fungsi, bisa tanpa variabel, satu variabel atau lebih</li>\n",
    "    <li>statement_1 … statement_n adalah algoritma yang telah kita transfer dalam bahasa Python. Ini merupakan inti dari fungsi yang kita definisikan. Seluruh statement adalah menjorok (indent) ke dalam seperti yang pernah dipelajari pada conditioning dan looping</li>\n",
    "    <li>return_value adalah variabel output dari fungsi kita. Bisa tanpa variabel, satu variabel, atau lebih.</li>\n",
    "</ul>    "
   ]
  },
  {
   "cell_type": "code",
   "execution_count": 24,
   "id": "5d862db8",
   "metadata": {},
   "outputs": [
    {
     "name": "stdout",
     "output_type": "stream",
     "text": [
      "Halo Dunia\n",
      "Aku sedang belajar bahasa Python\n"
     ]
    }
   ],
   "source": [
    "# Definisikan fungsi\n",
    "def contoh_fungsi():\n",
    "    print(\"Halo Dunia\")\n",
    "    print(\"Aku sedang belajar bahasa Python\")\n",
    "# Panggil fungsi yang telah didefinisikan\n",
    "contoh_fungsi()"
   ]
  },
  {
   "cell_type": "markdown",
   "id": "18afaea3",
   "metadata": {},
   "source": [
    "Sebuah fungsi dapat menerima serangkaian argumen pada bagian dalam kurung setelah nama fungsi telah aku definisikan.\n",
    "\n",
    "fungsi_dengan_argumen membutuhkan dua argumen (nama_depan, nama_belakang).\n",
    "Python akan menjalankan sebuah fungsi hanya ketika aku telah mensuplai jumlah argumen yang sesuai saat fungsi didefinisikan."
   ]
  },
  {
   "cell_type": "code",
   "execution_count": 25,
   "id": "8613ee7a",
   "metadata": {},
   "outputs": [
    {
     "name": "stdout",
     "output_type": "stream",
     "text": [
      "John Doe\n"
     ]
    }
   ],
   "source": [
    "# Definsikan fungsi \n",
    "def fungsi_dengan_argumen(nama_depan, nama_belakang):\n",
    "    print(nama_depan + \" \" + nama_belakang)\n",
    "# Panggil fungsi dengan memasukkan argumen\n",
    "# nama_depan yaitu \"John\" dan nama_belakang \"Doe\"\n",
    "fungsi_dengan_argumen(\"John\", \"Doe\")"
   ]
  },
  {
   "attachments": {
    "image.png": {
     "image/png": "[encoded data removed]"
    }
   },
   "cell_type": "markdown",
   "id": "ad6f4853",
   "metadata": {},
   "source": [
    "Saat aku melakukan pemanggilan fungsi dengan jumlah argumen yang tidak sesuai, Python akan mengembalikan pesan error yang menyatakan bahwa terdapat argumen yang belum disuplai agar fungsi dapat dijalankan dengan baik.\n",
    "\n",
    "Bahasa Python mengizinkan aku untuk memberikan suatu nilai default terkait dengan sebuah argumen dalam sebuah fungsi. Melalui fitur ini, suatu argumen dalam sebuah fungsi akan bersifat opsional.\n",
    "<img src=\"attachment:image.png\" width=\"550px\">\n",
    "Argumen nama_belakang menjadi bersifat opsional saat fungsi dipanggil. Jika argumen kedua tidak disuplai Python, akan secara otomatis menset argumen nama_belakang menjadi string kosong - empty string (\"\")."
   ]
  },
  {
   "cell_type": "code",
   "execution_count": 26,
   "id": "bcd44062",
   "metadata": {},
   "outputs": [
    {
     "name": "stdout",
     "output_type": "stream",
     "text": [
      "John \n",
      "John Doe\n"
     ]
    }
   ],
   "source": [
    "# Definsikan fungsi dengan nilai default argument kedua adalah \"\".\n",
    "def fungsi_dengan_argumen(nama_depan, nama_belakang = \"\"):\n",
    "\tprint(nama_depan + \" \" + nama_belakang)\n",
    "# Panggil fungsi dengan memasukkan argumen nama_depan \"John\"\n",
    "fungsi_dengan_argumen(\"John\")\n",
    "# Panggil fungsi dengan memasukkan argumen\n",
    "# nama_depan yaitu \"John\" dan nama_belakang \"Doe\"\n",
    "fungsi_dengan_argumen(\"John\", \"Doe\")"
   ]
  },
  {
   "cell_type": "markdown",
   "id": "a82c72e4",
   "metadata": {},
   "source": [
    "#### Tugas Praktek"
   ]
  },
  {
   "cell_type": "markdown",
   "id": "67ee1b6a",
   "metadata": {},
   "source": [
    "Tugas: \n",
    "tenentukan nilai rata-rata untuk data yang sudah saya buatkan dalam bentuk list of numeric bertipe int/float berikut ini."
   ]
  },
  {
   "cell_type": "code",
   "execution_count": 27,
   "id": "598bcd38",
   "metadata": {},
   "outputs": [
    {
     "name": "stdout",
     "output_type": "stream",
     "text": [
      "Rata-rata data1:\n",
      "105.0\n",
      "Rata-rata data2:\n",
      "73.0\n"
     ]
    }
   ],
   "source": [
    "# Dua buah data yang tersimpan dalam tipe list\n",
    "data1 = [70, 70, 70, 100, 100, 100, 120, 120, 150, 150]\n",
    "data2 = [50, 60, 60, 50, 70, 70, 100, 80, 100, 90]\n",
    "# Definisikan fungsi hitng_rata_rata\n",
    "def hitung_rata_rata(data):\n",
    "    jumlah = 0\n",
    "    for item in data:\n",
    "        jumlah += item\n",
    "    rata_rata = jumlah/len(data)\n",
    "    return rata_rata\n",
    "# Hitung nilai rata-rata dari kedua data yang dimiliki\n",
    "print('Rata-rata data1:')\n",
    "print(hitung_rata_rata(data1))\n",
    "print('Rata-rata data2:')\n",
    "print(hitung_rata_rata(data2))"
   ]
  },
  {
   "attachments": {
    "image.png": {
     "image/png": "[encoded data removed]"
    }
   },
   "cell_type": "markdown",
   "id": "6efc6fcc",
   "metadata": {},
   "source": [
    "Tugas:\n",
    "Aksara, yang kamu buat sudah cukup. Tolong buat satu fungsi untuk menghitung standar deviasi data dari data yang sudah saya berikan tadi (data dalam list of numeric bertipe int atau float).\n",
    "<img src=\"attachment:image.png\" width=\"550px\">"
   ]
  },
  {
   "cell_type": "code",
   "execution_count": 28,
   "id": "516b0d4e",
   "metadata": {},
   "outputs": [
    {
     "name": "stdout",
     "output_type": "stream",
     "text": [
      "Standar deviasi data1:\n",
      "28.722813232690143\n",
      "Standar deviasi data2:\n",
      "17.916472867168917\n"
     ]
    }
   ],
   "source": [
    "# Dua buah data yang tersimpan dalam tipe list\n",
    "data1 = [70, 70, 70, 100, 100, 100, 120, 120, 150, 150]\n",
    "data2 = [50, 60, 60, 50, 70, 70, 100, 80, 100, 90]\n",
    "# Fungsi rata-rata data\n",
    "def hitung_rata_rata(data):\n",
    "    jumlah = 0\n",
    "    for item in data:\n",
    "        jumlah += item\n",
    "    rata_rata = jumlah/len(data)\n",
    "    return rata_rata\n",
    "# Definisikan fungsi hitung_standar_deviasi\n",
    "def hitung_standar_deviasi(data):\n",
    "    rata_rata_data = hitung_rata_rata(data)\n",
    "    varians = 0\n",
    "    for item in data:\n",
    "        varians += (item - rata_rata_data) ** 2\n",
    "    varians /= len(data)\n",
    "    standar_deviasi = varians ** (1/2)\n",
    "    return standar_deviasi\n",
    "# Hitung nilai standar deviasi dari kedua data yang dimiliki\n",
    "print('Standar deviasi data1:')\n",
    "print(hitung_standar_deviasi(data1))\n",
    "print('Standar deviasi data2:')\n",
    "print(hitung_standar_deviasi(data2))"
   ]
  },
  {
   "cell_type": "markdown",
   "id": "a5a1018a",
   "metadata": {},
   "source": [
    " Tugas: Kali ini untuk menentukan nilai-rata dan standar deviasi dari data di tabel."
   ]
  },
  {
   "cell_type": "code",
   "execution_count": 29,
   "id": "bb03b00f",
   "metadata": {},
   "outputs": [
    {
     "name": "stdout",
     "output_type": "stream",
     "text": [
      "Rata-rata luas_tanah:\n",
      "105.0\n",
      "Standar deviasi luas_tanah:\n",
      "14.93311056335886\n",
      "\n",
      "Rata-rata luas_bangunan:\n",
      "73.0\n",
      "Standar deviasi luas_bangunan:\n",
      "6.025948374480153\n",
      "\n",
      "Rata-rata jarak:\n",
      "34.0\n",
      "Standar deviasi jarak:\n",
      "6.24005184770928\n",
      "\n",
      "Rata-rata harga:\n",
      "1155.0\n",
      "Standar deviasi harga:\n",
      "587.0594351517378\n",
      "\n"
     ]
    }
   ],
   "source": [
    "# Data properti\n",
    "tabel_properti = {\n",
    "'luas_tanah': [70, 70, 70, 100, 100, 100, 120, 120, 150, 150],\n",
    "'luas_bangunan': [50, 60, 60, 50, 70, 70, 100, 80, 100, 90],\n",
    "'jarak': [15, 30, 55, 30, 25, 50, 20, 50, 50, 15],\n",
    "'harga': [500, 400, 300, 700, 1000, 650, 2000, 1200, 1800, 3000]\n",
    "}\n",
    "# Fungsi rata-rata data\n",
    "def hitung_rata_rata(data):\n",
    "    jumlah = 0\n",
    "    for item in data:\n",
    "        jumlah += item\n",
    "    rata_rata = jumlah/len(data)\n",
    "    return rata_rata\n",
    "# Fungsi hitung_standar_deviasi\n",
    "def hitung_standar_deviasi(data):\n",
    "    rata_rata_data = hitung_rata_rata(data)\n",
    "    varians = 0\n",
    "    for item in data:\n",
    "        varians += (item - rata_rata_data) ** 2\n",
    "        varians /= len(data)\n",
    "    standar_deviasi = varians ** (1/2)\n",
    "    return standar_deviasi\n",
    "# Definisikan fungsi untuk menghitung rata-rata dan standar deviasi\n",
    "# setiap kolom pada tabel_properti yang diberikan oleh key dict.\n",
    "def deskripsi_properti(tabel):\n",
    "    for key in tabel.keys():\n",
    "        print('Rata-rata ' + key + ':')\n",
    "        print(hitung_rata_rata(tabel[key])) \n",
    "        print('Standar deviasi ' + key + ':')\n",
    "        print(hitung_standar_deviasi(tabel[key]))\n",
    "        print('')\n",
    "# Panggil fungsi deskripsi_properti untuk menghitung rata-rata \n",
    "# dan standar deviasi setiap kolom pada tabel_properti\n",
    "deskripsi_properti(tabel_properti)"
   ]
  },
  {
   "cell_type": "markdown",
   "id": "5e4ee011",
   "metadata": {},
   "source": [
    "### Manipulasi Berkas Teks dan Library Matematika pada Python"
   ]
  },
  {
   "cell_type": "markdown",
   "id": "5d3fc8c8",
   "metadata": {},
   "source": [
    "1. Membaca file di local computer\n",
    "Pengolahan berkas teks pada Python tidak membutuhkan proses import dependencies lainnya seperti pada bahasa-bahasa pemrograman lainnya. Untuk memanipulasi berkas teks pada bahasa pemrograman Python, mula-mula aku harus membuka/membuat berkas teks yang aku inginkan dengan menggunakan fungsi open(). Fungsi open() menerima 2 parameter, di mana parameter pertama merupakan nama dari file yang ingin dibuka/dibuat dan mode yang berkaitan dengan aksi yang ingin dilakukan terhadap file yang telah terbuka. Sebagai contoh:\n",
    "\n",
    "    file = open(\"hello.txt\", \"r\")\n",
    "    \n",
    "Argumen/ parameter \"r\" mengartikan bahwa file yang akan dibuka berada dalam mode “read” sehingga nantinya aku tidak dapat menambahkan/ menuliskan ulang isi tulisan dari file “hello.txt”.\n",
    "\n",
    "Perintah ini dapat digunakan untuk menutup file yang telah aku buka.\n",
    "\n",
    "    file.close()"
   ]
  },
  {
   "cell_type": "markdown",
   "id": "b40cb731",
   "metadata": {},
   "source": [
    "Aku juga belajar bahwa selain mode \"r\" yang hanya digunakan untuk membaca file, terdapat juga mode lainnya seperti:\n",
    "\n",
    "1. w: write, mode ini dapat aku gunakan untuk menulis ke dalam sebuah berkas teks. Jika berkas tidak tersedia, maka Python akan secara otomatis membuat sebuah berkas baru dengan nama yang telah di spesifikasikan. Saat menulis dengan menggunakan mode ini, jika file semula tidak kosong, maka isi yang sebelumnya terdapat di dalam berkas akan terhapus.\n",
    "2. a: append, mode ini dapat aku gunakan untuk menambahkan isi dari sebuah berkas teks. Mode ini juga akan membuat sebuah berkas teks baru dengan nama yang telah kita spesifikasikan jika berkas teks tidak tersedia.\n",
    "3. w+: write+, mode ini dapat aku gunakan untuk membaca ataupun menuliskan isi dari sebuah berkas teks.\n",
    "4. a+: append+, mode ini dapat aku gunakan untuk membaca ataupun menambahkan isi dari sebuah berkas teks."
   ]
  },
  {
   "cell_type": "markdown",
   "id": "1d2ae555",
   "metadata": {},
   "source": [
    "2. Membaca file dari url\n",
    "Berkas teks yang berada di suatu alamat di internet dapat dibaca berdasarkan url-nya. Untuk membacanya aku perlu menggunakan library requests. File hello.txt yang aku temui di local komputer ku juga ada di url berikut https://storage.googleapis.com/dqlab-dataset/hello.txt. \n",
    "\n",
    "Akhirnya, aku dapat menggunakan kode berikut\n",
    "\n",
    "    import requests\n",
    "    url = \"https://storage.googleapis.com/dqlab-dataset/hello.txt\"\n",
    "    response = requests.get(url)"
   ]
  },
  {
   "cell_type": "markdown",
   "id": "b4bef03c",
   "metadata": {},
   "source": [
    "#### Membaca Berkas Teks"
   ]
  },
  {
   "cell_type": "code",
   "execution_count": 30,
   "id": "cdb383ac",
   "metadata": {},
   "outputs": [
    {
     "name": "stdout",
     "output_type": "stream",
     "text": [
      "<Response [200]>\n",
      "\n",
      ">> Cetak isi file hello.txt menggunakan method response.iter_lines():\n",
      "b'Kita sedang belajar Python'\n",
      "b'Tepatnya belajar memanipulasi berkas teks'\n",
      "b'Memanipulasi berkas dengan Python sangatlah mudah!'\n"
     ]
    }
   ],
   "source": [
    "import requests\n",
    "url = \"https://storage.googleapis.com/dqlab-dataset/hello.txt\"\n",
    "response = requests.get(url)\n",
    "# Cetak kode status dari response\n",
    "print(response)\n",
    "# Cetak isi file hello.txt menggunakan method response.iter_lines()\n",
    "print(\"\\n>> Cetak isi file hello.txt menggunakan method response.iter_lines():\")\n",
    "for baris in response.iter_lines():\n",
    "\tprint(baris)"
   ]
  },
  {
   "cell_type": "markdown",
   "id": "0250eef0",
   "metadata": {},
   "source": [
    "Fungsi readlines() akan mengembalikan sebuah list yang setiap elemennya merupakan setiap baris dalam sebuah berkas teks."
   ]
  },
  {
   "cell_type": "code",
   "execution_count": 31,
   "id": "4e667585",
   "metadata": {},
   "outputs": [
    {
     "name": "stdout",
     "output_type": "stream",
     "text": [
      "<Response [200]>\n",
      "\n",
      ">> Cetak isi file hello.txt menggunakan atribut response.text:\n",
      "Kita sedang belajar Python\r\n",
      "Tepatnya belajar memanipulasi berkas teks\r\n",
      "Memanipulasi berkas dengan Python sangatlah mudah!\n"
     ]
    }
   ],
   "source": [
    "import requests\n",
    "url = \"https://storage.googleapis.com/dqlab-dataset/hello.txt\"\n",
    "response = requests.get(url)\n",
    "# Cetak kode status dari response\n",
    "print(response)\n",
    "# Cetak isi file hello.txt menggunakan atribut response.text\n",
    "print(\"\\n>> Cetak isi file hello.txt menggunakan atribut response.text:\")\n",
    "print(response.text)"
   ]
  },
  {
   "cell_type": "markdown",
   "id": "8b9880eb",
   "metadata": {},
   "source": [
    "#### Menulis Berkas Teks"
   ]
  },
  {
   "cell_type": "markdown",
   "id": "c4fe676e",
   "metadata": {},
   "source": [
    "Untuk menuliskan isi dari suatu berkas, aku dapat menggunakan fungsi write() atau writelines() yang telah disediakan oleh Python. Sebelum masuk ke dalam contoh penggunaan fungsi write() atau writelines(), penting bagiku untuk mengingat bahwa mode yang aku spesifikasikan pada fungsi open() akan mempengaruhi bagaimana Python menuliskan isi ke dalam berkas teks. Jika aku menggunakan mode \"w\", maka Python akan menghapus seluruh isi dalam berkas sebelum menuliskan konten yang aku spesifikasikan."
   ]
  },
  {
   "cell_type": "code",
   "execution_count": 32,
   "id": "65ef60c9",
   "metadata": {},
   "outputs": [],
   "source": [
    "# Menulis ke file hello.txt\n",
    "file = open(\"hello.txt\", \"w\")\n",
    "file.write(\"Sekarang kita belajar menulis dengan menggunakan Python\")\n",
    "file.write(\"Menulis konten file dengan mode w (write).\")\n",
    "file.close()"
   ]
  },
  {
   "cell_type": "markdown",
   "id": "811b445b",
   "metadata": {},
   "source": [
    "Ketika aku menulis pada berkas teks menggunakan mode \"a\", Python tidak akan menghapus isi dalam berkas dan hanya akan menambahkan konten. Aku mempelajari contoh berikut untuk memahami penggunaan fungsi write() dan writelines()"
   ]
  },
  {
   "cell_type": "code",
   "execution_count": 33,
   "id": "2f5fa54a",
   "metadata": {},
   "outputs": [],
   "source": [
    "# Menulis ke file dengan mode append\n",
    "file = open(\"hello.txt\", \"a\")\n",
    "file.writelines([\n",
    "\"Sekarang kita belajar menulis dengan menggunakan Python\", \n",
    "\"Menulis konten file dengan mode a (append).\"\n",
    "])\n",
    "file.close()"
   ]
  },
  {
   "cell_type": "code",
   "execution_count": 34,
   "id": "d348ba09",
   "metadata": {},
   "outputs": [
    {
     "name": "stdout",
     "output_type": "stream",
     "text": [
      "Halo\n",
      "\n"
     ]
    }
   ],
   "source": [
    "file = open(\"hello.txt\", \"w\")\n",
    "file.writelines([\"Halo\\n\", \"Belajar Python\\n\", \"Menyenangkan!\\n\"])\n",
    "file.close()\n",
    "file = open(\"hello.txt\", \"r\")\n",
    "for line in file:\n",
    "    print(line)\n",
    "    break"
   ]
  },
  {
   "cell_type": "code",
   "execution_count": 35,
   "id": "7b0b39cf",
   "metadata": {},
   "outputs": [
    {
     "name": "stdout",
     "output_type": "stream",
     "text": [
      "Menulis ke dalam filemenggunakan Python\n"
     ]
    }
   ],
   "source": [
    "file = open(\"hello.txt\", \"w\")\n",
    "file.writelines([\"Belajar\", \"Python\", \"Menyenangkan!\"])\n",
    "file.close()\n",
    "file = open(\"hello.txt\", \"w\")\n",
    "file.writelines(\"Menulis ke dalam file\")\n",
    "file.writelines(\"menggunakan Python\")\n",
    "file = open(\"hello.txt\", \"r\")\n",
    "for line in file:\n",
    "    print(line)"
   ]
  },
  {
   "cell_type": "markdown",
   "id": "4cd7234d",
   "metadata": {},
   "source": [
    "#### Fungsi dalam Library Matematika"
   ]
  },
  {
   "cell_type": "code",
   "execution_count": 36,
   "id": "38270a0b",
   "metadata": {},
   "outputs": [
    {
     "name": "stdout",
     "output_type": "stream",
     "text": [
      ">>> Fungsi math.ceil()\n",
      "11\n",
      "14\n",
      ">>> Fungsi math.floor()\n",
      "10\n",
      "13\n",
      ">>> Fungsi math.fabs()\n",
      "10.32\n",
      "13.87\n",
      ">>> Fungsi math.factorial()\n",
      "120\n",
      ">>> Fungsi math.fsum()\n",
      "6.0\n"
     ]
    }
   ],
   "source": [
    "# Import library math\n",
    "import math\n",
    "# Fungsi math.ceil()\n",
    "print(\">>> Fungsi math.ceil()\")    # membulatkan bilangkan ke atas\n",
    "x = 10.32\n",
    "y = 13.87\n",
    "x_ceil = math.ceil(x)\n",
    "y_ceil = math.ceil(y)\n",
    "print(x_ceil)\n",
    "print(y_ceil)\n",
    "# Fungsi math.floor()\n",
    "print(\">>> Fungsi math.floor()\")    # membulatkan bilangkan ke bawah\n",
    "x_floor = math.floor(x)\n",
    "y_floor = math.floor(y)\n",
    "print(x_floor)\n",
    "print(y_floor)\n",
    "# Fungsi math.fabs()\n",
    "print(\">>> Fungsi math.fabs()\")    # nilai absolut\n",
    "x = 10.32\n",
    "y = -13.87\n",
    "x = math.fabs(x)\n",
    "y = math.fabs(y)\n",
    "print(x)\n",
    "print(y)\n",
    "# Fungsi math.factorial()\n",
    "print(\">>> Fungsi math.factorial()\")\n",
    "x_factorial = math.factorial(5)\n",
    "print(x_factorial)\n",
    "# Fungsi math.fsum()\n",
    "print(\">>> Fungsi math.fsum()\")\n",
    "x = [1, 2, 3, 4, 5, 6, -6, -5, -4]\n",
    "total = math.fsum(x)\n",
    "print(total)"
   ]
  },
  {
   "cell_type": "code",
   "execution_count": 37,
   "id": "77bc3a4c",
   "metadata": {},
   "outputs": [
    {
     "name": "stdout",
     "output_type": "stream",
     "text": [
      ">>> Fungsi math.log()\n",
      "3.0\n",
      "4.0\n",
      "4.0\n",
      ">>> Fungsi math.sqrt()\n",
      "10.0\n",
      "1.4142135623730951\n",
      ">>> Fungsi math.copysign()\n",
      "-10.32\n",
      "-13.87\n",
      "15.0\n"
     ]
    }
   ],
   "source": [
    "# Import library math\n",
    "import math\n",
    "# Fungsi math.log()\n",
    "print(\">>> Fungsi math.log()\")\n",
    "# x = log basis 2 dari 8\n",
    "x = math.log(8, 2)\n",
    "# y = log basis 3 dari 81\n",
    "y = math.log(81, 3)\n",
    "# z = log basis 10 dari 10000\n",
    "z = math.log(10000, 10)\n",
    "print(x)\n",
    "print(y)\n",
    "print(z)\n",
    "# Fungsi math.sqrt()\n",
    "print(\">>> Fungsi math.sqrt()\")\n",
    "# akar kuadrat dari 100\n",
    "x = math.sqrt(100)\n",
    "print(x)\n",
    "# akar kuadrat dari 2\n",
    "y = math.sqrt(2)\n",
    "print(y)\n",
    "# Fungsi math.copysign()\n",
    "print(\">>> Fungsi math.copysign()\")\n",
    "x = 10.32\n",
    "y = -13.87\n",
    "z = -15\n",
    "x = math.copysign(x, z)\n",
    "y = math.copysign(y, z)\n",
    "z = math.copysign(z, 10)\n",
    "print(x)\n",
    "print(y)\n",
    "print(z)"
   ]
  },
  {
   "cell_type": "code",
   "execution_count": 38,
   "id": "bfe86aa7",
   "metadata": {},
   "outputs": [
    {
     "name": "stdout",
     "output_type": "stream",
     "text": [
      "-120.0\n"
     ]
    }
   ],
   "source": [
    "import math\n",
    "x = 5\n",
    "x_factorial = math.factorial(5)\n",
    "x_factorial = math.copysign(x_factorial, -10)\n",
    "print(x_factorial)"
   ]
  },
  {
   "cell_type": "code",
   "execution_count": 39,
   "id": "5c8c5cd0",
   "metadata": {},
   "outputs": [
    {
     "name": "stdout",
     "output_type": "stream",
     "text": [
      "0\n"
     ]
    }
   ],
   "source": [
    "import math\n",
    "x = [2.22,-3.33,4.44,-5.55]\n",
    "total = 0\n",
    "for i in x:\n",
    "    total += math.ceil(i)\n",
    "print(total)"
   ]
  },
  {
   "cell_type": "markdown",
   "id": "6a4f6331",
   "metadata": {},
   "source": [
    "#### Mini Project"
   ]
  },
  {
   "cell_type": "markdown",
   "id": "da7f54d1",
   "metadata": {},
   "source": [
    "Harga Rumah di Tanggerang"
   ]
  },
  {
   "cell_type": "code",
   "execution_count": 2,
   "id": "90714e03",
   "metadata": {},
   "outputs": [],
   "source": [
    "import requests\n",
    "from contextlib import closing\n",
    "import csv"
   ]
  },
  {
   "cell_type": "code",
   "execution_count": 12,
   "id": "844681a2",
   "metadata": {},
   "outputs": [
    {
     "data": {
      "text/plain": [
       "[{'tanah': '70', 'bangunan': '50', 'jarak_ke_pusat': '15', 'harga': '500'},\n",
       " {'tanah': '70', 'bangunan': '60', 'jarak_ke_pusat': '30', 'harga': '400'},\n",
       " {'tanah': '70', 'bangunan': '60', 'jarak_ke_pusat': '55', 'harga': '300'},\n",
       " {'tanah': '100', 'bangunan': '50', 'jarak_ke_pusat': '30', 'harga': '700'},\n",
       " {'tanah': '100', 'bangunan': '70', 'jarak_ke_pusat': '25', 'harga': '1000'},\n",
       " {'tanah': '100', 'bangunan': '70', 'jarak_ke_pusat': '50', 'harga': '650'},\n",
       " {'tanah': '120', 'bangunan': '100', 'jarak_ke_pusat': '20', 'harga': '2000'},\n",
       " {'tanah': '120', 'bangunan': '80', 'jarak_ke_pusat': '50', 'harga': '1200'},\n",
       " {'tanah': '150', 'bangunan': '100', 'jarak_ke_pusat': '50', 'harga': '1800'},\n",
       " {'tanah': '150', 'bangunan': '90', 'jarak_ke_pusat': '15', 'harga': '3000'}]"
      ]
     },
     "execution_count": 12,
     "metadata": {},
     "output_type": "execute_result"
    }
   ],
   "source": [
    "# STEP 1: \n",
    "# Baca file \"harga_rumah.txt\"\n",
    "url = \"https://storage.googleapis.com/dqlab-dataset/harga_rumah.txt\"\n",
    "data_harga_rumah = []\n",
    "with closing(requests.get(url, stream=True)) as r:\n",
    "    f = (line.decode('utf-8') for line in r.iter_lines())\n",
    "    data_harga_rumah = [row for row in csv.reader(f)]\n",
    "# Buat list of dict dengan nama harga rumah\n",
    "key_harga_rumah = data_harga_rumah[0]    \n",
    "harga_rumah = []\n",
    "for baris_harga_rumah in data_harga_rumah[1:]:\n",
    "    dict_harga_rumah = dict()\n",
    "    for i in range(len(baris_harga_rumah)):\n",
    "        dict_harga_rumah[key_harga_rumah[i]] = baris_harga_rumah[i]\n",
    "    harga_rumah.append(dict_harga_rumah)        \n",
    "harga_rumah"
   ]
  },
  {
   "cell_type": "code",
   "execution_count": 13,
   "id": "0a52b637",
   "metadata": {},
   "outputs": [],
   "source": [
    "# STEP 2:\n",
    "# Buat fungsi  get_all_specified_attribute yang menerima parameter list_of_dictionary \n",
    "# (tipe data list yang berisikan sekumpulan tipe data dictionary) dan specified_key \n",
    "# (tipe data string). Fungsi akan mengembalikan sebuah list yang berisikan seluruh \n",
    "# atribut dengan kunci (key) specified_key. \n",
    "def get_all_specified_attributes(list_of_dictionary, specified_key):\n",
    "    list_attributes = []\n",
    "    for data in list_of_dictionary:\n",
    "        attribute = data[specified_key]\n",
    "        list_attributes.append(attribute)\n",
    "    return list_attributes"
   ]
  },
  {
   "cell_type": "code",
   "execution_count": 14,
   "id": "6d2c63fd",
   "metadata": {},
   "outputs": [],
   "source": [
    "# STEP 3: \n",
    "# Buat fungsi fungsi min_value yang menerima parameter list_attributes (berupa \n",
    "# tipe data list) dan mengembalikan nilai terkecil dalam list_attributes \n",
    "def min_value(list_attributes):\n",
    "    min_attribute = 9999\n",
    "    for attr in list_attributes:\n",
    "        if int(attr) < min_attribute:\n",
    "            min_attribute = int(attr)\n",
    "    return min_attribute\n",
    "# Buat fungsi dan max_value yang menerima parameter list_attribute dan \n",
    "# mengembalikan nilai terbesar dalam list_attributes.\t\n",
    "def max_value(list_attributes):\n",
    "    max_attribute = -9999\n",
    "    for attr in list_attributes:\n",
    "        if int(attr) > max_attribute:\n",
    "            max_attribute = int(attr)\n",
    "    return max_attribute"
   ]
  },
  {
   "cell_type": "code",
   "execution_count": 15,
   "id": "7ca1308b",
   "metadata": {},
   "outputs": [],
   "source": [
    "# STEP 4: \n",
    "# Buat fungsi transform_attribute yang menerima parameter attr (sebuah \n",
    "# bilangan), max_attr (sebuah bilangan) dan min_attr (sebuah bilangan) \n",
    "# yang mengembalikan nilai transformasi dari sebuah attribute.\n",
    "def transform_attribute(attr, max_attr, min_attr):\n",
    "    nilai_transformasi = (attr - min_attr) / (max_attr - min_attr)\n",
    "    return nilai_transformasi"
   ]
  },
  {
   "cell_type": "code",
   "execution_count": 16,
   "id": "741b8b63",
   "metadata": {},
   "outputs": [],
   "source": [
    "# STEP 5:\n",
    "# Buat fungsi data_transformation yang menerima parameter list_of_dictionary \n",
    "# (sebuah list yang berisikan tipe data dictionary) dan list_attribute_names \n",
    "# (sebuah list yang berisikan tipe data string) mengembalikan hasil \n",
    "# transformasi data dari list_of_dictionary berdasarkan list_attribute_names \n",
    "# dan attr_info telah dispesifikasikan.\n",
    "def data_transformation(list_of_dictionary, list_attribute_names):\n",
    "    attr_info = {}\n",
    "    for attr_name in list_attribute_names:\n",
    "        specified_attribute = get_all_specified_attributes(list_of_dictionary, attr_name)\n",
    "        max_attr = max_value(specified_attribute)\n",
    "        min_attr = min_value(specified_attribute)\n",
    "        attr_info[attr_name] = {'max': max_attr, 'min': min_attr}\n",
    "        data_idx = 0\n",
    "        while(data_idx < len(list_of_dictionary)):\n",
    "            list_of_dictionary[data_idx][attr_name] = transform_attribute(int(list_of_dictionary[data_idx][attr_name]), max_attr, min_attr)\n",
    "            data_idx += 1\n",
    "    return list_of_dictionary, attr_info"
   ]
  },
  {
   "cell_type": "code",
   "execution_count": 17,
   "id": "57c92900",
   "metadata": {},
   "outputs": [],
   "source": [
    "# STEP 6:\n",
    "# Berdasarkan data baru dan attr_info ini, buat fungsi transform_data yang\n",
    "# menerima parameter data dan attr_info dan mengembalikan nilai atribut \n",
    "# dari data baru yang telah ditransformasikan.\n",
    "def transform_data(data, attr_info):\n",
    "    for key_name in data.keys():\n",
    "        data[key_name] = (data[key_name] - attr_info[key_name]['min']) / (attr_info[key_name]['max'] - attr_info[key_name]['min'])\n",
    "    return data"
   ]
  },
  {
   "cell_type": "code",
   "execution_count": 18,
   "id": "39b346e6",
   "metadata": {},
   "outputs": [],
   "source": [
    "# STEP 7:\n",
    "# Buat fungsi yang digunakan untuk sistem prediksi harga berdasarkan \n",
    "# nilai kemiripan atribut, yaitu argument input data dan list_of_data!\n",
    "def abs_value(value):\n",
    "    if value < 0:\n",
    "        return -value\n",
    "    else:\n",
    "        return value\n",
    "    \n",
    "def price_based_on_similarity(data, list_of_data):\n",
    "    prediksi_harga = 0\n",
    "    perbedaan_terkecil = 999\n",
    "    for data_point in list_of_data:\n",
    "        perbedaan = abs_value(data['tanah'] - data_point['tanah'])\n",
    "        perbedaan += abs_value(data['bangunan'] - data_point['bangunan'])\n",
    "        perbedaan += abs_value(data['jarak_ke_pusat'] - data_point['jarak_ke_pusat'])\n",
    "        if perbedaan < perbedaan_terkecil:\n",
    "            prediksi_harga = data_point['harga']\n",
    "            perbedaan_terkecil = perbedaan\n",
    "    return prediksi_harga"
   ]
  },
  {
   "cell_type": "code",
   "execution_count": 19,
   "id": "ea1c304e",
   "metadata": {},
   "outputs": [
    {
     "name": "stdout",
     "output_type": "stream",
     "text": [
      "Prediksi harga rumah:  1200\n"
     ]
    }
   ],
   "source": [
    "# STEP 8:\n",
    "# Hitung harga rumah yang telah ditransformasikan ke dalam variabel \n",
    "# harga_rumah berikut dengan atributnya attr_info\n",
    "harga_rumah, attr_info = data_transformation(harga_rumah, ['tanah', 'bangunan', 'jarak_ke_pusat'])\n",
    "# Gunakan variabel data untuk memprediksi harga rumah\n",
    "data = {'tanah': 110, 'bangunan': 80, 'jarak_ke_pusat': 35}\n",
    "# Transformasikan data tersebut dengan dengan menggunakan attr_info yang telah \n",
    "# diperoleh yang kembali disimpan ke variabel data.\n",
    "data = transform_data(data, attr_info)\n",
    "# Hitunglah prediksi harga dari variabel data tersebut.\n",
    "harga = price_based_on_similarity(data, harga_rumah)\n",
    "print(\"Prediksi harga rumah: \", harga)"
   ]
  }
 ],
 "metadata": {
  "hide_input": false,
  "kernelspec": {
   "display_name": "Python 3 (ipykernel)",
   "language": "python",
   "name": "python3"
  },
  "language_info": {
   "codemirror_mode": {
    "name": "ipython",
    "version": 3
   },
   "file_extension": ".py",
   "mimetype": "text/x-python",
   "name": "python",
   "nbconvert_exporter": "python",
   "pygments_lexer": "ipython3",
   "version": "3.9.7"
  }
 },
 "nbformat": 4,
 "nbformat_minor": 5
}
